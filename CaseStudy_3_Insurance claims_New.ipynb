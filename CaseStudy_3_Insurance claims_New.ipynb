{
 "cells": [
  {
   "cell_type": "code",
   "execution_count": 285,
   "id": "ae8a20d2",
   "metadata": {},
   "outputs": [],
   "source": [
    "import pandas as pd\n",
    "import numpy as np\n",
    "import datetime as dt\n",
    "from datetime import datetime\n",
    "import matplotlib.pyplot as plt\n",
    "import seaborn as sns \n",
    "import re\n",
    "\n",
    "# set the graphs to show in the jupyter notebook\n",
    "%matplotlib inline\n",
    "# set seabor graphs to a better style\n",
    "sns.set(style=\"ticks\")\n",
    "\n",
    "from scipy import stats as stats\n",
    "from scipy.stats import pearsonr"
   ]
  },
  {
   "cell_type": "markdown",
   "id": "2175d2b2",
   "metadata": {},
   "source": [
    "# 1. Import claims_data.csv and cust_data.csv which is provided to you and combine the two datasets appropriately to create a 360-degree view of the data. Use the same for the subsequent questions.\n"
   ]
  },
  {
   "cell_type": "code",
   "execution_count": 111,
   "id": "24ddc2ac",
   "metadata": {},
   "outputs": [],
   "source": [
    "claims = pd.read_csv('D:\\Python_classe_files\\Case Studies\\Python Foundation Case Study 3 - Insurance Claims Case Study\\Case Study 3 - Insurance Claims Case Study\\claims.csv')\n",
    "cust_data = pd.read_csv('D:\\Python_classe_files\\Case Studies\\Python Foundation Case Study 3 - Insurance Claims Case Study\\Case Study 3 - Insurance Claims Case Study\\cust_demographics.csv')"
   ]
  },
  {
   "cell_type": "code",
   "execution_count": 112,
   "id": "f2671dc5",
   "metadata": {},
   "outputs": [],
   "source": [
    "final_data= pd.merge(claims,cust_data,left_on='customer_id', right_on='CUST_ID', how = 'left' )"
   ]
  },
  {
   "cell_type": "markdown",
   "id": "42656a23",
   "metadata": {},
   "source": [
    "# 2. Perform a data audit for the datatypes and find out if there are any mismatch within the current datatypes of the columns and their business significance.\n"
   ]
  },
  {
   "cell_type": "code",
   "execution_count": 113,
   "id": "219d3902",
   "metadata": {},
   "outputs": [
    {
     "data": {
      "text/html": [
       "<div>\n",
       "<style scoped>\n",
       "    .dataframe tbody tr th:only-of-type {\n",
       "        vertical-align: middle;\n",
       "    }\n",
       "\n",
       "    .dataframe tbody tr th {\n",
       "        vertical-align: top;\n",
       "    }\n",
       "\n",
       "    .dataframe thead th {\n",
       "        text-align: right;\n",
       "    }\n",
       "</style>\n",
       "<table border=\"1\" class=\"dataframe\">\n",
       "  <thead>\n",
       "    <tr style=\"text-align: right;\">\n",
       "      <th></th>\n",
       "      <th>incident_cause</th>\n",
       "      <th>claim_date</th>\n",
       "      <th>claim_area</th>\n",
       "      <th>police_report</th>\n",
       "      <th>claim_type</th>\n",
       "      <th>claim_amount</th>\n",
       "      <th>fraudulent</th>\n",
       "      <th>gender</th>\n",
       "      <th>DateOfBirth</th>\n",
       "      <th>State</th>\n",
       "      <th>Contact</th>\n",
       "      <th>Segment</th>\n",
       "    </tr>\n",
       "  </thead>\n",
       "  <tbody>\n",
       "    <tr>\n",
       "      <th>0</th>\n",
       "      <td>Driver error</td>\n",
       "      <td>11/27/2017</td>\n",
       "      <td>Auto</td>\n",
       "      <td>No</td>\n",
       "      <td>Material only</td>\n",
       "      <td>$2980</td>\n",
       "      <td>No</td>\n",
       "      <td>Female</td>\n",
       "      <td>12-Jan-79</td>\n",
       "      <td>VT</td>\n",
       "      <td>789-916-8172</td>\n",
       "      <td>Platinum</td>\n",
       "    </tr>\n",
       "    <tr>\n",
       "      <th>1</th>\n",
       "      <td>Crime</td>\n",
       "      <td>10/03/2018</td>\n",
       "      <td>Home</td>\n",
       "      <td>Unknown</td>\n",
       "      <td>Material only</td>\n",
       "      <td>$2980</td>\n",
       "      <td>No</td>\n",
       "      <td>Female</td>\n",
       "      <td>13-Jan-70</td>\n",
       "      <td>ME</td>\n",
       "      <td>265-543-1264</td>\n",
       "      <td>Silver</td>\n",
       "    </tr>\n",
       "    <tr>\n",
       "      <th>2</th>\n",
       "      <td>Other driver error</td>\n",
       "      <td>02/02/2018</td>\n",
       "      <td>Auto</td>\n",
       "      <td>No</td>\n",
       "      <td>Material only</td>\n",
       "      <td>$3369.5</td>\n",
       "      <td>Yes</td>\n",
       "      <td>Female</td>\n",
       "      <td>11-Mar-84</td>\n",
       "      <td>TN</td>\n",
       "      <td>798-631-4758</td>\n",
       "      <td>Silver</td>\n",
       "    </tr>\n",
       "    <tr>\n",
       "      <th>3</th>\n",
       "      <td>Natural causes</td>\n",
       "      <td>06/17/2018</td>\n",
       "      <td>Auto</td>\n",
       "      <td>No</td>\n",
       "      <td>Material only</td>\n",
       "      <td>$1680</td>\n",
       "      <td>No</td>\n",
       "      <td>Female</td>\n",
       "      <td>01-May-86</td>\n",
       "      <td>MA</td>\n",
       "      <td>413-187-7945</td>\n",
       "      <td>Silver</td>\n",
       "    </tr>\n",
       "    <tr>\n",
       "      <th>4</th>\n",
       "      <td>Crime</td>\n",
       "      <td>01/13/2018</td>\n",
       "      <td>Auto</td>\n",
       "      <td>No</td>\n",
       "      <td>Material only</td>\n",
       "      <td>$2680</td>\n",
       "      <td>No</td>\n",
       "      <td>Male</td>\n",
       "      <td>13-May-77</td>\n",
       "      <td>NV</td>\n",
       "      <td>956-871-8691</td>\n",
       "      <td>Gold</td>\n",
       "    </tr>\n",
       "    <tr>\n",
       "      <th>...</th>\n",
       "      <td>...</td>\n",
       "      <td>...</td>\n",
       "      <td>...</td>\n",
       "      <td>...</td>\n",
       "      <td>...</td>\n",
       "      <td>...</td>\n",
       "      <td>...</td>\n",
       "      <td>...</td>\n",
       "      <td>...</td>\n",
       "      <td>...</td>\n",
       "      <td>...</td>\n",
       "      <td>...</td>\n",
       "    </tr>\n",
       "    <tr>\n",
       "      <th>1095</th>\n",
       "      <td>Other driver error</td>\n",
       "      <td>06/11/2017</td>\n",
       "      <td>Auto</td>\n",
       "      <td>No</td>\n",
       "      <td>Material only</td>\n",
       "      <td>$3059</td>\n",
       "      <td>Yes</td>\n",
       "      <td>NaN</td>\n",
       "      <td>NaN</td>\n",
       "      <td>NaN</td>\n",
       "      <td>NaN</td>\n",
       "      <td>NaN</td>\n",
       "    </tr>\n",
       "    <tr>\n",
       "      <th>1096</th>\n",
       "      <td>Natural causes</td>\n",
       "      <td>03/14/2018</td>\n",
       "      <td>Auto</td>\n",
       "      <td>No</td>\n",
       "      <td>Material only</td>\n",
       "      <td>$1520</td>\n",
       "      <td>No</td>\n",
       "      <td>NaN</td>\n",
       "      <td>NaN</td>\n",
       "      <td>NaN</td>\n",
       "      <td>NaN</td>\n",
       "      <td>NaN</td>\n",
       "    </tr>\n",
       "    <tr>\n",
       "      <th>1097</th>\n",
       "      <td>Other driver error</td>\n",
       "      <td>02/09/2018</td>\n",
       "      <td>Auto</td>\n",
       "      <td>No</td>\n",
       "      <td>Material and injury</td>\n",
       "      <td>$23575</td>\n",
       "      <td>Yes</td>\n",
       "      <td>NaN</td>\n",
       "      <td>NaN</td>\n",
       "      <td>NaN</td>\n",
       "      <td>NaN</td>\n",
       "      <td>NaN</td>\n",
       "    </tr>\n",
       "    <tr>\n",
       "      <th>1098</th>\n",
       "      <td>Other causes</td>\n",
       "      <td>03/21/2018</td>\n",
       "      <td>Auto</td>\n",
       "      <td>Unknown</td>\n",
       "      <td>Material and injury</td>\n",
       "      <td>$25120</td>\n",
       "      <td>No</td>\n",
       "      <td>NaN</td>\n",
       "      <td>NaN</td>\n",
       "      <td>NaN</td>\n",
       "      <td>NaN</td>\n",
       "      <td>NaN</td>\n",
       "    </tr>\n",
       "    <tr>\n",
       "      <th>1099</th>\n",
       "      <td>Other driver error</td>\n",
       "      <td>06/04/2017</td>\n",
       "      <td>Auto</td>\n",
       "      <td>Yes</td>\n",
       "      <td>Material and injury</td>\n",
       "      <td>$36685</td>\n",
       "      <td>Yes</td>\n",
       "      <td>NaN</td>\n",
       "      <td>NaN</td>\n",
       "      <td>NaN</td>\n",
       "      <td>NaN</td>\n",
       "      <td>NaN</td>\n",
       "    </tr>\n",
       "  </tbody>\n",
       "</table>\n",
       "<p>1100 rows × 12 columns</p>\n",
       "</div>"
      ],
      "text/plain": [
       "          incident_cause  claim_date claim_area police_report  \\\n",
       "0           Driver error  11/27/2017       Auto            No   \n",
       "1                  Crime  10/03/2018       Home       Unknown   \n",
       "2     Other driver error  02/02/2018       Auto            No   \n",
       "3         Natural causes  06/17/2018       Auto            No   \n",
       "4                  Crime  01/13/2018       Auto            No   \n",
       "...                  ...         ...        ...           ...   \n",
       "1095  Other driver error  06/11/2017       Auto            No   \n",
       "1096      Natural causes  03/14/2018       Auto            No   \n",
       "1097  Other driver error  02/09/2018       Auto            No   \n",
       "1098        Other causes  03/21/2018       Auto       Unknown   \n",
       "1099  Other driver error  06/04/2017       Auto           Yes   \n",
       "\n",
       "               claim_type claim_amount fraudulent  gender DateOfBirth State  \\\n",
       "0           Material only        $2980         No  Female   12-Jan-79    VT   \n",
       "1           Material only        $2980         No  Female   13-Jan-70    ME   \n",
       "2           Material only      $3369.5        Yes  Female   11-Mar-84    TN   \n",
       "3           Material only        $1680         No  Female   01-May-86    MA   \n",
       "4           Material only        $2680         No    Male   13-May-77    NV   \n",
       "...                   ...          ...        ...     ...         ...   ...   \n",
       "1095        Material only        $3059        Yes     NaN         NaN   NaN   \n",
       "1096        Material only        $1520         No     NaN         NaN   NaN   \n",
       "1097  Material and injury       $23575        Yes     NaN         NaN   NaN   \n",
       "1098  Material and injury       $25120         No     NaN         NaN   NaN   \n",
       "1099  Material and injury       $36685        Yes     NaN         NaN   NaN   \n",
       "\n",
       "           Contact   Segment  \n",
       "0     789-916-8172  Platinum  \n",
       "1     265-543-1264    Silver  \n",
       "2     798-631-4758    Silver  \n",
       "3     413-187-7945    Silver  \n",
       "4     956-871-8691      Gold  \n",
       "...            ...       ...  \n",
       "1095           NaN       NaN  \n",
       "1096           NaN       NaN  \n",
       "1097           NaN       NaN  \n",
       "1098           NaN       NaN  \n",
       "1099           NaN       NaN  \n",
       "\n",
       "[1100 rows x 12 columns]"
      ]
     },
     "execution_count": 113,
     "metadata": {},
     "output_type": "execute_result"
    }
   ],
   "source": [
    "final_data.select_dtypes(include='object')\n",
    "\n",
    "# As per checking the claim_date,DOB should be in datetime format , contact and amount in int format."
   ]
  },
  {
   "cell_type": "markdown",
   "id": "c161ffa0",
   "metadata": {},
   "source": [
    "# 3. Convert the column claim_amount to numeric. Use the appropriate modules/attributes to remove the $ sign."
   ]
  },
  {
   "cell_type": "code",
   "execution_count": 114,
   "id": "17c9a06a",
   "metadata": {},
   "outputs": [
    {
     "name": "stderr",
     "output_type": "stream",
     "text": [
      "C:\\Users\\Avinash Dubey\\AppData\\Local\\Temp\\ipykernel_25544\\3862560297.py:1: FutureWarning: The default value of regex will change from True to False in a future version. In addition, single character regular expressions will *not* be treated as literal strings when regex=True.\n",
      "  final_data['claim_amount']= final_data['claim_amount'].str.replace('$','')\n"
     ]
    }
   ],
   "source": [
    "final_data['claim_amount']= final_data['claim_amount'].str.replace('$','')"
   ]
  },
  {
   "cell_type": "code",
   "execution_count": 115,
   "id": "bfa670b7",
   "metadata": {},
   "outputs": [],
   "source": [
    "final_data['claim_amount']= final_data['claim_amount'].astype('float')"
   ]
  },
  {
   "cell_type": "markdown",
   "id": "841dc5b9",
   "metadata": {},
   "source": [
    "# 4. Of all the injury claims, some of them have gone unreported with the police. Create an alert flag (1,0) for all such claims."
   ]
  },
  {
   "cell_type": "code",
   "execution_count": 116,
   "id": "579cf679",
   "metadata": {},
   "outputs": [],
   "source": [
    "final_data['aler_flag']= final_data['police_report'].apply(lambda x: 1 if x=='Yes' else(0 if x=='No' else x))"
   ]
  },
  {
   "cell_type": "markdown",
   "id": "d89d298c",
   "metadata": {},
   "source": [
    "# 5. One customer can claim for insurance more than once and in each claim, multiple categories of claims can be involved. However, customer ID should remain unique.   Retain the most recent observation and delete any duplicated records inthe data based on the customer ID column."
   ]
  },
  {
   "cell_type": "code",
   "execution_count": 117,
   "id": "ef2f9fe6",
   "metadata": {},
   "outputs": [],
   "source": [
    "final_data['claim_date']= pd.to_datetime(final_data['claim_date'],format= '%m/%d/%Y')"
   ]
  },
  {
   "cell_type": "code",
   "execution_count": 118,
   "id": "6c7fd460",
   "metadata": {},
   "outputs": [],
   "source": [
    "sort_data= final_data[['customer_id', 'claim_date']].sort_values(by = 'claim_date', ascending=False)"
   ]
  },
  {
   "cell_type": "code",
   "execution_count": 119,
   "id": "93e23e62",
   "metadata": {},
   "outputs": [],
   "source": [
    "duplicate_value= sort_data.duplicated(subset='customer_id')"
   ]
  },
  {
   "cell_type": "code",
   "execution_count": 120,
   "id": "0074dada",
   "metadata": {},
   "outputs": [
    {
     "data": {
      "text/html": [
       "<div>\n",
       "<style scoped>\n",
       "    .dataframe tbody tr th:only-of-type {\n",
       "        vertical-align: middle;\n",
       "    }\n",
       "\n",
       "    .dataframe tbody tr th {\n",
       "        vertical-align: top;\n",
       "    }\n",
       "\n",
       "    .dataframe thead th {\n",
       "        text-align: right;\n",
       "    }\n",
       "</style>\n",
       "<table border=\"1\" class=\"dataframe\">\n",
       "  <thead>\n",
       "    <tr style=\"text-align: right;\">\n",
       "      <th></th>\n",
       "      <th>customer_id</th>\n",
       "      <th>claim_date</th>\n",
       "    </tr>\n",
       "  </thead>\n",
       "  <tbody>\n",
       "    <tr>\n",
       "      <th>2</th>\n",
       "      <td>30308357</td>\n",
       "      <td>2018-02-02</td>\n",
       "    </tr>\n",
       "    <tr>\n",
       "      <th>4</th>\n",
       "      <td>19269962</td>\n",
       "      <td>2018-01-13</td>\n",
       "    </tr>\n",
       "    <tr>\n",
       "      <th>605</th>\n",
       "      <td>53539195</td>\n",
       "      <td>2017-12-24</td>\n",
       "    </tr>\n",
       "    <tr>\n",
       "      <th>5</th>\n",
       "      <td>21831191</td>\n",
       "      <td>2017-10-04</td>\n",
       "    </tr>\n",
       "    <tr>\n",
       "      <th>630</th>\n",
       "      <td>47830476</td>\n",
       "      <td>2017-04-12</td>\n",
       "    </tr>\n",
       "    <tr>\n",
       "      <th>604</th>\n",
       "      <td>85357756</td>\n",
       "      <td>2017-02-23</td>\n",
       "    </tr>\n",
       "    <tr>\n",
       "      <th>603</th>\n",
       "      <td>84147585</td>\n",
       "      <td>2017-01-07</td>\n",
       "    </tr>\n",
       "  </tbody>\n",
       "</table>\n",
       "</div>"
      ],
      "text/plain": [
       "     customer_id claim_date\n",
       "2       30308357 2018-02-02\n",
       "4       19269962 2018-01-13\n",
       "605     53539195 2017-12-24\n",
       "5       21831191 2017-10-04\n",
       "630     47830476 2017-04-12\n",
       "604     85357756 2017-02-23\n",
       "603     84147585 2017-01-07"
      ]
     },
     "execution_count": 120,
     "metadata": {},
     "output_type": "execute_result"
    }
   ],
   "source": [
    "sort_data[duplicate_value]"
   ]
  },
  {
   "cell_type": "code",
   "execution_count": 121,
   "id": "439e0e1a",
   "metadata": {},
   "outputs": [],
   "source": [
    "final_data.drop_duplicates(subset= 'customer_id',keep='first',inplace= True,ignore_index= True)"
   ]
  },
  {
   "cell_type": "markdown",
   "id": "f9b46d7f",
   "metadata": {},
   "source": [
    "# 6. Check for missing values and impute the missing values with an appropriate value. (mean for continuous and mode for categorical)\n"
   ]
  },
  {
   "cell_type": "code",
   "execution_count": 122,
   "id": "540757a8",
   "metadata": {},
   "outputs": [],
   "source": [
    "final_data['DateOfBirth'] = pd.to_datetime(final_data['DateOfBirth'], format= \"%d-%b-%y\")"
   ]
  },
  {
   "cell_type": "code",
   "execution_count": 123,
   "id": "81b451e9",
   "metadata": {},
   "outputs": [],
   "source": [
    "categorical = final_data.select_dtypes(include = 'object')\n",
    "numerical = final_data.select_dtypes(exclude='object')"
   ]
  },
  {
   "cell_type": "code",
   "execution_count": 124,
   "id": "6e7dfa30",
   "metadata": {},
   "outputs": [
    {
     "data": {
      "text/plain": [
       "claim_id                0\n",
       "customer_id             0\n",
       "incident_cause          0\n",
       "claim_date              0\n",
       "claim_area              0\n",
       "police_report           0\n",
       "claim_type              0\n",
       "claim_amount           65\n",
       "total_policy_claims    10\n",
       "fraudulent              0\n",
       "CUST_ID                15\n",
       "gender                 15\n",
       "DateOfBirth            15\n",
       "State                  15\n",
       "Contact                15\n",
       "Segment                15\n",
       "aler_flag               0\n",
       "dtype: int64"
      ]
     },
     "execution_count": 124,
     "metadata": {},
     "output_type": "execute_result"
    }
   ],
   "source": [
    "final_data.isnull().sum()"
   ]
  },
  {
   "cell_type": "code",
   "execution_count": 125,
   "id": "5fffbe0b",
   "metadata": {},
   "outputs": [],
   "source": [
    "for i in categorical.columns:\n",
    "    categorical[i].fillna(categorical[i].mode()[0],inplace=True)"
   ]
  },
  {
   "cell_type": "code",
   "execution_count": 126,
   "id": "db8a50a9",
   "metadata": {},
   "outputs": [
    {
     "data": {
      "text/plain": [
       "claim_id                0\n",
       "customer_id             0\n",
       "claim_date              0\n",
       "claim_amount           65\n",
       "total_policy_claims    10\n",
       "CUST_ID                15\n",
       "DateOfBirth            15\n",
       "dtype: int64"
      ]
     },
     "execution_count": 126,
     "metadata": {},
     "output_type": "execute_result"
    }
   ],
   "source": [
    "numerical.isnull().sum()"
   ]
  },
  {
   "cell_type": "code",
   "execution_count": 127,
   "id": "4025c647",
   "metadata": {},
   "outputs": [],
   "source": [
    "for i in numerical.columns:\n",
    "    numerical[i].fillna(numerical[i].mean(), inplace=True)"
   ]
  },
  {
   "cell_type": "code",
   "execution_count": 128,
   "id": "66eb2df1",
   "metadata": {},
   "outputs": [
    {
     "data": {
      "text/plain": [
       "claim_id               0\n",
       "customer_id            0\n",
       "claim_date             0\n",
       "claim_amount           0\n",
       "total_policy_claims    0\n",
       "CUST_ID                0\n",
       "DateOfBirth            0\n",
       "dtype: int64"
      ]
     },
     "execution_count": 128,
     "metadata": {},
     "output_type": "execute_result"
    }
   ],
   "source": [
    "numerical.isna().sum()"
   ]
  },
  {
   "cell_type": "code",
   "execution_count": 129,
   "id": "5d681496",
   "metadata": {},
   "outputs": [],
   "source": [
    "concat_data= pd.concat([numerical, categorical],axis=1)"
   ]
  },
  {
   "cell_type": "markdown",
   "id": "d3ac2673",
   "metadata": {},
   "source": [
    "# 7. Calculate the age of customers in years. Based on the age, categorize thecustomers according to the below criteria"
   ]
  },
  {
   "cell_type": "markdown",
   "id": "9bc537ce",
   "metadata": {},
   "source": [
    "# Children < 18, Youth 18-30, Adult 30-60, Senior > 60"
   ]
  },
  {
   "cell_type": "code",
   "execution_count": 130,
   "id": "34f55c29",
   "metadata": {},
   "outputs": [
    {
     "data": {
      "text/plain": [
       "2018"
      ]
     },
     "execution_count": 130,
     "metadata": {},
     "output_type": "execute_result"
    }
   ],
   "source": [
    "concat_data['claim_date'].max().year"
   ]
  },
  {
   "cell_type": "code",
   "execution_count": 131,
   "id": "2acdcc81",
   "metadata": {},
   "outputs": [
    {
     "data": {
      "text/plain": [
       "2023"
      ]
     },
     "execution_count": 131,
     "metadata": {},
     "output_type": "execute_result"
    }
   ],
   "source": [
    "dt.datetime.now().year"
   ]
  },
  {
   "cell_type": "code",
   "execution_count": 132,
   "id": "76741af4",
   "metadata": {},
   "outputs": [],
   "source": [
    "concat_data['Age']= concat_data['claim_date'].max().year- concat_data['DateOfBirth'].dt.year"
   ]
  },
  {
   "cell_type": "code",
   "execution_count": 133,
   "id": "b7693189",
   "metadata": {},
   "outputs": [],
   "source": [
    "concat_data['Age_cat']= concat_data['Age'].apply(lambda x: 'children' if x<18 else('youth' if 18<=x<=30 else('Adult' if 30<=x<60 else 'Senior')))"
   ]
  },
  {
   "cell_type": "code",
   "execution_count": 134,
   "id": "b6eee6c5",
   "metadata": {},
   "outputs": [
    {
     "data": {
      "text/html": [
       "<div>\n",
       "<style scoped>\n",
       "    .dataframe tbody tr th:only-of-type {\n",
       "        vertical-align: middle;\n",
       "    }\n",
       "\n",
       "    .dataframe tbody tr th {\n",
       "        vertical-align: top;\n",
       "    }\n",
       "\n",
       "    .dataframe thead th {\n",
       "        text-align: right;\n",
       "    }\n",
       "</style>\n",
       "<table border=\"1\" class=\"dataframe\">\n",
       "  <thead>\n",
       "    <tr style=\"text-align: right;\">\n",
       "      <th></th>\n",
       "      <th>claim_id</th>\n",
       "      <th>customer_id</th>\n",
       "      <th>claim_date</th>\n",
       "      <th>claim_amount</th>\n",
       "      <th>total_policy_claims</th>\n",
       "      <th>CUST_ID</th>\n",
       "      <th>DateOfBirth</th>\n",
       "      <th>incident_cause</th>\n",
       "      <th>claim_area</th>\n",
       "      <th>police_report</th>\n",
       "      <th>claim_type</th>\n",
       "      <th>fraudulent</th>\n",
       "      <th>gender</th>\n",
       "      <th>State</th>\n",
       "      <th>Contact</th>\n",
       "      <th>Segment</th>\n",
       "      <th>aler_flag</th>\n",
       "      <th>Age</th>\n",
       "      <th>Age_cat</th>\n",
       "    </tr>\n",
       "  </thead>\n",
       "  <tbody>\n",
       "    <tr>\n",
       "      <th>9</th>\n",
       "      <td>63246959</td>\n",
       "      <td>33507197</td>\n",
       "      <td>2017-07-22</td>\n",
       "      <td>2748.50000</td>\n",
       "      <td>2.0</td>\n",
       "      <td>33507197.0</td>\n",
       "      <td>2066-09-09</td>\n",
       "      <td>Crime</td>\n",
       "      <td>Auto</td>\n",
       "      <td>No</td>\n",
       "      <td>Material only</td>\n",
       "      <td>Yes</td>\n",
       "      <td>Female</td>\n",
       "      <td>RI</td>\n",
       "      <td>165-519-4583</td>\n",
       "      <td>Gold</td>\n",
       "      <td>0</td>\n",
       "      <td>-48</td>\n",
       "      <td>children</td>\n",
       "    </tr>\n",
       "    <tr>\n",
       "      <th>13</th>\n",
       "      <td>53780662</td>\n",
       "      <td>21240703</td>\n",
       "      <td>2018-09-19</td>\n",
       "      <td>1050.00000</td>\n",
       "      <td>1.0</td>\n",
       "      <td>21240703.0</td>\n",
       "      <td>2063-07-22</td>\n",
       "      <td>Other driver error</td>\n",
       "      <td>Auto</td>\n",
       "      <td>Unknown</td>\n",
       "      <td>Material only</td>\n",
       "      <td>No</td>\n",
       "      <td>Male</td>\n",
       "      <td>MD</td>\n",
       "      <td>473-561-2675</td>\n",
       "      <td>Silver</td>\n",
       "      <td>Unknown</td>\n",
       "      <td>-45</td>\n",
       "      <td>children</td>\n",
       "    </tr>\n",
       "    <tr>\n",
       "      <th>17</th>\n",
       "      <td>7809917</td>\n",
       "      <td>63916778</td>\n",
       "      <td>2017-07-22</td>\n",
       "      <td>17800.00000</td>\n",
       "      <td>1.0</td>\n",
       "      <td>63916778.0</td>\n",
       "      <td>2066-09-07</td>\n",
       "      <td>Other causes</td>\n",
       "      <td>Auto</td>\n",
       "      <td>No</td>\n",
       "      <td>Injury only</td>\n",
       "      <td>No</td>\n",
       "      <td>Male</td>\n",
       "      <td>IL</td>\n",
       "      <td>146-157-4572</td>\n",
       "      <td>Platinum</td>\n",
       "      <td>0</td>\n",
       "      <td>-48</td>\n",
       "      <td>children</td>\n",
       "    </tr>\n",
       "    <tr>\n",
       "      <th>18</th>\n",
       "      <td>29205389</td>\n",
       "      <td>17004138</td>\n",
       "      <td>2017-06-25</td>\n",
       "      <td>31380.00000</td>\n",
       "      <td>1.0</td>\n",
       "      <td>17004138.0</td>\n",
       "      <td>2065-08-13</td>\n",
       "      <td>Natural causes</td>\n",
       "      <td>Auto</td>\n",
       "      <td>No</td>\n",
       "      <td>Injury only</td>\n",
       "      <td>No</td>\n",
       "      <td>Female</td>\n",
       "      <td>WA</td>\n",
       "      <td>436-354-4682</td>\n",
       "      <td>Silver</td>\n",
       "      <td>0</td>\n",
       "      <td>-47</td>\n",
       "      <td>children</td>\n",
       "    </tr>\n",
       "    <tr>\n",
       "      <th>20</th>\n",
       "      <td>32630720</td>\n",
       "      <td>75584003</td>\n",
       "      <td>2017-02-03</td>\n",
       "      <td>12444.72714</td>\n",
       "      <td>1.0</td>\n",
       "      <td>75584003.0</td>\n",
       "      <td>2067-04-22</td>\n",
       "      <td>Crime</td>\n",
       "      <td>Auto</td>\n",
       "      <td>No</td>\n",
       "      <td>Material only</td>\n",
       "      <td>No</td>\n",
       "      <td>Female</td>\n",
       "      <td>OK</td>\n",
       "      <td>723-418-3248</td>\n",
       "      <td>Silver</td>\n",
       "      <td>0</td>\n",
       "      <td>-49</td>\n",
       "      <td>children</td>\n",
       "    </tr>\n",
       "  </tbody>\n",
       "</table>\n",
       "</div>"
      ],
      "text/plain": [
       "    claim_id  customer_id claim_date  claim_amount  total_policy_claims  \\\n",
       "9   63246959     33507197 2017-07-22    2748.50000                  2.0   \n",
       "13  53780662     21240703 2018-09-19    1050.00000                  1.0   \n",
       "17   7809917     63916778 2017-07-22   17800.00000                  1.0   \n",
       "18  29205389     17004138 2017-06-25   31380.00000                  1.0   \n",
       "20  32630720     75584003 2017-02-03   12444.72714                  1.0   \n",
       "\n",
       "       CUST_ID DateOfBirth      incident_cause claim_area police_report  \\\n",
       "9   33507197.0  2066-09-09               Crime       Auto            No   \n",
       "13  21240703.0  2063-07-22  Other driver error       Auto       Unknown   \n",
       "17  63916778.0  2066-09-07        Other causes       Auto            No   \n",
       "18  17004138.0  2065-08-13      Natural causes       Auto            No   \n",
       "20  75584003.0  2067-04-22               Crime       Auto            No   \n",
       "\n",
       "       claim_type fraudulent  gender State       Contact   Segment aler_flag  \\\n",
       "9   Material only        Yes  Female    RI  165-519-4583      Gold         0   \n",
       "13  Material only         No    Male    MD  473-561-2675    Silver   Unknown   \n",
       "17    Injury only         No    Male    IL  146-157-4572  Platinum         0   \n",
       "18    Injury only         No  Female    WA  436-354-4682    Silver         0   \n",
       "20  Material only         No  Female    OK  723-418-3248    Silver         0   \n",
       "\n",
       "    Age   Age_cat  \n",
       "9   -48  children  \n",
       "13  -45  children  \n",
       "17  -48  children  \n",
       "18  -47  children  \n",
       "20  -49  children  "
      ]
     },
     "execution_count": 134,
     "metadata": {},
     "output_type": "execute_result"
    }
   ],
   "source": [
    "concat_data[concat_data['Age']<18].head()"
   ]
  },
  {
   "cell_type": "markdown",
   "id": "7e55cc67",
   "metadata": {},
   "source": [
    "# 8. What is the average amount claimed by the customers from various segments?"
   ]
  },
  {
   "cell_type": "code",
   "execution_count": 135,
   "id": "a7ad74f8",
   "metadata": {},
   "outputs": [
    {
     "data": {
      "text/html": [
       "<div>\n",
       "<style scoped>\n",
       "    .dataframe tbody tr th:only-of-type {\n",
       "        vertical-align: middle;\n",
       "    }\n",
       "\n",
       "    .dataframe tbody tr th {\n",
       "        vertical-align: top;\n",
       "    }\n",
       "\n",
       "    .dataframe thead th {\n",
       "        text-align: right;\n",
       "    }\n",
       "</style>\n",
       "<table border=\"1\" class=\"dataframe\">\n",
       "  <thead>\n",
       "    <tr style=\"text-align: right;\">\n",
       "      <th></th>\n",
       "      <th>claim_amount</th>\n",
       "    </tr>\n",
       "    <tr>\n",
       "      <th>Segment</th>\n",
       "      <th></th>\n",
       "    </tr>\n",
       "  </thead>\n",
       "  <tbody>\n",
       "    <tr>\n",
       "      <th>Gold</th>\n",
       "      <td>12675.262946</td>\n",
       "    </tr>\n",
       "    <tr>\n",
       "      <th>Platinum</th>\n",
       "      <td>12368.233815</td>\n",
       "    </tr>\n",
       "    <tr>\n",
       "      <th>Silver</th>\n",
       "      <td>12267.349306</td>\n",
       "    </tr>\n",
       "  </tbody>\n",
       "</table>\n",
       "</div>"
      ],
      "text/plain": [
       "          claim_amount\n",
       "Segment               \n",
       "Gold      12675.262946\n",
       "Platinum  12368.233815\n",
       "Silver    12267.349306"
      ]
     },
     "execution_count": 135,
     "metadata": {},
     "output_type": "execute_result"
    }
   ],
   "source": [
    "concat_data[['Segment','claim_amount']].groupby('Segment')['claim_amount'].mean().to_frame()"
   ]
  },
  {
   "cell_type": "markdown",
   "id": "d46484a7",
   "metadata": {},
   "source": [
    "# 9. What is the total claim amount based on incident cause for all the claimsthat have been done at least 20 days prior to 1st of October, 2018."
   ]
  },
  {
   "cell_type": "code",
   "execution_count": 136,
   "id": "ad6f28e6",
   "metadata": {},
   "outputs": [],
   "source": [
    "filtered_data= concat_data[concat_data['claim_date']<= pd.to_datetime('2018-10-01')- pd.Timedelta(days= 20)]"
   ]
  },
  {
   "cell_type": "code",
   "execution_count": 138,
   "id": "ed86fd79",
   "metadata": {},
   "outputs": [
    {
     "data": {
      "text/plain": [
       "incident_cause\n",
       "Crime                 7.294856e+05\n",
       "Driver error          3.292987e+06\n",
       "Natural causes        1.315024e+06\n",
       "Other causes          3.779919e+06\n",
       "Other driver error    3.384079e+06\n",
       "Name: claim_amount, dtype: float64"
      ]
     },
     "execution_count": 138,
     "metadata": {},
     "output_type": "execute_result"
    }
   ],
   "source": [
    "filtered_data.groupby('incident_cause')['claim_amount'].sum()"
   ]
  },
  {
   "cell_type": "markdown",
   "id": "d7da9dba",
   "metadata": {},
   "source": [
    "# 10. How many adults from TX, DE and AK claimed insurance for driver related issues and causes? "
   ]
  },
  {
   "cell_type": "code",
   "execution_count": 141,
   "id": "b5b5c761",
   "metadata": {},
   "outputs": [
    {
     "data": {
      "text/plain": [
       "State\n",
       "AK    4\n",
       "DE    2\n",
       "TX    2\n",
       "Name: Age_cat, dtype: int64"
      ]
     },
     "execution_count": 141,
     "metadata": {},
     "output_type": "execute_result"
    }
   ],
   "source": [
    "concat_data[['incident_cause','State','Age_cat']][(((concat_data['State']=='TX')|(concat_data['State']=='DE')|(concat_data['State']=='AK')) & (concat_data['incident_cause']=='Driver error')) & (concat_data['Age_cat']=='Adult')].groupby('State')['Age_cat'].count()"
   ]
  },
  {
   "cell_type": "markdown",
   "id": "68209f8a",
   "metadata": {},
   "source": [
    "# 11. Draw a pie chart between the aggregated value of claim amount based on gender and segment. Represent the claim amount as a percentage onthe pie chart."
   ]
  },
  {
   "cell_type": "code",
   "execution_count": 162,
   "id": "f58f5254",
   "metadata": {},
   "outputs": [],
   "source": [
    "pie_data= concat_data[['claim_amount','gender','Segment']].groupby(['gender','Segment'])['claim_amount'].sum().reset_index()"
   ]
  },
  {
   "cell_type": "code",
   "execution_count": 167,
   "id": "044045ce",
   "metadata": {},
   "outputs": [],
   "source": [
    "df_pie= pie_data.pivot(index= 'Segment',columns='gender',values='claim_amount').stack()"
   ]
  },
  {
   "cell_type": "code",
   "execution_count": 172,
   "id": "ddbb07fe",
   "metadata": {},
   "outputs": [
    {
     "data": {
      "text/plain": [
       "Text(0.5, 1.0, 'claim amount of male/female with segment')"
      ]
     },
     "execution_count": 172,
     "metadata": {},
     "output_type": "execute_result"
    },
    {
     "data": {
      "image/png": "[encoded data removed]",
      "text/plain": [
       "<Figure size 640x480 with 1 Axes>"
      ]
     },
     "metadata": {},
     "output_type": "display_data"
    }
   ],
   "source": [
    "plt.pie(df_pie, labels=df_pie.index,autopct='%1.1f%%', colors=['orange', 'green'])\n",
    "plt.title('claim amount of male/female with segment')"
   ]
  },
  {
   "cell_type": "markdown",
   "id": "d72c6623",
   "metadata": {},
   "source": [
    "# 12. Among males and females, which gender had claimed the most for any type of driver related issues? E.g. This metric can be compared using a bar chart."
   ]
  },
  {
   "cell_type": "code",
   "execution_count": 185,
   "id": "28235972",
   "metadata": {},
   "outputs": [],
   "source": [
    "gender_claim=concat_data[['gender','incident_cause']][(concat_data['incident_cause']=='Driver error')|(concat_data['incident_cause']=='Other driver error')].groupby(['gender','incident_cause'])['incident_cause'].count().reset_index(name='count')"
   ]
  },
  {
   "cell_type": "code",
   "execution_count": 186,
   "id": "4dca5e0b",
   "metadata": {},
   "outputs": [
    {
     "data": {
      "text/html": [
       "<div>\n",
       "<style scoped>\n",
       "    .dataframe tbody tr th:only-of-type {\n",
       "        vertical-align: middle;\n",
       "    }\n",
       "\n",
       "    .dataframe tbody tr th {\n",
       "        vertical-align: top;\n",
       "    }\n",
       "\n",
       "    .dataframe thead th {\n",
       "        text-align: right;\n",
       "    }\n",
       "</style>\n",
       "<table border=\"1\" class=\"dataframe\">\n",
       "  <thead>\n",
       "    <tr style=\"text-align: right;\">\n",
       "      <th></th>\n",
       "      <th>gender</th>\n",
       "      <th>incident_cause</th>\n",
       "      <th>count</th>\n",
       "    </tr>\n",
       "  </thead>\n",
       "  <tbody>\n",
       "    <tr>\n",
       "      <th>0</th>\n",
       "      <td>Female</td>\n",
       "      <td>Driver error</td>\n",
       "      <td>72</td>\n",
       "    </tr>\n",
       "    <tr>\n",
       "      <th>1</th>\n",
       "      <td>Female</td>\n",
       "      <td>Other driver error</td>\n",
       "      <td>149</td>\n",
       "    </tr>\n",
       "    <tr>\n",
       "      <th>2</th>\n",
       "      <td>Male</td>\n",
       "      <td>Driver error</td>\n",
       "      <td>185</td>\n",
       "    </tr>\n",
       "    <tr>\n",
       "      <th>3</th>\n",
       "      <td>Male</td>\n",
       "      <td>Other driver error</td>\n",
       "      <td>100</td>\n",
       "    </tr>\n",
       "  </tbody>\n",
       "</table>\n",
       "</div>"
      ],
      "text/plain": [
       "   gender      incident_cause  count\n",
       "0  Female        Driver error     72\n",
       "1  Female  Other driver error    149\n",
       "2    Male        Driver error    185\n",
       "3    Male  Other driver error    100"
      ]
     },
     "execution_count": 186,
     "metadata": {},
     "output_type": "execute_result"
    }
   ],
   "source": [
    "gender_claim"
   ]
  },
  {
   "cell_type": "code",
   "execution_count": 212,
   "id": "8d78a4f5",
   "metadata": {},
   "outputs": [
    {
     "data": {
      "text/plain": [
       "Text(0.5, 1.0, 'gender who claimed the most for any type of driver related issues')"
      ]
     },
     "execution_count": 212,
     "metadata": {},
     "output_type": "execute_result"
    },
    {
     "data": {
      "image/png": "[encoded data removed]",
      "text/plain": [
       "<Figure size 640x480 with 1 Axes>"
      ]
     },
     "metadata": {},
     "output_type": "display_data"
    }
   ],
   "source": [
    "sns.barplot(x= 'incident_cause',y='count',hue= 'gender',data= gender_claim)\n",
    "plt.title('gender who claimed the most for any type of driver related issues')"
   ]
  },
  {
   "cell_type": "markdown",
   "id": "3108c319",
   "metadata": {},
   "source": [
    "# 13. Which age group had the maximum fraudulent policy claims? Visualize it on a bar chart."
   ]
  },
  {
   "cell_type": "code",
   "execution_count": 201,
   "id": "4fff1635",
   "metadata": {},
   "outputs": [
    {
     "data": {
      "text/plain": [
       "Index(['claim_id', 'customer_id', 'claim_date', 'claim_amount',\n",
       "       'total_policy_claims', 'CUST_ID', 'DateOfBirth', 'incident_cause',\n",
       "       'claim_area', 'police_report', 'claim_type', 'fraudulent', 'gender',\n",
       "       'State', 'Contact', 'Segment', 'aler_flag', 'Age', 'Age_cat'],\n",
       "      dtype='object')"
      ]
     },
     "execution_count": 201,
     "metadata": {},
     "output_type": "execute_result"
    }
   ],
   "source": [
    "concat_data.columns"
   ]
  },
  {
   "cell_type": "code",
   "execution_count": 207,
   "id": "2cf2ac9b",
   "metadata": {},
   "outputs": [],
   "source": [
    "max_fra= concat_data[['Age_cat', 'fraudulent']][concat_data['fraudulent']=='Yes'].groupby('Age_cat')['fraudulent'].count().reset_index()"
   ]
  },
  {
   "cell_type": "code",
   "execution_count": 213,
   "id": "d835bf2e",
   "metadata": {},
   "outputs": [
    {
     "data": {
      "text/plain": [
       "Text(0.5, 1.0, 'count of fraudlent among the age group')"
      ]
     },
     "execution_count": 213,
     "metadata": {},
     "output_type": "execute_result"
    },
    {
     "data": {
      "image/png": "[encoded data removed]",
      "text/plain": [
       "<Figure size 640x480 with 1 Axes>"
      ]
     },
     "metadata": {},
     "output_type": "display_data"
    }
   ],
   "source": [
    "sns.barplot(x= 'Age_cat', y = 'fraudulent', data= max_fra)\n",
    "plt.title('count of fraudlent among the age group')"
   ]
  },
  {
   "cell_type": "markdown",
   "id": "31bfbc5b",
   "metadata": {},
   "source": [
    "# 14. Visualize the monthly trend of the total amount that has been claimed by the customers. Ensure that on the “month” axis, the month is in a chronological order not alphabetical order."
   ]
  },
  {
   "cell_type": "code",
   "execution_count": 221,
   "id": "1d81d6dd",
   "metadata": {},
   "outputs": [
    {
     "name": "stderr",
     "output_type": "stream",
     "text": [
      "C:\\Users\\Avinash Dubey\\AppData\\Local\\Temp\\ipykernel_25544\\614528952.py:2: SettingWithCopyWarning: \n",
      "A value is trying to be set on a copy of a slice from a DataFrame.\n",
      "Try using .loc[row_indexer,col_indexer] = value instead\n",
      "\n",
      "See the caveats in the documentation: https://pandas.pydata.org/pandas-docs/stable/user_guide/indexing.html#returning-a-view-versus-a-copy\n",
      "  data['month']= data.loc[:,'claim_date'].dt.month_name()\n"
     ]
    }
   ],
   "source": [
    "data= concat_data[['claim_date', 'claim_amount']]\n",
    "data['month']= data.loc[:,'claim_date'].dt.month_name()"
   ]
  },
  {
   "cell_type": "code",
   "execution_count": 222,
   "id": "736cfed5",
   "metadata": {},
   "outputs": [],
   "source": [
    "list_=['January', 'February', 'March', 'April', 'May', 'June', 'July', 'August', 'September', 'October', 'November', 'December']"
   ]
  },
  {
   "cell_type": "code",
   "execution_count": 223,
   "id": "de90c350",
   "metadata": {},
   "outputs": [
    {
     "data": {
      "text/html": [
       "<div>\n",
       "<style scoped>\n",
       "    .dataframe tbody tr th:only-of-type {\n",
       "        vertical-align: middle;\n",
       "    }\n",
       "\n",
       "    .dataframe tbody tr th {\n",
       "        vertical-align: top;\n",
       "    }\n",
       "\n",
       "    .dataframe thead th {\n",
       "        text-align: right;\n",
       "    }\n",
       "</style>\n",
       "<table border=\"1\" class=\"dataframe\">\n",
       "  <thead>\n",
       "    <tr style=\"text-align: right;\">\n",
       "      <th></th>\n",
       "      <th>month</th>\n",
       "      <th>claim_amount</th>\n",
       "    </tr>\n",
       "  </thead>\n",
       "  <tbody>\n",
       "    <tr>\n",
       "      <th>0</th>\n",
       "      <td>January</td>\n",
       "      <td>1.331832e+06</td>\n",
       "    </tr>\n",
       "    <tr>\n",
       "      <th>1</th>\n",
       "      <td>February</td>\n",
       "      <td>1.156579e+06</td>\n",
       "    </tr>\n",
       "    <tr>\n",
       "      <th>2</th>\n",
       "      <td>March</td>\n",
       "      <td>1.348315e+06</td>\n",
       "    </tr>\n",
       "    <tr>\n",
       "      <th>3</th>\n",
       "      <td>April</td>\n",
       "      <td>1.276020e+06</td>\n",
       "    </tr>\n",
       "    <tr>\n",
       "      <th>4</th>\n",
       "      <td>May</td>\n",
       "      <td>1.115035e+06</td>\n",
       "    </tr>\n",
       "    <tr>\n",
       "      <th>5</th>\n",
       "      <td>June</td>\n",
       "      <td>1.317728e+06</td>\n",
       "    </tr>\n",
       "    <tr>\n",
       "      <th>6</th>\n",
       "      <td>July</td>\n",
       "      <td>1.382493e+06</td>\n",
       "    </tr>\n",
       "    <tr>\n",
       "      <th>7</th>\n",
       "      <td>August</td>\n",
       "      <td>9.134147e+05</td>\n",
       "    </tr>\n",
       "    <tr>\n",
       "      <th>8</th>\n",
       "      <td>September</td>\n",
       "      <td>9.803903e+05</td>\n",
       "    </tr>\n",
       "    <tr>\n",
       "      <th>9</th>\n",
       "      <td>October</td>\n",
       "      <td>1.428671e+06</td>\n",
       "    </tr>\n",
       "    <tr>\n",
       "      <th>10</th>\n",
       "      <td>November</td>\n",
       "      <td>6.259235e+05</td>\n",
       "    </tr>\n",
       "    <tr>\n",
       "      <th>11</th>\n",
       "      <td>December</td>\n",
       "      <td>7.256857e+05</td>\n",
       "    </tr>\n",
       "  </tbody>\n",
       "</table>\n",
       "</div>"
      ],
      "text/plain": [
       "        month  claim_amount\n",
       "0     January  1.331832e+06\n",
       "1    February  1.156579e+06\n",
       "2       March  1.348315e+06\n",
       "3       April  1.276020e+06\n",
       "4         May  1.115035e+06\n",
       "5        June  1.317728e+06\n",
       "6        July  1.382493e+06\n",
       "7      August  9.134147e+05\n",
       "8   September  9.803903e+05\n",
       "9     October  1.428671e+06\n",
       "10   November  6.259235e+05\n",
       "11   December  7.256857e+05"
      ]
     },
     "execution_count": 223,
     "metadata": {},
     "output_type": "execute_result"
    }
   ],
   "source": [
    "monthly_claim = data.groupby('month')['claim_amount'].sum()\n",
    "mon_claim = monthly_claim[list_].reset_index()\n",
    "mon_claim"
   ]
  },
  {
   "cell_type": "code",
   "execution_count": 230,
   "id": "bc66deb2",
   "metadata": {},
   "outputs": [
    {
     "data": {
      "text/plain": [
       "Text(0.5, 1.0, 'Monthly trend of the total amount')"
      ]
     },
     "execution_count": 230,
     "metadata": {},
     "output_type": "execute_result"
    },
    {
     "data": {
      "image/png": "[encoded data removed]",
      "text/plain": [
       "<Figure size 1200x500 with 1 Axes>"
      ]
     },
     "metadata": {},
     "output_type": "display_data"
    }
   ],
   "source": [
    "plt.figure(figsize=(12,5))\n",
    "sns.barplot(x= 'month', y= 'claim_amount', data= mon_claim)\n",
    "plt.title('Monthly trend of the total amount')"
   ]
  },
  {
   "cell_type": "markdown",
   "id": "184e3d10",
   "metadata": {},
   "source": [
    "# 16. Is there any similarity in the amount claimed by males and females?"
   ]
  },
  {
   "cell_type": "code",
   "execution_count": 237,
   "id": "6fcd20b5",
   "metadata": {},
   "outputs": [],
   "source": [
    "# Taking CI(confidence interval) =95%  and alpha(error rejection)= 0.05%\n",
    "# H0= There is similarity\n",
    "# Ha= There is no similarity\n",
    "# Method applying T-test cause it is 2 tailed (two sample independent)"
   ]
  },
  {
   "cell_type": "code",
   "execution_count": 236,
   "id": "540b5fbb",
   "metadata": {},
   "outputs": [],
   "source": [
    "male = concat_data.loc[concat_data['gender']=='Male','claim_amount']\n",
    "female = concat_data.loc[concat_data['gender']== 'Female', 'claim_amount']"
   ]
  },
  {
   "cell_type": "code",
   "execution_count": 239,
   "id": "c58161cd",
   "metadata": {},
   "outputs": [
    {
     "data": {
      "text/plain": [
       "Ttest_indResult(statistic=0.821612848932144, pvalue=0.4114767802889234)"
      ]
     },
     "execution_count": 239,
     "metadata": {},
     "output_type": "execute_result"
    }
   ],
   "source": [
    "stats.ttest_ind(male,female)"
   ]
  },
  {
   "cell_type": "code",
   "execution_count": 240,
   "id": "56700595",
   "metadata": {},
   "outputs": [],
   "source": [
    "# alpha is bigger then test result = 0.5>0.4"
   ]
  },
  {
   "cell_type": "code",
   "execution_count": 242,
   "id": "2c3d27fc",
   "metadata": {},
   "outputs": [],
   "source": [
    "# reject null hypothesis and accepet alternate\n",
    "\n",
    "\n",
    "# There is no similartity"
   ]
  },
  {
   "cell_type": "markdown",
   "id": "783263c1",
   "metadata": {},
   "source": [
    "# 17. Is there any relationship between age category and segment?"
   ]
  },
  {
   "cell_type": "code",
   "execution_count": 243,
   "id": "897ae931",
   "metadata": {},
   "outputs": [],
   "source": [
    "# CI = 95%  and alpha = 0.5%\n",
    "# H0= there can be relationship\n",
    "# Ha= there can not be relationship"
   ]
  },
  {
   "cell_type": "code",
   "execution_count": 251,
   "id": "7136e7da",
   "metadata": {},
   "outputs": [
    {
     "data": {
      "text/html": [
       "<div>\n",
       "<style scoped>\n",
       "    .dataframe tbody tr th:only-of-type {\n",
       "        vertical-align: middle;\n",
       "    }\n",
       "\n",
       "    .dataframe tbody tr th {\n",
       "        vertical-align: top;\n",
       "    }\n",
       "\n",
       "    .dataframe thead th {\n",
       "        text-align: right;\n",
       "    }\n",
       "</style>\n",
       "<table border=\"1\" class=\"dataframe\">\n",
       "  <thead>\n",
       "    <tr style=\"text-align: right;\">\n",
       "      <th></th>\n",
       "      <th>Age_cat</th>\n",
       "      <th>Segment</th>\n",
       "    </tr>\n",
       "  </thead>\n",
       "  <tbody>\n",
       "    <tr>\n",
       "      <th>0</th>\n",
       "      <td>Adult</td>\n",
       "      <td>Platinum</td>\n",
       "    </tr>\n",
       "    <tr>\n",
       "      <th>1</th>\n",
       "      <td>Adult</td>\n",
       "      <td>Silver</td>\n",
       "    </tr>\n",
       "    <tr>\n",
       "      <th>2</th>\n",
       "      <td>Adult</td>\n",
       "      <td>Silver</td>\n",
       "    </tr>\n",
       "    <tr>\n",
       "      <th>3</th>\n",
       "      <td>Adult</td>\n",
       "      <td>Silver</td>\n",
       "    </tr>\n",
       "    <tr>\n",
       "      <th>4</th>\n",
       "      <td>Adult</td>\n",
       "      <td>Gold</td>\n",
       "    </tr>\n",
       "  </tbody>\n",
       "</table>\n",
       "</div>"
      ],
      "text/plain": [
       "  Age_cat   Segment\n",
       "0   Adult  Platinum\n",
       "1   Adult    Silver\n",
       "2   Adult    Silver\n",
       "3   Adult    Silver\n",
       "4   Adult      Gold"
      ]
     },
     "execution_count": 251,
     "metadata": {},
     "output_type": "execute_result"
    }
   ],
   "source": [
    "concat_data[['Age_cat','Segment']].head()"
   ]
  },
  {
   "cell_type": "code",
   "execution_count": 252,
   "id": "01428a78",
   "metadata": {},
   "outputs": [],
   "source": [
    "#Both are categorical variable hence we are using here Chi-square"
   ]
  },
  {
   "cell_type": "code",
   "execution_count": 253,
   "id": "0d639a0d",
   "metadata": {},
   "outputs": [],
   "source": [
    "rel = pd.crosstab(concat_data['Age_cat'], concat_data['Segment'])"
   ]
  },
  {
   "cell_type": "code",
   "execution_count": 255,
   "id": "621dd422",
   "metadata": {},
   "outputs": [
    {
     "data": {
      "text/plain": [
       "Chi2ContingencyResult(statistic=1.607685963753493, pvalue=0.8074100664578123, dof=4, expected_freq=array([[175.87191217, 164.48124428, 157.64684355],\n",
       "       [ 91.82067704,  85.87374199,  82.30558097],\n",
       "       [118.3074108 , 110.64501372, 106.04757548]]))"
      ]
     },
     "execution_count": 255,
     "metadata": {},
     "output_type": "execute_result"
    }
   ],
   "source": [
    "stats.chi2_contingency(rel)"
   ]
  },
  {
   "cell_type": "code",
   "execution_count": 256,
   "id": "e6a6dde1",
   "metadata": {},
   "outputs": [],
   "source": [
    "# Here we can see the value of pvalue is greater then 0.5% .\n",
    "# We fail to reject the alternate hypothesis. "
   ]
  },
  {
   "cell_type": "markdown",
   "id": "9eb1a05f",
   "metadata": {},
   "source": [
    "# 18. The current year has shown a significant rise in claim amounts as compared to 2016-17 fiscal average which was $10,000."
   ]
  },
  {
   "cell_type": "code",
   "execution_count": 262,
   "id": "5cadcaef",
   "metadata": {},
   "outputs": [],
   "source": [
    "current= concat_data['claim_amount'][concat_data['claim_date'].dt.year==2018]"
   ]
  },
  {
   "cell_type": "code",
   "execution_count": 261,
   "id": "97c92fe0",
   "metadata": {},
   "outputs": [],
   "source": [
    "# Ho = current year and before year was same i.e no change \n",
    "# HA = current year and before year is not same i.e there is change"
   ]
  },
  {
   "cell_type": "code",
   "execution_count": 265,
   "id": "48ef06c8",
   "metadata": {},
   "outputs": [
    {
     "data": {
      "text/plain": [
       "TtestResult(statistic=4.308914037117706, pvalue=1.985741363740185e-05, df=487)"
      ]
     },
     "execution_count": 265,
     "metadata": {},
     "output_type": "execute_result"
    }
   ],
   "source": [
    "stats.ttest_1samp(current, 10000)"
   ]
  },
  {
   "cell_type": "code",
   "execution_count": 266,
   "id": "1dc04bdb",
   "metadata": {},
   "outputs": [],
   "source": [
    "# Since 0.05>0.00001985741364  \n",
    "# We can reject the null and accept alternate ."
   ]
  },
  {
   "cell_type": "markdown",
   "id": "c4e84e67",
   "metadata": {},
   "source": [
    "# 19. Is there any difference between age groups and insurance claims?"
   ]
  },
  {
   "cell_type": "code",
   "execution_count": 270,
   "id": "a9331123",
   "metadata": {},
   "outputs": [
    {
     "data": {
      "text/plain": [
       "Index(['claim_id', 'customer_id', 'claim_date', 'claim_amount',\n",
       "       'total_policy_claims', 'CUST_ID', 'DateOfBirth', 'incident_cause',\n",
       "       'claim_area', 'police_report', 'claim_type', 'fraudulent', 'gender',\n",
       "       'State', 'Contact', 'Segment', 'aler_flag', 'Age', 'Age_cat'],\n",
       "      dtype='object')"
      ]
     },
     "execution_count": 270,
     "metadata": {},
     "output_type": "execute_result"
    }
   ],
   "source": [
    "concat_data.columns"
   ]
  },
  {
   "cell_type": "code",
   "execution_count": 275,
   "id": "1c683682",
   "metadata": {},
   "outputs": [],
   "source": [
    "# H0 = Can be difference\n",
    "# Ha = Can not be difference"
   ]
  },
  {
   "cell_type": "code",
   "execution_count": 276,
   "id": "957a9790",
   "metadata": {},
   "outputs": [],
   "source": [
    "# Here we are using Annova due to compare the 3 groups"
   ]
  },
  {
   "cell_type": "code",
   "execution_count": 278,
   "id": "2df692a9",
   "metadata": {},
   "outputs": [],
   "source": [
    "adult = concat_data['claim_amount'][concat_data['Age_cat']=='Adult']\n",
    "youth = concat_data['claim_amount'][concat_data['Age_cat']=='youth']\n",
    "children= concat_data['claim_amount'][concat_data['Age_cat']=='children']"
   ]
  },
  {
   "cell_type": "code",
   "execution_count": 280,
   "id": "0906c1cc",
   "metadata": {},
   "outputs": [
    {
     "data": {
      "text/plain": [
       "F_onewayResult(statistic=2.2037228388804517, pvalue=0.1108830313065247)"
      ]
     },
     "execution_count": 280,
     "metadata": {},
     "output_type": "execute_result"
    }
   ],
   "source": [
    "stats.f_oneway(adult, youth, children)"
   ]
  },
  {
   "cell_type": "code",
   "execution_count": 281,
   "id": "790f3bfc",
   "metadata": {},
   "outputs": [],
   "source": [
    "# as 0.05 < 0.110883031306524\n",
    "# therefore we accept null and reject alternate "
   ]
  },
  {
   "cell_type": "markdown",
   "id": "ac8098ac",
   "metadata": {},
   "source": [
    "# 20. Is there any relationship between total number of policy claims and the claimed amount?"
   ]
  },
  {
   "cell_type": "code",
   "execution_count": 287,
   "id": "5da82f0b",
   "metadata": {},
   "outputs": [],
   "source": [
    "# H0 = There can be relationship.\n",
    "# Ha = There can not be relationship."
   ]
  },
  {
   "cell_type": "code",
   "execution_count": 283,
   "id": "55cf6820",
   "metadata": {},
   "outputs": [
    {
     "data": {
      "text/html": [
       "<div>\n",
       "<style scoped>\n",
       "    .dataframe tbody tr th:only-of-type {\n",
       "        vertical-align: middle;\n",
       "    }\n",
       "\n",
       "    .dataframe tbody tr th {\n",
       "        vertical-align: top;\n",
       "    }\n",
       "\n",
       "    .dataframe thead th {\n",
       "        text-align: right;\n",
       "    }\n",
       "</style>\n",
       "<table border=\"1\" class=\"dataframe\">\n",
       "  <thead>\n",
       "    <tr style=\"text-align: right;\">\n",
       "      <th></th>\n",
       "      <th>total_policy_claims</th>\n",
       "      <th>claim_amount</th>\n",
       "    </tr>\n",
       "  </thead>\n",
       "  <tbody>\n",
       "    <tr>\n",
       "      <th>0</th>\n",
       "      <td>1.0</td>\n",
       "      <td>2980.0</td>\n",
       "    </tr>\n",
       "    <tr>\n",
       "      <th>1</th>\n",
       "      <td>3.0</td>\n",
       "      <td>2980.0</td>\n",
       "    </tr>\n",
       "    <tr>\n",
       "      <th>2</th>\n",
       "      <td>1.0</td>\n",
       "      <td>3369.5</td>\n",
       "    </tr>\n",
       "    <tr>\n",
       "      <th>3</th>\n",
       "      <td>1.0</td>\n",
       "      <td>1680.0</td>\n",
       "    </tr>\n",
       "    <tr>\n",
       "      <th>4</th>\n",
       "      <td>1.0</td>\n",
       "      <td>2680.0</td>\n",
       "    </tr>\n",
       "    <tr>\n",
       "      <th>...</th>\n",
       "      <td>...</td>\n",
       "      <td>...</td>\n",
       "    </tr>\n",
       "    <tr>\n",
       "      <th>1088</th>\n",
       "      <td>4.0</td>\n",
       "      <td>3059.0</td>\n",
       "    </tr>\n",
       "    <tr>\n",
       "      <th>1089</th>\n",
       "      <td>2.0</td>\n",
       "      <td>1520.0</td>\n",
       "    </tr>\n",
       "    <tr>\n",
       "      <th>1090</th>\n",
       "      <td>2.0</td>\n",
       "      <td>23575.0</td>\n",
       "    </tr>\n",
       "    <tr>\n",
       "      <th>1091</th>\n",
       "      <td>1.0</td>\n",
       "      <td>25120.0</td>\n",
       "    </tr>\n",
       "    <tr>\n",
       "      <th>1092</th>\n",
       "      <td>3.0</td>\n",
       "      <td>36685.0</td>\n",
       "    </tr>\n",
       "  </tbody>\n",
       "</table>\n",
       "<p>1093 rows × 2 columns</p>\n",
       "</div>"
      ],
      "text/plain": [
       "      total_policy_claims  claim_amount\n",
       "0                     1.0        2980.0\n",
       "1                     3.0        2980.0\n",
       "2                     1.0        3369.5\n",
       "3                     1.0        1680.0\n",
       "4                     1.0        2680.0\n",
       "...                   ...           ...\n",
       "1088                  4.0        3059.0\n",
       "1089                  2.0        1520.0\n",
       "1090                  2.0       23575.0\n",
       "1091                  1.0       25120.0\n",
       "1092                  3.0       36685.0\n",
       "\n",
       "[1093 rows x 2 columns]"
      ]
     },
     "execution_count": 283,
     "metadata": {},
     "output_type": "execute_result"
    }
   ],
   "source": [
    "concat_data[['total_policy_claims','claim_amount']]"
   ]
  },
  {
   "cell_type": "code",
   "execution_count": 288,
   "id": "f059eab3",
   "metadata": {},
   "outputs": [
    {
     "data": {
      "text/plain": [
       "PearsonRResult(statistic=-0.016409477672452974, pvalue=0.587872176639291)"
      ]
     },
     "execution_count": 288,
     "metadata": {},
     "output_type": "execute_result"
    }
   ],
   "source": [
    "pearsonr(concat_data['total_policy_claims'], concat_data['claim_amount'])"
   ]
  },
  {
   "cell_type": "code",
   "execution_count": 289,
   "id": "34c29480",
   "metadata": {},
   "outputs": [],
   "source": [
    "# the pvalue is 0.587872176639291>0.5 \n",
    "# So we are able to accept null hypothesis."
   ]
  },
  {
   "cell_type": "code",
   "execution_count": null,
   "id": "8fbcd83c",
   "metadata": {},
   "outputs": [],
   "source": []
  }
 ],
 "metadata": {
  "kernelspec": {
   "display_name": "Python 3 (ipykernel)",
   "language": "python",
   "name": "python3"
  },
  "language_info": {
   "codemirror_mode": {
    "name": "ipython",
    "version": 3
   },
   "file_extension": ".py",
   "mimetype": "text/x-python",
   "name": "python",
   "nbconvert_exporter": "python",
   "pygments_lexer": "ipython3",
   "version": "3.11.4"
  }
 },
 "nbformat": 4,
 "nbformat_minor": 5
}
