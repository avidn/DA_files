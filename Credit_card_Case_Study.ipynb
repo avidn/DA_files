{
 "cells": [
  {
   "cell_type": "code",
   "execution_count": 39,
   "id": "d7f95d4c",
   "metadata": {},
   "outputs": [],
   "source": [
    "import numpy as np\n",
    "import pandas as pd\n",
    "import matplotlib.pyplot as plt\n",
    "import datetime as dt\n",
    "import seaborn as sns"
   ]
  },
  {
   "cell_type": "code",
   "execution_count": 40,
   "id": "c70703c2",
   "metadata": {},
   "outputs": [
    {
     "name": "stdout",
     "output_type": "stream",
     "text": [
      "D:\\ALAB study content\\Python_classe_files\\Case Studies\\Python Foundation Case Study 2 - Credit Card Case Study (1)\\Case Study 2 - Credit Card Case Study\n"
     ]
    }
   ],
   "source": [
    "%cd \"D:\\ALAB study content\\Python_classe_files\\Case Studies\\Python Foundation Case Study 2 - Credit Card Case Study (1)\\Case Study 2 - Credit Card Case Study\""
   ]
  },
  {
   "cell_type": "code",
   "execution_count": 142,
   "id": "3980aa5e",
   "metadata": {},
   "outputs": [],
   "source": [
    "# Importing the data in python environment to operate.\n",
    "\n",
    "cust_acq= pd.read_csv('Customer Acqusition.csv')\n",
    "repay_data= pd .read_csv('Repayment.csv')\n",
    "spend_data= pd.read_csv('spend.csv')"
   ]
  },
  {
   "cell_type": "code",
   "execution_count": 96,
   "id": "09cbb0e7",
   "metadata": {},
   "outputs": [
    {
     "name": "stdout",
     "output_type": "stream",
     "text": [
      "<class 'pandas.core.frame.DataFrame'>\n",
      "RangeIndex: 100 entries, 0 to 99\n",
      "Data columns (total 8 columns):\n",
      " #   Column    Non-Null Count  Dtype  \n",
      "---  ------    --------------  -----  \n",
      " 0   No        100 non-null    int64  \n",
      " 1   Customer  100 non-null    object \n",
      " 2   Age       100 non-null    int64  \n",
      " 3   City      100 non-null    object \n",
      " 4   Product   100 non-null    object \n",
      " 5   Limit     100 non-null    float64\n",
      " 6   Company   100 non-null    object \n",
      " 7   Segment   100 non-null    object \n",
      "dtypes: float64(1), int64(2), object(5)\n",
      "memory usage: 6.4+ KB\n"
     ]
    }
   ],
   "source": [
    "cust_acq.info()"
   ]
  },
  {
   "cell_type": "code",
   "execution_count": 97,
   "id": "93db109d",
   "metadata": {},
   "outputs": [
    {
     "name": "stdout",
     "output_type": "stream",
     "text": [
      "<class 'pandas.core.frame.DataFrame'>\n",
      "RangeIndex: 1500 entries, 0 to 1499\n",
      "Data columns (total 4 columns):\n",
      " #   Column    Non-Null Count  Dtype  \n",
      "---  ------    --------------  -----  \n",
      " 0   SL No:    1500 non-null   int64  \n",
      " 1   Customer  1500 non-null   object \n",
      " 2   Month     1500 non-null   object \n",
      " 3   Amount    1500 non-null   float64\n",
      "dtypes: float64(1), int64(1), object(2)\n",
      "memory usage: 47.0+ KB\n"
     ]
    }
   ],
   "source": [
    "repay_data.info()"
   ]
  },
  {
   "cell_type": "code",
   "execution_count": 98,
   "id": "c07720bb",
   "metadata": {},
   "outputs": [
    {
     "name": "stdout",
     "output_type": "stream",
     "text": [
      "<class 'pandas.core.frame.DataFrame'>\n",
      "RangeIndex: 1500 entries, 0 to 1499\n",
      "Data columns (total 5 columns):\n",
      " #   Column    Non-Null Count  Dtype  \n",
      "---  ------    --------------  -----  \n",
      " 0   Sl No:    1500 non-null   int64  \n",
      " 1   Customer  1500 non-null   object \n",
      " 2   Month     1500 non-null   object \n",
      " 3   Type      1500 non-null   object \n",
      " 4   Amount    1500 non-null   float64\n",
      "dtypes: float64(1), int64(1), object(3)\n",
      "memory usage: 58.7+ KB\n"
     ]
    }
   ],
   "source": [
    "spend_data.info()"
   ]
  },
  {
   "cell_type": "code",
   "execution_count": 144,
   "id": "5f571413",
   "metadata": {},
   "outputs": [],
   "source": [
    "# Merging the data through left join.\n",
    "\n",
    "data_1= pd.merge(left= repay_data, right= cust_acq, left_on=['Customer'], right_on=['Customer'], how= 'left')"
   ]
  },
  {
   "cell_type": "code",
   "execution_count": 145,
   "id": "43e41f84",
   "metadata": {},
   "outputs": [],
   "source": [
    "# Merging the data through left join that would be final data.\n",
    "\n",
    "final_data = pd.merge(left= data_1, right= spend_data, left_on='Customer',right_on='Customer', how='left')"
   ]
  },
  {
   "cell_type": "code",
   "execution_count": 143,
   "id": "020d063e",
   "metadata": {},
   "outputs": [],
   "source": [
    "# Renaming the name so that data can join. \n",
    "\n",
    "cust_acq.rename(columns={'No':'sr_no'}, inplace= True)\n",
    "repay_data.rename(columns= {'SL No:':'sr_no'},inplace= True)\n",
    "spend_data.rename(columns= {'sl No':'sr_no'}, inplace= True)"
   ]
  },
  {
   "cell_type": "code",
   "execution_count": 146,
   "id": "d5eee363",
   "metadata": {},
   "outputs": [
    {
     "data": {
      "text/html": [
       "<div>\n",
       "<style scoped>\n",
       "    .dataframe tbody tr th:only-of-type {\n",
       "        vertical-align: middle;\n",
       "    }\n",
       "\n",
       "    .dataframe tbody tr th {\n",
       "        vertical-align: top;\n",
       "    }\n",
       "\n",
       "    .dataframe thead th {\n",
       "        text-align: right;\n",
       "    }\n",
       "</style>\n",
       "<table border=\"1\" class=\"dataframe\">\n",
       "  <thead>\n",
       "    <tr style=\"text-align: right;\">\n",
       "      <th></th>\n",
       "      <th>sr_no_x</th>\n",
       "      <th>Customer</th>\n",
       "      <th>Month_x</th>\n",
       "      <th>Amount_x</th>\n",
       "      <th>sr_no_y</th>\n",
       "      <th>Age</th>\n",
       "      <th>City</th>\n",
       "      <th>Product</th>\n",
       "      <th>Limit</th>\n",
       "      <th>Company</th>\n",
       "      <th>Segment</th>\n",
       "      <th>Sl No:</th>\n",
       "      <th>Month_y</th>\n",
       "      <th>Type</th>\n",
       "      <th>Amount_y</th>\n",
       "    </tr>\n",
       "  </thead>\n",
       "  <tbody>\n",
       "    <tr>\n",
       "      <th>0</th>\n",
       "      <td>1</td>\n",
       "      <td>A1</td>\n",
       "      <td>12-Jan-04</td>\n",
       "      <td>495414.75</td>\n",
       "      <td>1</td>\n",
       "      <td>76</td>\n",
       "      <td>BANGALORE</td>\n",
       "      <td>Gold</td>\n",
       "      <td>500000.0</td>\n",
       "      <td>C1</td>\n",
       "      <td>Self Employed</td>\n",
       "      <td>1</td>\n",
       "      <td>12-Jan-04</td>\n",
       "      <td>JEWELLERY</td>\n",
       "      <td>485470.80</td>\n",
       "    </tr>\n",
       "    <tr>\n",
       "      <th>1</th>\n",
       "      <td>1</td>\n",
       "      <td>A1</td>\n",
       "      <td>12-Jan-04</td>\n",
       "      <td>495414.75</td>\n",
       "      <td>1</td>\n",
       "      <td>76</td>\n",
       "      <td>BANGALORE</td>\n",
       "      <td>Gold</td>\n",
       "      <td>500000.0</td>\n",
       "      <td>C1</td>\n",
       "      <td>Self Employed</td>\n",
       "      <td>2</td>\n",
       "      <td>03-Jan-04</td>\n",
       "      <td>PETRO</td>\n",
       "      <td>410556.13</td>\n",
       "    </tr>\n",
       "    <tr>\n",
       "      <th>2</th>\n",
       "      <td>1</td>\n",
       "      <td>A1</td>\n",
       "      <td>12-Jan-04</td>\n",
       "      <td>495414.75</td>\n",
       "      <td>1</td>\n",
       "      <td>76</td>\n",
       "      <td>BANGALORE</td>\n",
       "      <td>Gold</td>\n",
       "      <td>500000.0</td>\n",
       "      <td>C1</td>\n",
       "      <td>Self Employed</td>\n",
       "      <td>3</td>\n",
       "      <td>15-Jan-04</td>\n",
       "      <td>CLOTHES</td>\n",
       "      <td>23740.46</td>\n",
       "    </tr>\n",
       "    <tr>\n",
       "      <th>3</th>\n",
       "      <td>1</td>\n",
       "      <td>A1</td>\n",
       "      <td>12-Jan-04</td>\n",
       "      <td>495414.75</td>\n",
       "      <td>1</td>\n",
       "      <td>76</td>\n",
       "      <td>BANGALORE</td>\n",
       "      <td>Gold</td>\n",
       "      <td>500000.0</td>\n",
       "      <td>C1</td>\n",
       "      <td>Self Employed</td>\n",
       "      <td>4</td>\n",
       "      <td>25-Jan-04</td>\n",
       "      <td>FOOD</td>\n",
       "      <td>484342.47</td>\n",
       "    </tr>\n",
       "    <tr>\n",
       "      <th>4</th>\n",
       "      <td>1</td>\n",
       "      <td>A1</td>\n",
       "      <td>12-Jan-04</td>\n",
       "      <td>495414.75</td>\n",
       "      <td>1</td>\n",
       "      <td>76</td>\n",
       "      <td>BANGALORE</td>\n",
       "      <td>Gold</td>\n",
       "      <td>500000.0</td>\n",
       "      <td>C1</td>\n",
       "      <td>Self Employed</td>\n",
       "      <td>5</td>\n",
       "      <td>17-Jan-05</td>\n",
       "      <td>CAMERA</td>\n",
       "      <td>369694.07</td>\n",
       "    </tr>\n",
       "    <tr>\n",
       "      <th>...</th>\n",
       "      <td>...</td>\n",
       "      <td>...</td>\n",
       "      <td>...</td>\n",
       "      <td>...</td>\n",
       "      <td>...</td>\n",
       "      <td>...</td>\n",
       "      <td>...</td>\n",
       "      <td>...</td>\n",
       "      <td>...</td>\n",
       "      <td>...</td>\n",
       "      <td>...</td>\n",
       "      <td>...</td>\n",
       "      <td>...</td>\n",
       "      <td>...</td>\n",
       "      <td>...</td>\n",
       "    </tr>\n",
       "    <tr>\n",
       "      <th>37279</th>\n",
       "      <td>1498</td>\n",
       "      <td>A69</td>\n",
       "      <td>11-Jul-06</td>\n",
       "      <td>247628.45</td>\n",
       "      <td>69</td>\n",
       "      <td>33</td>\n",
       "      <td>CALCUTTA</td>\n",
       "      <td>Platimum</td>\n",
       "      <td>10000.0</td>\n",
       "      <td>C31</td>\n",
       "      <td>Self Employed</td>\n",
       "      <td>1498</td>\n",
       "      <td>31-Mar-06</td>\n",
       "      <td>BUS TICKET</td>\n",
       "      <td>50449.44</td>\n",
       "    </tr>\n",
       "    <tr>\n",
       "      <th>37280</th>\n",
       "      <td>1499</td>\n",
       "      <td>A70</td>\n",
       "      <td>12-Aug-05</td>\n",
       "      <td>454016.51</td>\n",
       "      <td>70</td>\n",
       "      <td>16</td>\n",
       "      <td>BOMBAY</td>\n",
       "      <td>Platimum</td>\n",
       "      <td>10001.0</td>\n",
       "      <td>C32</td>\n",
       "      <td>Self Employed</td>\n",
       "      <td>72</td>\n",
       "      <td>23-Feb-05</td>\n",
       "      <td>AIR TICKET</td>\n",
       "      <td>188959.72</td>\n",
       "    </tr>\n",
       "    <tr>\n",
       "      <th>37281</th>\n",
       "      <td>1499</td>\n",
       "      <td>A70</td>\n",
       "      <td>12-Aug-05</td>\n",
       "      <td>454016.51</td>\n",
       "      <td>70</td>\n",
       "      <td>16</td>\n",
       "      <td>BOMBAY</td>\n",
       "      <td>Platimum</td>\n",
       "      <td>10001.0</td>\n",
       "      <td>C32</td>\n",
       "      <td>Self Employed</td>\n",
       "      <td>1499</td>\n",
       "      <td>23-Mar-06</td>\n",
       "      <td>BUS TICKET</td>\n",
       "      <td>80593.94</td>\n",
       "    </tr>\n",
       "    <tr>\n",
       "      <th>37282</th>\n",
       "      <td>1500</td>\n",
       "      <td>A71</td>\n",
       "      <td>13-Sep-04</td>\n",
       "      <td>56286.33</td>\n",
       "      <td>71</td>\n",
       "      <td>34</td>\n",
       "      <td>BOMBAY</td>\n",
       "      <td>Platimum</td>\n",
       "      <td>10002.0</td>\n",
       "      <td>C33</td>\n",
       "      <td>Self Employed</td>\n",
       "      <td>73</td>\n",
       "      <td>01-Feb-05</td>\n",
       "      <td>AIR TICKET</td>\n",
       "      <td>116422.06</td>\n",
       "    </tr>\n",
       "    <tr>\n",
       "      <th>37283</th>\n",
       "      <td>1500</td>\n",
       "      <td>A71</td>\n",
       "      <td>13-Sep-04</td>\n",
       "      <td>56286.33</td>\n",
       "      <td>71</td>\n",
       "      <td>34</td>\n",
       "      <td>BOMBAY</td>\n",
       "      <td>Platimum</td>\n",
       "      <td>10002.0</td>\n",
       "      <td>C33</td>\n",
       "      <td>Self Employed</td>\n",
       "      <td>1500</td>\n",
       "      <td>24-Mar-06</td>\n",
       "      <td>BUS TICKET</td>\n",
       "      <td>194447.62</td>\n",
       "    </tr>\n",
       "  </tbody>\n",
       "</table>\n",
       "<p>37284 rows × 15 columns</p>\n",
       "</div>"
      ],
      "text/plain": [
       "       sr_no_x Customer    Month_x   Amount_x  sr_no_y  Age       City  \\\n",
       "0            1       A1  12-Jan-04  495414.75        1   76  BANGALORE   \n",
       "1            1       A1  12-Jan-04  495414.75        1   76  BANGALORE   \n",
       "2            1       A1  12-Jan-04  495414.75        1   76  BANGALORE   \n",
       "3            1       A1  12-Jan-04  495414.75        1   76  BANGALORE   \n",
       "4            1       A1  12-Jan-04  495414.75        1   76  BANGALORE   \n",
       "...        ...      ...        ...        ...      ...  ...        ...   \n",
       "37279     1498      A69  11-Jul-06  247628.45       69   33   CALCUTTA   \n",
       "37280     1499      A70  12-Aug-05  454016.51       70   16     BOMBAY   \n",
       "37281     1499      A70  12-Aug-05  454016.51       70   16     BOMBAY   \n",
       "37282     1500      A71  13-Sep-04   56286.33       71   34     BOMBAY   \n",
       "37283     1500      A71  13-Sep-04   56286.33       71   34     BOMBAY   \n",
       "\n",
       "        Product     Limit Company        Segment  Sl No:    Month_y  \\\n",
       "0          Gold  500000.0      C1  Self Employed       1  12-Jan-04   \n",
       "1          Gold  500000.0      C1  Self Employed       2  03-Jan-04   \n",
       "2          Gold  500000.0      C1  Self Employed       3  15-Jan-04   \n",
       "3          Gold  500000.0      C1  Self Employed       4  25-Jan-04   \n",
       "4          Gold  500000.0      C1  Self Employed       5  17-Jan-05   \n",
       "...         ...       ...     ...            ...     ...        ...   \n",
       "37279  Platimum   10000.0     C31  Self Employed    1498  31-Mar-06   \n",
       "37280  Platimum   10001.0     C32  Self Employed      72  23-Feb-05   \n",
       "37281  Platimum   10001.0     C32  Self Employed    1499  23-Mar-06   \n",
       "37282  Platimum   10002.0     C33  Self Employed      73  01-Feb-05   \n",
       "37283  Platimum   10002.0     C33  Self Employed    1500  24-Mar-06   \n",
       "\n",
       "             Type   Amount_y  \n",
       "0       JEWELLERY  485470.80  \n",
       "1           PETRO  410556.13  \n",
       "2         CLOTHES   23740.46  \n",
       "3            FOOD  484342.47  \n",
       "4          CAMERA  369694.07  \n",
       "...           ...        ...  \n",
       "37279  BUS TICKET   50449.44  \n",
       "37280  AIR TICKET  188959.72  \n",
       "37281  BUS TICKET   80593.94  \n",
       "37282  AIR TICKET  116422.06  \n",
       "37283  BUS TICKET  194447.62  \n",
       "\n",
       "[37284 rows x 15 columns]"
      ]
     },
     "execution_count": 146,
     "metadata": {},
     "output_type": "execute_result"
    }
   ],
   "source": [
    "final_data"
   ]
  },
  {
   "cell_type": "markdown",
   "id": "509c3d74",
   "metadata": {},
   "source": [
    "# 1. In the above dataset,"
   ]
  },
  {
   "cell_type": "markdown",
   "id": "a769bc06",
   "metadata": {},
   "source": [
    "# a. In case age is less than 18, replace it with mean of age values."
   ]
  },
  {
   "cell_type": "code",
   "execution_count": 147,
   "id": "55ba9c63",
   "metadata": {},
   "outputs": [],
   "source": [
    "# finding the mean of Age and applying condition on <18.\n",
    "\n",
    "age_mean= final_data['Age'].mean()  \n",
    "\n",
    "final_data['Age'] =final_data['Age'].apply(lambda x: age_mean if x<18 else x)\n"
   ]
  },
  {
   "cell_type": "code",
   "execution_count": 28,
   "id": "23b64d6b",
   "metadata": {},
   "outputs": [],
   "source": [
    "#for i in final_data['Age']:\n",
    "#    if i <18:\n",
    "#        print(final_data['Age'].mean())\n",
    " #   else:\n",
    "#        print(i)\n",
    "#print(final_data.Age)"
   ]
  },
  {
   "cell_type": "markdown",
   "id": "373a7e61",
   "metadata": {},
   "source": [
    "# b. In case spend amount is more than the limit, replace it with 50% of that customer’s limit. (customer’s limit provided in acquisition table is the per transaction limit on his card)"
   ]
  },
  {
   "cell_type": "code",
   "execution_count": 148,
   "id": "b8174095",
   "metadata": {},
   "outputs": [],
   "source": [
    "final_data.rename(columns={'Month_x':'Repay_mon', 'Amount_x':'Repay_amt', 'Month_y':'Spend_mon','Amount_y':'Spend_amt' },inplace= True)"
   ]
  },
  {
   "cell_type": "code",
   "execution_count": 165,
   "id": "4776c387",
   "metadata": {},
   "outputs": [
    {
     "data": {
      "text/html": [
       "<div>\n",
       "<style scoped>\n",
       "    .dataframe tbody tr th:only-of-type {\n",
       "        vertical-align: middle;\n",
       "    }\n",
       "\n",
       "    .dataframe tbody tr th {\n",
       "        vertical-align: top;\n",
       "    }\n",
       "\n",
       "    .dataframe thead th {\n",
       "        text-align: right;\n",
       "    }\n",
       "</style>\n",
       "<table border=\"1\" class=\"dataframe\">\n",
       "  <thead>\n",
       "    <tr style=\"text-align: right;\">\n",
       "      <th></th>\n",
       "      <th>sr_no_x</th>\n",
       "      <th>Customer</th>\n",
       "      <th>Repay_mon</th>\n",
       "      <th>Repay_amt</th>\n",
       "      <th>sr_no_y</th>\n",
       "      <th>Age</th>\n",
       "      <th>City</th>\n",
       "      <th>Product</th>\n",
       "      <th>Limit</th>\n",
       "      <th>Company</th>\n",
       "      <th>Segment</th>\n",
       "      <th>Sl No:</th>\n",
       "      <th>Spend_mon</th>\n",
       "      <th>Type</th>\n",
       "      <th>Spend_amt</th>\n",
       "    </tr>\n",
       "  </thead>\n",
       "  <tbody>\n",
       "    <tr>\n",
       "      <th>0</th>\n",
       "      <td>1</td>\n",
       "      <td>A1</td>\n",
       "      <td>12-Jan-04</td>\n",
       "      <td>495414.75</td>\n",
       "      <td>1</td>\n",
       "      <td>76.0</td>\n",
       "      <td>BANGALORE</td>\n",
       "      <td>Gold</td>\n",
       "      <td>500000.0</td>\n",
       "      <td>C1</td>\n",
       "      <td>Self Employed</td>\n",
       "      <td>1</td>\n",
       "      <td>12-Jan-04</td>\n",
       "      <td>JEWELLERY</td>\n",
       "      <td>250000.0</td>\n",
       "    </tr>\n",
       "  </tbody>\n",
       "</table>\n",
       "</div>"
      ],
      "text/plain": [
       "   sr_no_x Customer  Repay_mon  Repay_amt  sr_no_y   Age       City Product  \\\n",
       "0        1       A1  12-Jan-04  495414.75        1  76.0  BANGALORE    Gold   \n",
       "\n",
       "      Limit Company        Segment  Sl No:  Spend_mon       Type  Spend_amt  \n",
       "0  500000.0      C1  Self Employed       1  12-Jan-04  JEWELLERY   250000.0  "
      ]
     },
     "execution_count": 165,
     "metadata": {},
     "output_type": "execute_result"
    }
   ],
   "source": [
    "final_data.head(1)"
   ]
  },
  {
   "cell_type": "code",
   "execution_count": 163,
   "id": "37d10765",
   "metadata": {},
   "outputs": [],
   "source": [
    "#final_data.apply(lambda x :0.5*x['Limit'] if x['Spend_amt']> x['Limit'] else x['Spend_amt'],axis=1 )"
   ]
  },
  {
   "cell_type": "code",
   "execution_count": 166,
   "id": "363ba2b3",
   "metadata": {},
   "outputs": [
    {
     "data": {
      "text/plain": [
       "0        250000.00\n",
       "1        250000.00\n",
       "2         23740.46\n",
       "3        250000.00\n",
       "4        250000.00\n",
       "           ...    \n",
       "37279      5000.00\n",
       "37280      5000.50\n",
       "37281      5000.50\n",
       "37282      5001.00\n",
       "37283      5001.00\n",
       "Name: Spend_amt, Length: 37284, dtype: float64"
      ]
     },
     "execution_count": 166,
     "metadata": {},
     "output_type": "execute_result"
    }
   ],
   "source": [
    "final_data['half_limt']= 0.5*final_data.groupby('Customer')[['Limit']].transform('first')\n",
    "final_data['Spend_amt']=final_data[['Spend_amt','half_limt']].min(axis= 1)\n",
    "final_data['Spend_amt']"
   ]
  },
  {
   "cell_type": "code",
   "execution_count": 164,
   "id": "5614c078",
   "metadata": {},
   "outputs": [
    {
     "data": {
      "text/html": [
       "<div>\n",
       "<style scoped>\n",
       "    .dataframe tbody tr th:only-of-type {\n",
       "        vertical-align: middle;\n",
       "    }\n",
       "\n",
       "    .dataframe tbody tr th {\n",
       "        vertical-align: top;\n",
       "    }\n",
       "\n",
       "    .dataframe thead th {\n",
       "        text-align: right;\n",
       "    }\n",
       "</style>\n",
       "<table border=\"1\" class=\"dataframe\">\n",
       "  <thead>\n",
       "    <tr style=\"text-align: right;\">\n",
       "      <th></th>\n",
       "      <th>sr_no_x</th>\n",
       "      <th>Customer</th>\n",
       "      <th>Repay_mon</th>\n",
       "      <th>Repay_amt</th>\n",
       "      <th>sr_no_y</th>\n",
       "      <th>Age</th>\n",
       "      <th>City</th>\n",
       "      <th>Product</th>\n",
       "      <th>Limit</th>\n",
       "      <th>Company</th>\n",
       "      <th>Segment</th>\n",
       "      <th>Sl No:</th>\n",
       "      <th>Spend_mon</th>\n",
       "      <th>Type</th>\n",
       "      <th>Spend_amt</th>\n",
       "    </tr>\n",
       "  </thead>\n",
       "  <tbody>\n",
       "    <tr>\n",
       "      <th>0</th>\n",
       "      <td>1</td>\n",
       "      <td>A1</td>\n",
       "      <td>12-Jan-04</td>\n",
       "      <td>495414.75</td>\n",
       "      <td>1</td>\n",
       "      <td>76.0</td>\n",
       "      <td>BANGALORE</td>\n",
       "      <td>Gold</td>\n",
       "      <td>500000.0</td>\n",
       "      <td>C1</td>\n",
       "      <td>Self Employed</td>\n",
       "      <td>1</td>\n",
       "      <td>12-Jan-04</td>\n",
       "      <td>JEWELLERY</td>\n",
       "      <td>250000.0</td>\n",
       "    </tr>\n",
       "    <tr>\n",
       "      <th>1</th>\n",
       "      <td>1</td>\n",
       "      <td>A1</td>\n",
       "      <td>12-Jan-04</td>\n",
       "      <td>495414.75</td>\n",
       "      <td>1</td>\n",
       "      <td>76.0</td>\n",
       "      <td>BANGALORE</td>\n",
       "      <td>Gold</td>\n",
       "      <td>500000.0</td>\n",
       "      <td>C1</td>\n",
       "      <td>Self Employed</td>\n",
       "      <td>2</td>\n",
       "      <td>03-Jan-04</td>\n",
       "      <td>PETRO</td>\n",
       "      <td>250000.0</td>\n",
       "    </tr>\n",
       "  </tbody>\n",
       "</table>\n",
       "</div>"
      ],
      "text/plain": [
       "   sr_no_x Customer  Repay_mon  Repay_amt  sr_no_y   Age       City Product  \\\n",
       "0        1       A1  12-Jan-04  495414.75        1  76.0  BANGALORE    Gold   \n",
       "1        1       A1  12-Jan-04  495414.75        1  76.0  BANGALORE    Gold   \n",
       "\n",
       "      Limit Company        Segment  Sl No:  Spend_mon       Type  Spend_amt  \n",
       "0  500000.0      C1  Self Employed       1  12-Jan-04  JEWELLERY   250000.0  \n",
       "1  500000.0      C1  Self Employed       2  03-Jan-04      PETRO   250000.0  "
      ]
     },
     "execution_count": 164,
     "metadata": {},
     "output_type": "execute_result"
    }
   ],
   "source": [
    "final_data = final_data.drop(columns= 'half_limt')\n",
    "final_data.head(2)"
   ]
  },
  {
   "cell_type": "markdown",
   "id": "81ebd81b",
   "metadata": {},
   "source": [
    "# c. Incase the repayment amount is more than the limit, replace the repayment with the limit."
   ]
  },
  {
   "cell_type": "code",
   "execution_count": 167,
   "id": "24d3c8d9",
   "metadata": {},
   "outputs": [],
   "source": [
    "final_data['Repay_amt']= final_data[['Repay_amt', 'Limit']].min(axis=1)"
   ]
  },
  {
   "cell_type": "code",
   "execution_count": 172,
   "id": "ace18662",
   "metadata": {},
   "outputs": [
    {
     "data": {
      "text/plain": [
       "0        495414.75\n",
       "1        495414.75\n",
       "2        495414.75\n",
       "3        495414.75\n",
       "4        495414.75\n",
       "           ...    \n",
       "37279     10000.00\n",
       "37280     10001.00\n",
       "37281     10001.00\n",
       "37282     10002.00\n",
       "37283     10002.00\n",
       "Length: 37284, dtype: float64"
      ]
     },
     "execution_count": 172,
     "metadata": {},
     "output_type": "execute_result"
    }
   ],
   "source": [
    "final_data[['Repay_amt','Limit']].min(axis=1)"
   ]
  },
  {
   "cell_type": "markdown",
   "id": "995a67c5",
   "metadata": {},
   "source": [
    "# 2. From the above dataset create the following summaries:"
   ]
  },
  {
   "cell_type": "markdown",
   "id": "4cb24ea7",
   "metadata": {},
   "source": [
    "# a. How many distinct customers exist?"
   ]
  },
  {
   "cell_type": "code",
   "execution_count": null,
   "id": "4fad263f",
   "metadata": {},
   "outputs": [],
   "source": [
    "final_data['Customer'].nunique()"
   ]
  },
  {
   "cell_type": "markdown",
   "id": "18287f98",
   "metadata": {},
   "source": [
    "# b. How many distinct categories exist?"
   ]
  },
  {
   "cell_type": "code",
   "execution_count": null,
   "id": "af5c3775",
   "metadata": {},
   "outputs": [],
   "source": [
    "final_data['Type'].nunique()"
   ]
  },
  {
   "cell_type": "markdown",
   "id": "f24abed2",
   "metadata": {},
   "source": [
    "# c. What is the average monthly spend by customers?"
   ]
  },
  {
   "cell_type": "code",
   "execution_count": null,
   "id": "a8eed0c3",
   "metadata": {},
   "outputs": [],
   "source": [
    "final_data.groupby('Customer')[['Spend_amt']].mean()"
   ]
  },
  {
   "cell_type": "markdown",
   "id": "eb5f7d4d",
   "metadata": {},
   "source": [
    "# d. What is the average monthly repayment by customers?"
   ]
  },
  {
   "cell_type": "code",
   "execution_count": null,
   "id": "621489fe",
   "metadata": {},
   "outputs": [],
   "source": [
    "final_data.groupby(['Customer', 'Months'])[['Repay_amt']].mean()"
   ]
  },
  {
   "cell_type": "markdown",
   "id": "24e81ea0",
   "metadata": {},
   "source": [
    "# f. What are the top 5 product types?"
   ]
  },
  {
   "cell_type": "code",
   "execution_count": null,
   "id": "135c7462",
   "metadata": {},
   "outputs": [],
   "source": [
    "amt_of_product= final_data.groupby('Type')['Spend_amt'].sum()\n",
    "amt_of_product.sort_values(ascending= False)"
   ]
  },
  {
   "cell_type": "markdown",
   "id": "e02cddf5",
   "metadata": {},
   "source": [
    "# g. Which city is having maximum spend?"
   ]
  },
  {
   "cell_type": "code",
   "execution_count": null,
   "id": "ae9a30ac",
   "metadata": {},
   "outputs": [],
   "source": [
    "final_data.groupby('City')['Spend_amt'].sum()\n",
    "final_data.groupby('City')['Spend_amt'].sum().sort_values(ascending= False)"
   ]
  },
  {
   "cell_type": "markdown",
   "id": "752ca929",
   "metadata": {},
   "source": [
    "# h. Which age group is spending more money?"
   ]
  },
  {
   "cell_type": "code",
   "execution_count": null,
   "id": "d7c1fda8",
   "metadata": {},
   "outputs": [],
   "source": [
    "age_group= final_data.groupby('Age')['Spend_amt'].sum()\n",
    "age_group.idxmax()"
   ]
  },
  {
   "cell_type": "markdown",
   "id": "61a267ec",
   "metadata": {},
   "source": [
    "# i. Who are the top 10 customers in terms of repayment?"
   ]
  },
  {
   "cell_type": "code",
   "execution_count": null,
   "id": "e06330b3",
   "metadata": {},
   "outputs": [],
   "source": [
    "final_data.groupby('Customer')['Repay_amt'].sum()\n",
    "\n",
    "final_data.groupby('Customer')['Repay_amt'].sum().sort_values(ascending= False).head(10)"
   ]
  },
  {
   "cell_type": "markdown",
   "id": "af55da55",
   "metadata": {},
   "source": [
    "# 3. Calculate the city wise spend on each product on yearly basis. Also include a graphical representation for the same."
   ]
  },
  {
   "cell_type": "code",
   "execution_count": null,
   "id": "79cbcc96",
   "metadata": {},
   "outputs": [],
   "source": [
    "final_data['Date'] = pd.to_datetime(final_data['Spend_mon'])\n",
    "final_data['Years'] = final_data['Date'].dt.year\n",
    "city_wise= final_data.groupby(['City','Product','Years'])['Spend_amt'].sum()"
   ]
  },
  {
   "cell_type": "code",
   "execution_count": null,
   "id": "1d5b36d7",
   "metadata": {},
   "outputs": [],
   "source": [
    "plt.hist(x= city_wise, bins = 6 )"
   ]
  },
  {
   "cell_type": "markdown",
   "id": "fc8993ed",
   "metadata": {},
   "source": [
    "# 4. Create graphs for"
   ]
  },
  {
   "cell_type": "markdown",
   "id": "288b312f",
   "metadata": {},
   "source": [
    "# a. Monthly comparison of total spends, city wise"
   ]
  },
  {
   "cell_type": "code",
   "execution_count": null,
   "id": "b53823e9",
   "metadata": {},
   "outputs": [],
   "source": [
    "final_data['Dated']= pd.to_datetime(final_data['Spend_mon'])\n",
    "final_data['Months']= final_data['Dated'].dt.month\n",
    "mon_compare= final_data.groupby(['City','Months','Years'])['Spend_amt'].sum()\n",
    "#sns.barplot(x = mon_compare.index, y =mon_compare.values, palette=\"viridis\")\n",
    "plt.scatter(x = final_data['Months'], y=final_data['Months'])"
   ]
  },
  {
   "cell_type": "markdown",
   "id": "c33463cb",
   "metadata": {},
   "source": [
    "# b. Comparison of yearly spend on air tickets"
   ]
  },
  {
   "cell_type": "code",
   "execution_count": null,
   "id": "30422754",
   "metadata": {},
   "outputs": [],
   "source": [
    "final_data[['Spend_amt', 'Years']]\n",
    "air_tkt= final_data[(final_data['Type']== 'AIR TICKET')]\n",
    "yearly_spend= air_tkt.groupby('Years')['Spend_amt'].sum()\n",
    "sns.barplot(x=yearly_spend.index, y=yearly_spend.values, palette=\"viridis\")\n",
    "plt.title('Yearly Spend on Air Tickets')"
   ]
  },
  {
   "cell_type": "markdown",
   "id": "d95fdf8a",
   "metadata": {},
   "source": [
    "# c. Comparison of monthly spend for each product (look for any seasonality that exists in terms of spend)."
   ]
  },
  {
   "cell_type": "code",
   "execution_count": null,
   "id": "0282406f",
   "metadata": {},
   "outputs": [],
   "source": [
    "final_data.groupby(['Type', 'Months'])['Spend_amt'].sum()"
   ]
  },
  {
   "cell_type": "code",
   "execution_count": null,
   "id": "692bb8d4",
   "metadata": {},
   "outputs": [],
   "source": []
  },
  {
   "cell_type": "code",
   "execution_count": null,
   "id": "2f6131f7",
   "metadata": {},
   "outputs": [],
   "source": []
  }
 ],
 "metadata": {
  "kernelspec": {
   "display_name": "Python 3 (ipykernel)",
   "language": "python",
   "name": "python3"
  },
  "language_info": {
   "codemirror_mode": {
    "name": "ipython",
    "version": 3
   },
   "file_extension": ".py",
   "mimetype": "text/x-python",
   "name": "python",
   "nbconvert_exporter": "python",
   "pygments_lexer": "ipython3",
   "version": "3.11.4"
  }
 },
 "nbformat": 4,
 "nbformat_minor": 5
}
