{
 "cells": [
  {
   "cell_type": "markdown",
   "id": "eb45ad92",
   "metadata": {},
   "source": [
    "### Business Context:\n",
    "    -The client is one of the leading online market place in India and would like partner with Analytixlabs. \n",
    "    -Client wants help in measuring, managing and analysing performance of business"
   ]
  },
  {
   "cell_type": "code",
   "execution_count": 1,
   "id": "10d997bb",
   "metadata": {},
   "outputs": [],
   "source": [
    "import pandas as pd\n",
    "import numpy as np\n",
    "import datetime as dt\n",
    "import matplotlib.pyplot as plt\n",
    "from scipy import stats as stats\n",
    "import re\n",
    "import seaborn as sns"
   ]
  },
  {
   "cell_type": "code",
   "execution_count": 2,
   "id": "56d1ce8c",
   "metadata": {},
   "outputs": [
    {
     "name": "stdout",
     "output_type": "stream",
     "text": [
      "D:\\AnalytixLab Study_Content\\Python_classe_files\\Case Studies\\Python Foundation End to End Case Study E-Commerce Analytics Project\\5. Python Foundation End to End Case Study_E-Commerce Analytics Project\n"
     ]
    }
   ],
   "source": [
    "%cd \"D:\\AnalytixLab Study_Content\\Python_classe_files\\Case Studies\\Python Foundation End to End Case Study E-Commerce Analytics Project\\5. Python Foundation End to End Case Study_E-Commerce Analytics Project\""
   ]
  },
  {
   "cell_type": "code",
   "execution_count": 3,
   "id": "664b3941",
   "metadata": {},
   "outputs": [],
   "source": [
    "customer= pd.read_csv('CUSTOMERS.CSV')\n",
    "geo_loc= pd.read_csv(\"GEO_LOCATION.CSV\")\n",
    "ord_item= pd.read_csv(\"ORDER_ITEMS.csv\")\n",
    "ord_pay= pd.read_csv(\"ORDER_PAYMENTS.CSV\")\n",
    "review= pd.read_csv(\"ORDER_REVIEW_RATINGS.csv\")\n",
    "order= pd.read_csv(\"ORDERS.csv\")\n",
    "product= pd.read_csv(\"PRODUCTS.csv\")\n",
    "seller= pd.read_csv(\"SELLERS.csv\")"
   ]
  },
  {
   "cell_type": "code",
   "execution_count": 4,
   "id": "982a8575",
   "metadata": {},
   "outputs": [
    {
     "data": {
      "text/html": [
       "<div>\n",
       "<style scoped>\n",
       "    .dataframe tbody tr th:only-of-type {\n",
       "        vertical-align: middle;\n",
       "    }\n",
       "\n",
       "    .dataframe tbody tr th {\n",
       "        vertical-align: top;\n",
       "    }\n",
       "\n",
       "    .dataframe thead th {\n",
       "        text-align: right;\n",
       "    }\n",
       "</style>\n",
       "<table border=\"1\" class=\"dataframe\">\n",
       "  <thead>\n",
       "    <tr style=\"text-align: right;\">\n",
       "      <th></th>\n",
       "      <th>customer_id</th>\n",
       "      <th>customer_unique_id</th>\n",
       "      <th>customer_zip_code_prefix</th>\n",
       "      <th>customer_city</th>\n",
       "      <th>customer_state</th>\n",
       "    </tr>\n",
       "  </thead>\n",
       "  <tbody>\n",
       "    <tr>\n",
       "      <th>0</th>\n",
       "      <td>06b8999e2fba1a1fbc88172c00ba8bc7</td>\n",
       "      <td>861eff4711a542e4b93843c6dd7febb0</td>\n",
       "      <td>14409</td>\n",
       "      <td>Adilabad</td>\n",
       "      <td>Andhra Pradesh</td>\n",
       "    </tr>\n",
       "  </tbody>\n",
       "</table>\n",
       "</div>"
      ],
      "text/plain": [
       "                        customer_id                customer_unique_id  \\\n",
       "0  06b8999e2fba1a1fbc88172c00ba8bc7  861eff4711a542e4b93843c6dd7febb0   \n",
       "\n",
       "   customer_zip_code_prefix customer_city  customer_state  \n",
       "0                     14409      Adilabad  Andhra Pradesh  "
      ]
     },
     "execution_count": 4,
     "metadata": {},
     "output_type": "execute_result"
    }
   ],
   "source": [
    "customer.head(1)"
   ]
  },
  {
   "cell_type": "code",
   "execution_count": 5,
   "id": "5078c503",
   "metadata": {},
   "outputs": [
    {
     "data": {
      "text/html": [
       "<div>\n",
       "<style scoped>\n",
       "    .dataframe tbody tr th:only-of-type {\n",
       "        vertical-align: middle;\n",
       "    }\n",
       "\n",
       "    .dataframe tbody tr th {\n",
       "        vertical-align: top;\n",
       "    }\n",
       "\n",
       "    .dataframe thead th {\n",
       "        text-align: right;\n",
       "    }\n",
       "</style>\n",
       "<table border=\"1\" class=\"dataframe\">\n",
       "  <thead>\n",
       "    <tr style=\"text-align: right;\">\n",
       "      <th></th>\n",
       "      <th>geolocation_zip_code_prefix</th>\n",
       "      <th>geolocation_lat</th>\n",
       "      <th>geolocation_lng</th>\n",
       "      <th>geolocation_city</th>\n",
       "      <th>geolocation_state</th>\n",
       "    </tr>\n",
       "  </thead>\n",
       "  <tbody>\n",
       "    <tr>\n",
       "      <th>0</th>\n",
       "      <td>1037</td>\n",
       "      <td>-23.545621</td>\n",
       "      <td>-46.639292</td>\n",
       "      <td>Akkarampalle</td>\n",
       "      <td>Andhra Pradesh</td>\n",
       "    </tr>\n",
       "  </tbody>\n",
       "</table>\n",
       "</div>"
      ],
      "text/plain": [
       "   geolocation_zip_code_prefix  geolocation_lat  geolocation_lng  \\\n",
       "0                         1037       -23.545621       -46.639292   \n",
       "\n",
       "  geolocation_city geolocation_state  \n",
       "0     Akkarampalle    Andhra Pradesh  "
      ]
     },
     "execution_count": 5,
     "metadata": {},
     "output_type": "execute_result"
    }
   ],
   "source": [
    "geo_loc.head(1)"
   ]
  },
  {
   "cell_type": "code",
   "execution_count": 6,
   "id": "aa6d8f7f",
   "metadata": {},
   "outputs": [
    {
     "data": {
      "text/html": [
       "<div>\n",
       "<style scoped>\n",
       "    .dataframe tbody tr th:only-of-type {\n",
       "        vertical-align: middle;\n",
       "    }\n",
       "\n",
       "    .dataframe tbody tr th {\n",
       "        vertical-align: top;\n",
       "    }\n",
       "\n",
       "    .dataframe thead th {\n",
       "        text-align: right;\n",
       "    }\n",
       "</style>\n",
       "<table border=\"1\" class=\"dataframe\">\n",
       "  <thead>\n",
       "    <tr style=\"text-align: right;\">\n",
       "      <th></th>\n",
       "      <th>order_id</th>\n",
       "      <th>order_item_id</th>\n",
       "      <th>product_id</th>\n",
       "      <th>seller_id</th>\n",
       "      <th>shipping_limit_date</th>\n",
       "      <th>price</th>\n",
       "      <th>freight_value</th>\n",
       "    </tr>\n",
       "  </thead>\n",
       "  <tbody>\n",
       "    <tr>\n",
       "      <th>0</th>\n",
       "      <td>00010242fe8c5a6d1ba2dd792cb16214</td>\n",
       "      <td>1</td>\n",
       "      <td>4244733e06e7ecb4970a6e2683c13e61</td>\n",
       "      <td>48436dade18ac8b2bce089ec2a041202</td>\n",
       "      <td>9/19/2017 9:45</td>\n",
       "      <td>58.9</td>\n",
       "      <td>13.29</td>\n",
       "    </tr>\n",
       "  </tbody>\n",
       "</table>\n",
       "</div>"
      ],
      "text/plain": [
       "                           order_id  order_item_id  \\\n",
       "0  00010242fe8c5a6d1ba2dd792cb16214              1   \n",
       "\n",
       "                         product_id                         seller_id  \\\n",
       "0  4244733e06e7ecb4970a6e2683c13e61  48436dade18ac8b2bce089ec2a041202   \n",
       "\n",
       "  shipping_limit_date  price  freight_value  \n",
       "0      9/19/2017 9:45   58.9          13.29  "
      ]
     },
     "execution_count": 6,
     "metadata": {},
     "output_type": "execute_result"
    }
   ],
   "source": [
    "ord_item.head(1)"
   ]
  },
  {
   "cell_type": "code",
   "execution_count": 7,
   "id": "736e0fd3",
   "metadata": {},
   "outputs": [
    {
     "data": {
      "text/html": [
       "<div>\n",
       "<style scoped>\n",
       "    .dataframe tbody tr th:only-of-type {\n",
       "        vertical-align: middle;\n",
       "    }\n",
       "\n",
       "    .dataframe tbody tr th {\n",
       "        vertical-align: top;\n",
       "    }\n",
       "\n",
       "    .dataframe thead th {\n",
       "        text-align: right;\n",
       "    }\n",
       "</style>\n",
       "<table border=\"1\" class=\"dataframe\">\n",
       "  <thead>\n",
       "    <tr style=\"text-align: right;\">\n",
       "      <th></th>\n",
       "      <th>order_id</th>\n",
       "      <th>payment_sequential</th>\n",
       "      <th>payment_type</th>\n",
       "      <th>payment_installments</th>\n",
       "      <th>payment_value</th>\n",
       "    </tr>\n",
       "  </thead>\n",
       "  <tbody>\n",
       "    <tr>\n",
       "      <th>0</th>\n",
       "      <td>b81ef226f3fe1789b1e8b2acac839d17</td>\n",
       "      <td>1</td>\n",
       "      <td>credit_card</td>\n",
       "      <td>8</td>\n",
       "      <td>99.33</td>\n",
       "    </tr>\n",
       "  </tbody>\n",
       "</table>\n",
       "</div>"
      ],
      "text/plain": [
       "                           order_id  payment_sequential payment_type  \\\n",
       "0  b81ef226f3fe1789b1e8b2acac839d17                   1  credit_card   \n",
       "\n",
       "   payment_installments  payment_value  \n",
       "0                     8          99.33  "
      ]
     },
     "execution_count": 7,
     "metadata": {},
     "output_type": "execute_result"
    }
   ],
   "source": [
    "ord_pay.head(1)"
   ]
  },
  {
   "cell_type": "code",
   "execution_count": 8,
   "id": "b4ae048a",
   "metadata": {},
   "outputs": [
    {
     "data": {
      "text/html": [
       "<div>\n",
       "<style scoped>\n",
       "    .dataframe tbody tr th:only-of-type {\n",
       "        vertical-align: middle;\n",
       "    }\n",
       "\n",
       "    .dataframe tbody tr th {\n",
       "        vertical-align: top;\n",
       "    }\n",
       "\n",
       "    .dataframe thead th {\n",
       "        text-align: right;\n",
       "    }\n",
       "</style>\n",
       "<table border=\"1\" class=\"dataframe\">\n",
       "  <thead>\n",
       "    <tr style=\"text-align: right;\">\n",
       "      <th></th>\n",
       "      <th>review_id</th>\n",
       "      <th>order_id</th>\n",
       "      <th>review_score</th>\n",
       "      <th>review_creation_date</th>\n",
       "      <th>review_answer_timestamp</th>\n",
       "    </tr>\n",
       "  </thead>\n",
       "  <tbody>\n",
       "    <tr>\n",
       "      <th>0</th>\n",
       "      <td>7bc2406110b926393aa56f80a40eba40</td>\n",
       "      <td>73fc7af87114b39712e6da79b0a377eb</td>\n",
       "      <td>4</td>\n",
       "      <td>1/18/2018 0:00</td>\n",
       "      <td>1/18/2018 21:46</td>\n",
       "    </tr>\n",
       "  </tbody>\n",
       "</table>\n",
       "</div>"
      ],
      "text/plain": [
       "                          review_id                          order_id  \\\n",
       "0  7bc2406110b926393aa56f80a40eba40  73fc7af87114b39712e6da79b0a377eb   \n",
       "\n",
       "   review_score review_creation_date review_answer_timestamp  \n",
       "0             4       1/18/2018 0:00         1/18/2018 21:46  "
      ]
     },
     "execution_count": 8,
     "metadata": {},
     "output_type": "execute_result"
    }
   ],
   "source": [
    "review.head(1)"
   ]
  },
  {
   "cell_type": "code",
   "execution_count": 9,
   "id": "f7761a57",
   "metadata": {},
   "outputs": [
    {
     "data": {
      "text/html": [
       "<div>\n",
       "<style scoped>\n",
       "    .dataframe tbody tr th:only-of-type {\n",
       "        vertical-align: middle;\n",
       "    }\n",
       "\n",
       "    .dataframe tbody tr th {\n",
       "        vertical-align: top;\n",
       "    }\n",
       "\n",
       "    .dataframe thead th {\n",
       "        text-align: right;\n",
       "    }\n",
       "</style>\n",
       "<table border=\"1\" class=\"dataframe\">\n",
       "  <thead>\n",
       "    <tr style=\"text-align: right;\">\n",
       "      <th></th>\n",
       "      <th>order_id</th>\n",
       "      <th>customer_id</th>\n",
       "      <th>order_status</th>\n",
       "      <th>order_purchase_timestamp</th>\n",
       "      <th>order_approved_at</th>\n",
       "      <th>order_delivered_carrier_date</th>\n",
       "      <th>order_delivered_customer_date</th>\n",
       "      <th>order_estimated_delivery_date</th>\n",
       "    </tr>\n",
       "  </thead>\n",
       "  <tbody>\n",
       "    <tr>\n",
       "      <th>0</th>\n",
       "      <td>e481f51cbdc54678b7cc49136f2d6af7</td>\n",
       "      <td>9ef432eb6251297304e76186b10a928d</td>\n",
       "      <td>delivered</td>\n",
       "      <td>10/2/2017 10:56</td>\n",
       "      <td>10/2/2017 11:07</td>\n",
       "      <td>10/4/2017 19:55</td>\n",
       "      <td>10/10/2017 21:25</td>\n",
       "      <td>10/18/2017 0:00</td>\n",
       "    </tr>\n",
       "  </tbody>\n",
       "</table>\n",
       "</div>"
      ],
      "text/plain": [
       "                           order_id                       customer_id  \\\n",
       "0  e481f51cbdc54678b7cc49136f2d6af7  9ef432eb6251297304e76186b10a928d   \n",
       "\n",
       "  order_status order_purchase_timestamp order_approved_at  \\\n",
       "0    delivered          10/2/2017 10:56   10/2/2017 11:07   \n",
       "\n",
       "  order_delivered_carrier_date order_delivered_customer_date  \\\n",
       "0              10/4/2017 19:55              10/10/2017 21:25   \n",
       "\n",
       "  order_estimated_delivery_date  \n",
       "0               10/18/2017 0:00  "
      ]
     },
     "execution_count": 9,
     "metadata": {},
     "output_type": "execute_result"
    }
   ],
   "source": [
    "order.head(1)"
   ]
  },
  {
   "cell_type": "code",
   "execution_count": 10,
   "id": "8f3a2164",
   "metadata": {},
   "outputs": [
    {
     "data": {
      "text/html": [
       "<div>\n",
       "<style scoped>\n",
       "    .dataframe tbody tr th:only-of-type {\n",
       "        vertical-align: middle;\n",
       "    }\n",
       "\n",
       "    .dataframe tbody tr th {\n",
       "        vertical-align: top;\n",
       "    }\n",
       "\n",
       "    .dataframe thead th {\n",
       "        text-align: right;\n",
       "    }\n",
       "</style>\n",
       "<table border=\"1\" class=\"dataframe\">\n",
       "  <thead>\n",
       "    <tr style=\"text-align: right;\">\n",
       "      <th></th>\n",
       "      <th>product_id</th>\n",
       "      <th>product_category_name</th>\n",
       "      <th>product_name_lenght</th>\n",
       "      <th>product_description_lenght</th>\n",
       "      <th>product_photos_qty</th>\n",
       "      <th>product_weight_g</th>\n",
       "      <th>product_length_cm</th>\n",
       "      <th>product_height_cm</th>\n",
       "      <th>product_width_cm</th>\n",
       "    </tr>\n",
       "  </thead>\n",
       "  <tbody>\n",
       "    <tr>\n",
       "      <th>0</th>\n",
       "      <td>1e9e8ef04dbcff4541ed26657ea517e5</td>\n",
       "      <td>Perfumery</td>\n",
       "      <td>40.0</td>\n",
       "      <td>287.0</td>\n",
       "      <td>1.0</td>\n",
       "      <td>225.0</td>\n",
       "      <td>16.0</td>\n",
       "      <td>10.0</td>\n",
       "      <td>14.0</td>\n",
       "    </tr>\n",
       "  </tbody>\n",
       "</table>\n",
       "</div>"
      ],
      "text/plain": [
       "                         product_id product_category_name  \\\n",
       "0  1e9e8ef04dbcff4541ed26657ea517e5             Perfumery   \n",
       "\n",
       "   product_name_lenght  product_description_lenght  product_photos_qty  \\\n",
       "0                 40.0                       287.0                 1.0   \n",
       "\n",
       "   product_weight_g  product_length_cm  product_height_cm  product_width_cm  \n",
       "0             225.0               16.0               10.0              14.0  "
      ]
     },
     "execution_count": 10,
     "metadata": {},
     "output_type": "execute_result"
    }
   ],
   "source": [
    "product.head(1)"
   ]
  },
  {
   "cell_type": "code",
   "execution_count": 11,
   "id": "3b8ea89d",
   "metadata": {},
   "outputs": [
    {
     "data": {
      "text/html": [
       "<div>\n",
       "<style scoped>\n",
       "    .dataframe tbody tr th:only-of-type {\n",
       "        vertical-align: middle;\n",
       "    }\n",
       "\n",
       "    .dataframe tbody tr th {\n",
       "        vertical-align: top;\n",
       "    }\n",
       "\n",
       "    .dataframe thead th {\n",
       "        text-align: right;\n",
       "    }\n",
       "</style>\n",
       "<table border=\"1\" class=\"dataframe\">\n",
       "  <thead>\n",
       "    <tr style=\"text-align: right;\">\n",
       "      <th></th>\n",
       "      <th>seller_id</th>\n",
       "      <th>seller_zip_code_prefix</th>\n",
       "      <th>seller_city</th>\n",
       "      <th>seller_state</th>\n",
       "    </tr>\n",
       "  </thead>\n",
       "  <tbody>\n",
       "    <tr>\n",
       "      <th>0</th>\n",
       "      <td>3442f8959a84dea7ee197c632cb2df15</td>\n",
       "      <td>13023</td>\n",
       "      <td>Alwal</td>\n",
       "      <td>Andhra Pradesh</td>\n",
       "    </tr>\n",
       "  </tbody>\n",
       "</table>\n",
       "</div>"
      ],
      "text/plain": [
       "                          seller_id  seller_zip_code_prefix seller_city  \\\n",
       "0  3442f8959a84dea7ee197c632cb2df15                   13023       Alwal   \n",
       "\n",
       "     seller_state  \n",
       "0  Andhra Pradesh  "
      ]
     },
     "execution_count": 11,
     "metadata": {},
     "output_type": "execute_result"
    }
   ],
   "source": [
    "seller.head(1)"
   ]
  },
  {
   "cell_type": "code",
   "execution_count": 57,
   "id": "2476db90",
   "metadata": {},
   "outputs": [],
   "source": [
    "customer_geo= pd.merge(customer,geo_loc,left_on= 'customer_zip_code_prefix',right_on='geolocation_zip_code_prefix',how= 'left')"
   ]
  },
  {
   "cell_type": "code",
   "execution_count": 58,
   "id": "7a7e668d",
   "metadata": {},
   "outputs": [],
   "source": [
    "customer_geo_order= pd.merge(customer_geo,order, left_on='customer_id', right_on='customer_id', how= 'left')"
   ]
  },
  {
   "cell_type": "code",
   "execution_count": 59,
   "id": "c6264608",
   "metadata": {},
   "outputs": [],
   "source": [
    "customer_geo_order_review= pd.merge(customer_geo_order,review, left_on='order_id',right_on='order_id', how= 'left' )"
   ]
  },
  {
   "cell_type": "code",
   "execution_count": 60,
   "id": "b44ef4fa",
   "metadata": {},
   "outputs": [],
   "source": [
    "customer_geo_order_review_ordpay = pd.merge(customer_geo_order_review, ord_pay, left_on='order_id', right_on='order_id', how= 'left')"
   ]
  },
  {
   "cell_type": "code",
   "execution_count": 61,
   "id": "5bec5eec",
   "metadata": {},
   "outputs": [],
   "source": [
    "customer_geo_order_review_ordpay_orditem= pd.merge(customer_geo_order_review_ordpay, ord_item,left_on='order_id',right_on='order_id', how='left')"
   ]
  },
  {
   "cell_type": "code",
   "execution_count": 62,
   "id": "543eeb5e",
   "metadata": {},
   "outputs": [],
   "source": [
    "customer_geo_order_review_ordpay_orditem_seller= pd.merge(customer_geo_order_review_ordpay_orditem, seller, left_on='seller_id',right_on='seller_id', how= 'left')"
   ]
  },
  {
   "cell_type": "code",
   "execution_count": 63,
   "id": "3301dfc3",
   "metadata": {},
   "outputs": [],
   "source": [
    "final_data= customer_geo_order_review_ordpay_orditem_seller.merge(product,left_on='product_id',right_on='product_id', how= 'left')"
   ]
  },
  {
   "cell_type": "code",
   "execution_count": 64,
   "id": "7ddff1f2",
   "metadata": {},
   "outputs": [
    {
     "data": {
      "text/plain": [
       "(119151, 42)"
      ]
     },
     "execution_count": 64,
     "metadata": {},
     "output_type": "execute_result"
    }
   ],
   "source": [
    "final_data.shape"
   ]
  },
  {
   "cell_type": "code",
   "execution_count": 65,
   "id": "f8ca1c79",
   "metadata": {},
   "outputs": [],
   "source": [
    "final_data.drop(columns=['product_weight_g','product_photos_qty','product_name_lenght','product_description_lenght','product_width_cm','geolocation_lat','geolocation_lng'],axis=1, inplace=True)"
   ]
  },
  {
   "cell_type": "markdown",
   "id": "4f2ae7b3",
   "metadata": {},
   "source": [
    "# 1. Perform Detailed exploratory analysis\n"
   ]
  },
  {
   "cell_type": "markdown",
   "id": "71cc821c",
   "metadata": {},
   "source": [
    "# a. Define & calculate high level metrics like (Total Revenue, Total quantity, Total products, Total categories, Total sellers, Total locations, Total channels, Total payment methods etc…)"
   ]
  },
  {
   "cell_type": "code",
   "execution_count": 66,
   "id": "573f0800",
   "metadata": {},
   "outputs": [],
   "source": [
    "pd.set_option('display.max.column',50)"
   ]
  },
  {
   "cell_type": "code",
   "execution_count": 67,
   "id": "c16aa05c",
   "metadata": {},
   "outputs": [
    {
     "data": {
      "text/html": [
       "<div>\n",
       "<style scoped>\n",
       "    .dataframe tbody tr th:only-of-type {\n",
       "        vertical-align: middle;\n",
       "    }\n",
       "\n",
       "    .dataframe tbody tr th {\n",
       "        vertical-align: top;\n",
       "    }\n",
       "\n",
       "    .dataframe thead th {\n",
       "        text-align: right;\n",
       "    }\n",
       "</style>\n",
       "<table border=\"1\" class=\"dataframe\">\n",
       "  <thead>\n",
       "    <tr style=\"text-align: right;\">\n",
       "      <th></th>\n",
       "      <th>customer_id</th>\n",
       "      <th>customer_unique_id</th>\n",
       "      <th>customer_zip_code_prefix</th>\n",
       "      <th>customer_city</th>\n",
       "      <th>customer_state</th>\n",
       "      <th>geolocation_zip_code_prefix</th>\n",
       "      <th>geolocation_city</th>\n",
       "      <th>geolocation_state</th>\n",
       "      <th>order_id</th>\n",
       "      <th>order_status</th>\n",
       "      <th>order_purchase_timestamp</th>\n",
       "      <th>order_approved_at</th>\n",
       "      <th>order_delivered_carrier_date</th>\n",
       "      <th>order_delivered_customer_date</th>\n",
       "      <th>order_estimated_delivery_date</th>\n",
       "      <th>review_id</th>\n",
       "      <th>review_score</th>\n",
       "      <th>review_creation_date</th>\n",
       "      <th>review_answer_timestamp</th>\n",
       "      <th>payment_sequential</th>\n",
       "      <th>payment_type</th>\n",
       "      <th>payment_installments</th>\n",
       "      <th>payment_value</th>\n",
       "      <th>order_item_id</th>\n",
       "      <th>product_id</th>\n",
       "      <th>seller_id</th>\n",
       "      <th>shipping_limit_date</th>\n",
       "      <th>price</th>\n",
       "      <th>freight_value</th>\n",
       "      <th>seller_zip_code_prefix</th>\n",
       "      <th>seller_city</th>\n",
       "      <th>seller_state</th>\n",
       "      <th>product_category_name</th>\n",
       "      <th>product_length_cm</th>\n",
       "      <th>product_height_cm</th>\n",
       "    </tr>\n",
       "  </thead>\n",
       "  <tbody>\n",
       "    <tr>\n",
       "      <th>0</th>\n",
       "      <td>06b8999e2fba1a1fbc88172c00ba8bc7</td>\n",
       "      <td>861eff4711a542e4b93843c6dd7febb0</td>\n",
       "      <td>14409</td>\n",
       "      <td>Adilabad</td>\n",
       "      <td>Andhra Pradesh</td>\n",
       "      <td>14409.0</td>\n",
       "      <td>Adilabad</td>\n",
       "      <td>Andhra Pradesh</td>\n",
       "      <td>00e7ee1b050b8499577073aeb2a297a1</td>\n",
       "      <td>delivered</td>\n",
       "      <td>5/16/2017 15:05</td>\n",
       "      <td>5/16/2017 15:22</td>\n",
       "      <td>5/23/2017 10:47</td>\n",
       "      <td>5/25/2017 10:35</td>\n",
       "      <td>6/5/2017 0:00</td>\n",
       "      <td>88b8b52d46df026a9d1ad2136a59b30b</td>\n",
       "      <td>4</td>\n",
       "      <td>5/26/2017 0:00</td>\n",
       "      <td>5/30/2017 22:34</td>\n",
       "      <td>1.0</td>\n",
       "      <td>credit_card</td>\n",
       "      <td>2.0</td>\n",
       "      <td>146.87</td>\n",
       "      <td>1.0</td>\n",
       "      <td>a9516a079e37a9c9c36b9b78b10169e8</td>\n",
       "      <td>7c67e1448b00f6e969d365cea6b010ab</td>\n",
       "      <td>5/22/2017 15:22</td>\n",
       "      <td>124.99</td>\n",
       "      <td>21.88</td>\n",
       "      <td>8577.0</td>\n",
       "      <td>Vijayawada</td>\n",
       "      <td>Andhra Pradesh</td>\n",
       "      <td>Office_Furniture</td>\n",
       "      <td>54.0</td>\n",
       "      <td>64.0</td>\n",
       "    </tr>\n",
       "    <tr>\n",
       "      <th>1</th>\n",
       "      <td>18955e83d337fd6b2def6b18a428ac77</td>\n",
       "      <td>290c77bc529b7ac935b93aa66c333dc3</td>\n",
       "      <td>9790</td>\n",
       "      <td>Adoni</td>\n",
       "      <td>Andhra Pradesh</td>\n",
       "      <td>9790.0</td>\n",
       "      <td>Adoni</td>\n",
       "      <td>Andhra Pradesh</td>\n",
       "      <td>29150127e6685892b6eab3eec79f59c7</td>\n",
       "      <td>delivered</td>\n",
       "      <td>1/12/2018 20:48</td>\n",
       "      <td>1/12/2018 20:58</td>\n",
       "      <td>1/15/2018 17:14</td>\n",
       "      <td>1/29/2018 12:41</td>\n",
       "      <td>2/6/2018 0:00</td>\n",
       "      <td>02fc48a9efa3e3d0f1a8ea26507eeec3</td>\n",
       "      <td>5</td>\n",
       "      <td>1/30/2018 0:00</td>\n",
       "      <td>2/10/2018 22:43</td>\n",
       "      <td>1.0</td>\n",
       "      <td>credit_card</td>\n",
       "      <td>8.0</td>\n",
       "      <td>335.48</td>\n",
       "      <td>1.0</td>\n",
       "      <td>4aa6014eceb682077f9dc4bffebc05b0</td>\n",
       "      <td>b8bc237ba3788b23da09c0f1f3a3288c</td>\n",
       "      <td>1/18/2018 20:58</td>\n",
       "      <td>289.00</td>\n",
       "      <td>46.48</td>\n",
       "      <td>88303.0</td>\n",
       "      <td>Sadasivpet</td>\n",
       "      <td>Andhra Pradesh</td>\n",
       "      <td>Housewares</td>\n",
       "      <td>89.0</td>\n",
       "      <td>15.0</td>\n",
       "    </tr>\n",
       "    <tr>\n",
       "      <th>2</th>\n",
       "      <td>4e7b3e00288586ebd08712fdd0374a03</td>\n",
       "      <td>060e732b5b29e8181a18229c7b0b2b5e</td>\n",
       "      <td>1151</td>\n",
       "      <td>Akkarampalle</td>\n",
       "      <td>Andhra Pradesh</td>\n",
       "      <td>1151.0</td>\n",
       "      <td>Akkarampalle</td>\n",
       "      <td>Andhra Pradesh</td>\n",
       "      <td>b2059ed67ce144a36e2aa97d2c9e9ad2</td>\n",
       "      <td>delivered</td>\n",
       "      <td>5/19/2018 16:07</td>\n",
       "      <td>5/20/2018 16:19</td>\n",
       "      <td>6/11/2018 14:31</td>\n",
       "      <td>6/14/2018 17:58</td>\n",
       "      <td>6/13/2018 0:00</td>\n",
       "      <td>5ad6695d76ee186dc473c42706984d87</td>\n",
       "      <td>5</td>\n",
       "      <td>6/15/2018 0:00</td>\n",
       "      <td>6/15/2018 12:10</td>\n",
       "      <td>1.0</td>\n",
       "      <td>credit_card</td>\n",
       "      <td>7.0</td>\n",
       "      <td>157.73</td>\n",
       "      <td>1.0</td>\n",
       "      <td>bd07b66896d6f1494f5b86251848ced7</td>\n",
       "      <td>7c67e1448b00f6e969d365cea6b010ab</td>\n",
       "      <td>6/5/2018 16:19</td>\n",
       "      <td>139.94</td>\n",
       "      <td>17.79</td>\n",
       "      <td>8577.0</td>\n",
       "      <td>Vijayawada</td>\n",
       "      <td>Andhra Pradesh</td>\n",
       "      <td>Office_Furniture</td>\n",
       "      <td>52.0</td>\n",
       "      <td>52.0</td>\n",
       "    </tr>\n",
       "  </tbody>\n",
       "</table>\n",
       "</div>"
      ],
      "text/plain": [
       "                        customer_id                customer_unique_id  \\\n",
       "0  06b8999e2fba1a1fbc88172c00ba8bc7  861eff4711a542e4b93843c6dd7febb0   \n",
       "1  18955e83d337fd6b2def6b18a428ac77  290c77bc529b7ac935b93aa66c333dc3   \n",
       "2  4e7b3e00288586ebd08712fdd0374a03  060e732b5b29e8181a18229c7b0b2b5e   \n",
       "\n",
       "   customer_zip_code_prefix customer_city  customer_state  \\\n",
       "0                     14409      Adilabad  Andhra Pradesh   \n",
       "1                      9790         Adoni  Andhra Pradesh   \n",
       "2                      1151  Akkarampalle  Andhra Pradesh   \n",
       "\n",
       "   geolocation_zip_code_prefix geolocation_city geolocation_state  \\\n",
       "0                      14409.0         Adilabad    Andhra Pradesh   \n",
       "1                       9790.0            Adoni    Andhra Pradesh   \n",
       "2                       1151.0     Akkarampalle    Andhra Pradesh   \n",
       "\n",
       "                           order_id order_status order_purchase_timestamp  \\\n",
       "0  00e7ee1b050b8499577073aeb2a297a1    delivered          5/16/2017 15:05   \n",
       "1  29150127e6685892b6eab3eec79f59c7    delivered          1/12/2018 20:48   \n",
       "2  b2059ed67ce144a36e2aa97d2c9e9ad2    delivered          5/19/2018 16:07   \n",
       "\n",
       "  order_approved_at order_delivered_carrier_date  \\\n",
       "0   5/16/2017 15:22              5/23/2017 10:47   \n",
       "1   1/12/2018 20:58              1/15/2018 17:14   \n",
       "2   5/20/2018 16:19              6/11/2018 14:31   \n",
       "\n",
       "  order_delivered_customer_date order_estimated_delivery_date  \\\n",
       "0               5/25/2017 10:35                 6/5/2017 0:00   \n",
       "1               1/29/2018 12:41                 2/6/2018 0:00   \n",
       "2               6/14/2018 17:58                6/13/2018 0:00   \n",
       "\n",
       "                          review_id  review_score review_creation_date  \\\n",
       "0  88b8b52d46df026a9d1ad2136a59b30b             4       5/26/2017 0:00   \n",
       "1  02fc48a9efa3e3d0f1a8ea26507eeec3             5       1/30/2018 0:00   \n",
       "2  5ad6695d76ee186dc473c42706984d87             5       6/15/2018 0:00   \n",
       "\n",
       "  review_answer_timestamp  payment_sequential payment_type  \\\n",
       "0         5/30/2017 22:34                 1.0  credit_card   \n",
       "1         2/10/2018 22:43                 1.0  credit_card   \n",
       "2         6/15/2018 12:10                 1.0  credit_card   \n",
       "\n",
       "   payment_installments  payment_value  order_item_id  \\\n",
       "0                   2.0         146.87            1.0   \n",
       "1                   8.0         335.48            1.0   \n",
       "2                   7.0         157.73            1.0   \n",
       "\n",
       "                         product_id                         seller_id  \\\n",
       "0  a9516a079e37a9c9c36b9b78b10169e8  7c67e1448b00f6e969d365cea6b010ab   \n",
       "1  4aa6014eceb682077f9dc4bffebc05b0  b8bc237ba3788b23da09c0f1f3a3288c   \n",
       "2  bd07b66896d6f1494f5b86251848ced7  7c67e1448b00f6e969d365cea6b010ab   \n",
       "\n",
       "  shipping_limit_date   price  freight_value  seller_zip_code_prefix  \\\n",
       "0     5/22/2017 15:22  124.99          21.88                  8577.0   \n",
       "1     1/18/2018 20:58  289.00          46.48                 88303.0   \n",
       "2      6/5/2018 16:19  139.94          17.79                  8577.0   \n",
       "\n",
       "  seller_city    seller_state product_category_name  product_length_cm  \\\n",
       "0  Vijayawada  Andhra Pradesh      Office_Furniture               54.0   \n",
       "1  Sadasivpet  Andhra Pradesh            Housewares               89.0   \n",
       "2  Vijayawada  Andhra Pradesh      Office_Furniture               52.0   \n",
       "\n",
       "   product_height_cm  \n",
       "0               64.0  \n",
       "1               15.0  \n",
       "2               52.0  "
      ]
     },
     "execution_count": 67,
     "metadata": {},
     "output_type": "execute_result"
    }
   ],
   "source": [
    "final_data.head(3)"
   ]
  },
  {
   "cell_type": "code",
   "execution_count": 19,
   "id": "04fa4488",
   "metadata": {},
   "outputs": [],
   "source": [
    "# TOTAL REVENUE"
   ]
  },
  {
   "cell_type": "code",
   "execution_count": 68,
   "id": "dfeb2255",
   "metadata": {},
   "outputs": [],
   "source": [
    "final_data['revenue']=final_data['price']+final_data['freight_value']"
   ]
  },
  {
   "cell_type": "code",
   "execution_count": 69,
   "id": "791aefda",
   "metadata": {},
   "outputs": [
    {
     "data": {
      "text/plain": [
       "16645176.909999998"
      ]
     },
     "execution_count": 69,
     "metadata": {},
     "output_type": "execute_result"
    }
   ],
   "source": [
    "final_data['revenue'].sum()"
   ]
  },
  {
   "cell_type": "code",
   "execution_count": 22,
   "id": "f0c10f4d",
   "metadata": {},
   "outputs": [],
   "source": [
    "# TOTAL QUANTITY"
   ]
  },
  {
   "cell_type": "code",
   "execution_count": 23,
   "id": "e85b7b81",
   "metadata": {},
   "outputs": [
    {
     "data": {
      "text/plain": [
       "118318"
      ]
     },
     "execution_count": 23,
     "metadata": {},
     "output_type": "execute_result"
    }
   ],
   "source": [
    "final_data['order_item_id'].count()"
   ]
  },
  {
   "cell_type": "code",
   "execution_count": 24,
   "id": "b59c4330",
   "metadata": {},
   "outputs": [],
   "source": [
    "# TOTAL PRODUCTS"
   ]
  },
  {
   "cell_type": "code",
   "execution_count": 25,
   "id": "1651b7aa",
   "metadata": {},
   "outputs": [
    {
     "data": {
      "text/plain": [
       "32951"
      ]
     },
     "execution_count": 25,
     "metadata": {},
     "output_type": "execute_result"
    }
   ],
   "source": [
    "final_data['product_id'].nunique()"
   ]
  },
  {
   "cell_type": "code",
   "execution_count": 26,
   "id": "6daefeb6",
   "metadata": {},
   "outputs": [],
   "source": [
    "# TOTAL CATEGORIES"
   ]
  },
  {
   "cell_type": "code",
   "execution_count": 27,
   "id": "36855096",
   "metadata": {},
   "outputs": [
    {
     "data": {
      "text/plain": [
       "71"
      ]
     },
     "execution_count": 27,
     "metadata": {},
     "output_type": "execute_result"
    }
   ],
   "source": [
    "final_data['product_category_name'].nunique()"
   ]
  },
  {
   "cell_type": "code",
   "execution_count": 28,
   "id": "236d4730",
   "metadata": {},
   "outputs": [],
   "source": [
    "# Total sellers"
   ]
  },
  {
   "cell_type": "code",
   "execution_count": 29,
   "id": "9de5487b",
   "metadata": {},
   "outputs": [
    {
     "data": {
      "text/plain": [
       "3095"
      ]
     },
     "execution_count": 29,
     "metadata": {},
     "output_type": "execute_result"
    }
   ],
   "source": [
    "final_data['seller_id'].nunique()"
   ]
  },
  {
   "cell_type": "code",
   "execution_count": 30,
   "id": "5d3ede32",
   "metadata": {},
   "outputs": [],
   "source": [
    "# Total locations"
   ]
  },
  {
   "cell_type": "code",
   "execution_count": 31,
   "id": "713b060a",
   "metadata": {},
   "outputs": [
    {
     "data": {
      "text/plain": [
       "14837"
      ]
     },
     "execution_count": 31,
     "metadata": {},
     "output_type": "execute_result"
    }
   ],
   "source": [
    "final_data['geolocation_zip_code_prefix'].nunique()"
   ]
  },
  {
   "cell_type": "code",
   "execution_count": 32,
   "id": "ca8cd170",
   "metadata": {},
   "outputs": [],
   "source": [
    "# Total channels"
   ]
  },
  {
   "cell_type": "code",
   "execution_count": 50,
   "id": "d9f9c95a",
   "metadata": {},
   "outputs": [
    {
     "data": {
      "text/plain": [
       "8"
      ]
     },
     "execution_count": 50,
     "metadata": {},
     "output_type": "execute_result"
    }
   ],
   "source": [
    "final_data['order_status'].nunique()"
   ]
  },
  {
   "cell_type": "code",
   "execution_count": 34,
   "id": "55ce473a",
   "metadata": {},
   "outputs": [],
   "source": [
    "# TOTAL PAYMENT MODE"
   ]
  },
  {
   "cell_type": "code",
   "execution_count": 35,
   "id": "cadaeefd",
   "metadata": {},
   "outputs": [
    {
     "data": {
      "text/plain": [
       "5"
      ]
     },
     "execution_count": 35,
     "metadata": {},
     "output_type": "execute_result"
    }
   ],
   "source": [
    "final_data['payment_type'].nunique()"
   ]
  },
  {
   "cell_type": "markdown",
   "id": "0eb97d27",
   "metadata": {},
   "source": [
    "# b. Understanding how many new customers acquired every month"
   ]
  },
  {
   "cell_type": "code",
   "execution_count": 71,
   "id": "c54425bb",
   "metadata": {},
   "outputs": [],
   "source": [
    "final_data['order_purchase_timestamp']= pd.to_datetime(final_data['order_purchase_timestamp'], format=\"%m/%d/%Y %H:%M\")"
   ]
  },
  {
   "cell_type": "code",
   "execution_count": 72,
   "id": "7534e943",
   "metadata": {},
   "outputs": [],
   "source": [
    "# Changing the timestamp into year and month as per requirement\n",
    "\n",
    "final_data['year_order']= final_data['order_purchase_timestamp'].dt.year \n",
    "final_data['month_order']= final_data['order_purchase_timestamp'].dt.month"
   ]
  },
  {
   "cell_type": "code",
   "execution_count": 73,
   "id": "ed309ae2",
   "metadata": {},
   "outputs": [
    {
     "data": {
      "text/html": [
       "<div>\n",
       "<style scoped>\n",
       "    .dataframe tbody tr th:only-of-type {\n",
       "        vertical-align: middle;\n",
       "    }\n",
       "\n",
       "    .dataframe tbody tr th {\n",
       "        vertical-align: top;\n",
       "    }\n",
       "\n",
       "    .dataframe thead th {\n",
       "        text-align: right;\n",
       "    }\n",
       "</style>\n",
       "<table border=\"1\" class=\"dataframe\">\n",
       "  <thead>\n",
       "    <tr style=\"text-align: right;\">\n",
       "      <th></th>\n",
       "      <th>year_order</th>\n",
       "      <th>month_order</th>\n",
       "      <th>customer_id</th>\n",
       "    </tr>\n",
       "  </thead>\n",
       "  <tbody>\n",
       "    <tr>\n",
       "      <th>0</th>\n",
       "      <td>2016</td>\n",
       "      <td>9</td>\n",
       "      <td>7</td>\n",
       "    </tr>\n",
       "    <tr>\n",
       "      <th>1</th>\n",
       "      <td>2016</td>\n",
       "      <td>10</td>\n",
       "      <td>402</td>\n",
       "    </tr>\n",
       "    <tr>\n",
       "      <th>2</th>\n",
       "      <td>2016</td>\n",
       "      <td>12</td>\n",
       "      <td>1</td>\n",
       "    </tr>\n",
       "  </tbody>\n",
       "</table>\n",
       "</div>"
      ],
      "text/plain": [
       "   year_order  month_order  customer_id\n",
       "0        2016            9            7\n",
       "1        2016           10          402\n",
       "2        2016           12            1"
      ]
     },
     "execution_count": 73,
     "metadata": {},
     "output_type": "execute_result"
    }
   ],
   "source": [
    "final_data[['year_order', 'month_order','customer_id']].groupby(['year_order', 'month_order'])['customer_id'].count().reset_index().head(3)"
   ]
  },
  {
   "cell_type": "code",
   "execution_count": 81,
   "id": "8ff6336b",
   "metadata": {},
   "outputs": [],
   "source": [
    "#pd.DataFrame(final_data.groupby('month_order')['customer_id'].apply(set) - final_data.groupby('month_order')['customer_id'].unique().apply(set).shift())"
   ]
  },
  {
   "cell_type": "code",
   "execution_count": 82,
   "id": "37211e50",
   "metadata": {},
   "outputs": [
    {
     "data": {
      "text/plain": [
       "<Axes: xlabel='month_order'>"
      ]
     },
     "execution_count": 82,
     "metadata": {},
     "output_type": "execute_result"
    },
    {
     "data": {
      "image/png": "[encoded data removed]",
      "text/plain": [
       "<Figure size 700x400 with 1 Axes>"
      ]
     },
     "metadata": {},
     "output_type": "display_data"
    }
   ],
   "source": [
    "a =final_data.groupby('month_order')['customer_id'].nunique()\n",
    "\n",
    "plt.figure(figsize= (7,4))\n",
    "a.plot(kind= 'bar')"
   ]
  },
  {
   "cell_type": "markdown",
   "id": "363253cc",
   "metadata": {},
   "source": [
    "# c. Understand the retention of customers on month on month basis"
   ]
  },
  {
   "cell_type": "code",
   "execution_count": 39,
   "id": "08461f09",
   "metadata": {},
   "outputs": [],
   "source": [
    "#data_reten= final_data[final_data['customer_id'].duplicated()]"
   ]
  },
  {
   "cell_type": "code",
   "execution_count": 40,
   "id": "74269322",
   "metadata": {},
   "outputs": [],
   "source": [
    "#count_reten= data_reten.groupby(['year_order','month_order'])['customer_id'].count().reset_index()"
   ]
  },
  {
   "cell_type": "code",
   "execution_count": 45,
   "id": "7b9d92c3",
   "metadata": {},
   "outputs": [],
   "source": [
    "#count_reten.head()"
   ]
  },
  {
   "cell_type": "code",
   "execution_count": 52,
   "id": "e39b85f7",
   "metadata": {},
   "outputs": [],
   "source": [
    "uni_cust= final_data['customer_id'].unique()\n",
    "active_cust = final_data.groupby('month_order')['customer_id'].nunique()\n",
    "\n",
    "cust_reten = active_cust/len(uni_cust)"
   ]
  },
  {
   "cell_type": "code",
   "execution_count": 53,
   "id": "8cff1df8",
   "metadata": {},
   "outputs": [
    {
     "data": {
      "image/png": "[encoded data removed]",
      "text/plain": [
       "<Figure size 700x300 with 1 Axes>"
      ]
     },
     "metadata": {},
     "output_type": "display_data"
    }
   ],
   "source": [
    "plt.figure(figsize=(7,3))\n",
    "plt.plot(cust_reten.index, cust_reten.values,marker='o')\n",
    "plt.title('Month by month customer retantion rate')\n",
    "plt.ylabel(\"Retention rate\")\n",
    "plt.xlabel('Month')\n",
    "plt.show()"
   ]
  },
  {
   "cell_type": "code",
   "execution_count": 42,
   "id": "58c1f5cb",
   "metadata": {},
   "outputs": [],
   "source": [
    "# for reshape the data by pivot table.\n",
    "#count_reten.pivot_table(values='customer_id', index= 'month_order',columns='year_order')"
   ]
  },
  {
   "cell_type": "markdown",
   "id": "e8afb2de",
   "metadata": {},
   "source": [
    "# d. How the revenues from existing/new customers on month on month basis"
   ]
  },
  {
   "cell_type": "code",
   "execution_count": 48,
   "id": "1eda8eb8",
   "metadata": {},
   "outputs": [],
   "source": [
    "existing_cust= final_data[final_data['customer_id'].duplicated()]\n",
    "new_cust= final_data[-final_data['customer_id'].duplicated()]\n"
   ]
  },
  {
   "cell_type": "code",
   "execution_count": 44,
   "id": "6abd9a94",
   "metadata": {},
   "outputs": [
    {
     "data": {
      "text/html": [
       "<div>\n",
       "<style scoped>\n",
       "    .dataframe tbody tr th:only-of-type {\n",
       "        vertical-align: middle;\n",
       "    }\n",
       "\n",
       "    .dataframe tbody tr th {\n",
       "        vertical-align: top;\n",
       "    }\n",
       "\n",
       "    .dataframe thead th {\n",
       "        text-align: right;\n",
       "    }\n",
       "</style>\n",
       "<table border=\"1\" class=\"dataframe\">\n",
       "  <thead>\n",
       "    <tr style=\"text-align: right;\">\n",
       "      <th></th>\n",
       "      <th>month_order</th>\n",
       "      <th>year_order</th>\n",
       "      <th>revenue</th>\n",
       "    </tr>\n",
       "  </thead>\n",
       "  <tbody>\n",
       "    <tr>\n",
       "      <th>0</th>\n",
       "      <td>1</td>\n",
       "      <td>2017</td>\n",
       "      <td>24948.06</td>\n",
       "    </tr>\n",
       "    <tr>\n",
       "      <th>1</th>\n",
       "      <td>1</td>\n",
       "      <td>2018</td>\n",
       "      <td>151814.91</td>\n",
       "    </tr>\n",
       "    <tr>\n",
       "      <th>2</th>\n",
       "      <td>2</td>\n",
       "      <td>2017</td>\n",
       "      <td>39366.64</td>\n",
       "    </tr>\n",
       "    <tr>\n",
       "      <th>3</th>\n",
       "      <td>2</td>\n",
       "      <td>2018</td>\n",
       "      <td>143652.01</td>\n",
       "    </tr>\n",
       "    <tr>\n",
       "      <th>4</th>\n",
       "      <td>3</td>\n",
       "      <td>2017</td>\n",
       "      <td>62006.33</td>\n",
       "    </tr>\n",
       "  </tbody>\n",
       "</table>\n",
       "</div>"
      ],
      "text/plain": [
       "   month_order  year_order    revenue\n",
       "0            1        2017   24948.06\n",
       "1            1        2018  151814.91\n",
       "2            2        2017   39366.64\n",
       "3            2        2018  143652.01\n",
       "4            3        2017   62006.33"
      ]
     },
     "execution_count": 44,
     "metadata": {},
     "output_type": "execute_result"
    }
   ],
   "source": [
    "existing_cust.groupby(['month_order','year_order'])['revenue'].sum().reset_index().head()"
   ]
  },
  {
   "cell_type": "code",
   "execution_count": 45,
   "id": "e7791660",
   "metadata": {},
   "outputs": [
    {
     "data": {
      "text/html": [
       "<div>\n",
       "<style scoped>\n",
       "    .dataframe tbody tr th:only-of-type {\n",
       "        vertical-align: middle;\n",
       "    }\n",
       "\n",
       "    .dataframe tbody tr th {\n",
       "        vertical-align: top;\n",
       "    }\n",
       "\n",
       "    .dataframe thead th {\n",
       "        text-align: right;\n",
       "    }\n",
       "</style>\n",
       "<table border=\"1\" class=\"dataframe\">\n",
       "  <thead>\n",
       "    <tr style=\"text-align: right;\">\n",
       "      <th></th>\n",
       "      <th>month_order</th>\n",
       "      <th>year_order</th>\n",
       "      <th>revenue</th>\n",
       "    </tr>\n",
       "  </thead>\n",
       "  <tbody>\n",
       "    <tr>\n",
       "      <th>0</th>\n",
       "      <td>1</td>\n",
       "      <td>2017</td>\n",
       "      <td>123082.05</td>\n",
       "    </tr>\n",
       "    <tr>\n",
       "      <th>1</th>\n",
       "      <td>1</td>\n",
       "      <td>2018</td>\n",
       "      <td>1006927.93</td>\n",
       "    </tr>\n",
       "    <tr>\n",
       "      <th>2</th>\n",
       "      <td>2</td>\n",
       "      <td>2017</td>\n",
       "      <td>264281.67</td>\n",
       "    </tr>\n",
       "    <tr>\n",
       "      <th>3</th>\n",
       "      <td>2</td>\n",
       "      <td>2018</td>\n",
       "      <td>895666.29</td>\n",
       "    </tr>\n",
       "    <tr>\n",
       "      <th>4</th>\n",
       "      <td>3</td>\n",
       "      <td>2017</td>\n",
       "      <td>397772.31</td>\n",
       "    </tr>\n",
       "  </tbody>\n",
       "</table>\n",
       "</div>"
      ],
      "text/plain": [
       "   month_order  year_order     revenue\n",
       "0            1        2017   123082.05\n",
       "1            1        2018  1006927.93\n",
       "2            2        2017   264281.67\n",
       "3            2        2018   895666.29\n",
       "4            3        2017   397772.31"
      ]
     },
     "execution_count": 45,
     "metadata": {},
     "output_type": "execute_result"
    }
   ],
   "source": [
    "new_cust.groupby(['month_order','year_order'])['revenue'].sum().reset_index().head()"
   ]
  },
  {
   "cell_type": "markdown",
   "id": "e1e88a89",
   "metadata": {},
   "source": [
    "# e. Understand the trends/seasonality of sales, quantity by category, location, month, week, day, time, channel, payment method etc…"
   ]
  },
  {
   "cell_type": "code",
   "execution_count": 104,
   "id": "1962a6d7",
   "metadata": {},
   "outputs": [
    {
     "data": {
      "text/plain": [
       "Index(['customer_id', 'customer_unique_id', 'customer_zip_code_prefix',\n",
       "       'customer_city', 'customer_state', 'geolocation_zip_code_prefix',\n",
       "       'geolocation_city', 'geolocation_state', 'order_id', 'order_status',\n",
       "       'order_purchase_timestamp', 'order_approved_at',\n",
       "       'order_delivered_carrier_date', 'order_delivered_customer_date',\n",
       "       'order_estimated_delivery_date', 'review_id', 'review_score',\n",
       "       'review_creation_date', 'review_answer_timestamp', 'payment_sequential',\n",
       "       'payment_type', 'payment_installments', 'payment_value',\n",
       "       'order_item_id', 'product_id', 'seller_id', 'shipping_limit_date',\n",
       "       'price', 'freight_value', 'seller_zip_code_prefix', 'seller_city',\n",
       "       'seller_state', 'product_category_name', 'product_length_cm',\n",
       "       'product_height_cm', 'revenue', 'year_order', 'month_order'],\n",
       "      dtype='object')"
      ]
     },
     "execution_count": 104,
     "metadata": {},
     "output_type": "execute_result"
    }
   ],
   "source": [
    "final_data.columns"
   ]
  },
  {
   "cell_type": "code",
   "execution_count": 47,
   "id": "71b06795",
   "metadata": {},
   "outputs": [],
   "source": [
    "final_data['week']= final_data['order_purchase_timestamp'].dt.isocalendar().week"
   ]
  },
  {
   "cell_type": "code",
   "execution_count": 48,
   "id": "d9c06f30",
   "metadata": {},
   "outputs": [],
   "source": [
    "final_data['weekday']= final_data['order_purchase_timestamp'].dt.weekday+1"
   ]
  },
  {
   "cell_type": "code",
   "execution_count": 49,
   "id": "24c7dc33",
   "metadata": {},
   "outputs": [],
   "source": [
    "final_data['hour']= final_data['order_purchase_timestamp'].dt.hour"
   ]
  },
  {
   "cell_type": "code",
   "execution_count": 50,
   "id": "ccd88d2d",
   "metadata": {},
   "outputs": [
    {
     "data": {
      "text/plain": [
       "['product_category_name',\n",
       " 'geolocation_state',\n",
       " 'month_order',\n",
       " 'year_order',\n",
       " 'weekday',\n",
       " 'week',\n",
       " 'time',\n",
       " 'payment_type',\n",
       " 'order_status']"
      ]
     },
     "execution_count": 50,
     "metadata": {},
     "output_type": "execute_result"
    }
   ],
   "source": [
    "da = ['product_category_name' ,'geolocation_state', 'month_order', 'year_order','weekday','week','time', 'payment_type','order_status']\n",
    "da"
   ]
  },
  {
   "cell_type": "code",
   "execution_count": 51,
   "id": "30d2bb49",
   "metadata": {},
   "outputs": [],
   "source": [
    "def bar_chart(arg):\n",
    "    m = final_data.groupby(arg).agg({'revenue': 'sum', 'order_item_id': 'count'}).reset_index()\n",
    "    \n",
    "    plt.figure(figsize=(10, 6))\n",
    "    plt.bar(m[arg], m['revenue'], color='blue')\n",
    "    plt.xlabel(arg)\n",
    "    plt.ylabel('Revenue')\n",
    "    plt.title(f'Bar Chart for {arg}')\n",
    "    plt.grid(True)\n",
    "    plt.xticks(rotation=90, ha='right')    \n",
    "    plt.ticklabel_format(style='plain', axis='y')\n",
    "    plt.show()\n"
   ]
  },
  {
   "cell_type": "code",
   "execution_count": 52,
   "id": "58a246e4",
   "metadata": {},
   "outputs": [
    {
     "data": {
      "image/png": "[encoded data removed]",
      "text/plain": [
       "<Figure size 1000x600 with 1 Axes>"
      ]
     },
     "metadata": {},
     "output_type": "display_data"
    }
   ],
   "source": [
    "# Revenue base\n",
    "bar_chart('geolocation_state')"
   ]
  },
  {
   "cell_type": "code",
   "execution_count": 53,
   "id": "48813f8b",
   "metadata": {},
   "outputs": [],
   "source": [
    "def bar_chart(arg):\n",
    "    m = final_data.groupby(arg).agg({'revenue': 'sum', 'order_item_id': 'count'}).reset_index()\n",
    "    \n",
    "    plt.figure(figsize=(10, 6))\n",
    "    plt.bar(m[arg], m['revenue'], color='blue')\n",
    "    plt.xlabel(arg)\n",
    "    plt.ylabel('quantity')\n",
    "    plt.title(f'Bar Chart for {arg}')\n",
    "    plt.grid(True)\n",
    "    plt.xticks(rotation=90, ha='right')    \n",
    "    plt.ticklabel_format(style='plain', axis='y')\n",
    "    plt.show()\n"
   ]
  },
  {
   "cell_type": "code",
   "execution_count": 54,
   "id": "f2ac9f1c",
   "metadata": {},
   "outputs": [
    {
     "data": {
      "image/png": "[encoded data removed]",
      "text/plain": [
       "<Figure size 1000x600 with 1 Axes>"
      ]
     },
     "metadata": {},
     "output_type": "display_data"
    }
   ],
   "source": [
    "# Quantity base\n",
    "bar_chart('geolocation_state')"
   ]
  },
  {
   "cell_type": "markdown",
   "id": "4f2b1114",
   "metadata": {},
   "source": [
    "# f. Popular Products by month, seller, state, category"
   ]
  },
  {
   "cell_type": "code",
   "execution_count": 118,
   "id": "57e8f2b4",
   "metadata": {},
   "outputs": [
    {
     "data": {
      "text/html": [
       "<div>\n",
       "<style scoped>\n",
       "    .dataframe tbody tr th:only-of-type {\n",
       "        vertical-align: middle;\n",
       "    }\n",
       "\n",
       "    .dataframe tbody tr th {\n",
       "        vertical-align: top;\n",
       "    }\n",
       "\n",
       "    .dataframe thead th {\n",
       "        text-align: right;\n",
       "    }\n",
       "</style>\n",
       "<table border=\"1\" class=\"dataframe\">\n",
       "  <thead>\n",
       "    <tr style=\"text-align: right;\">\n",
       "      <th></th>\n",
       "      <th>product_id</th>\n",
       "      <th>month_order</th>\n",
       "      <th>order_item_id</th>\n",
       "    </tr>\n",
       "  </thead>\n",
       "  <tbody>\n",
       "    <tr>\n",
       "      <th>0</th>\n",
       "      <td>aca2eb7d00ea1a7b8ebd4e68314663af</td>\n",
       "      <td>1</td>\n",
       "      <td>124</td>\n",
       "    </tr>\n",
       "    <tr>\n",
       "      <th>1</th>\n",
       "      <td>53b36df67ebb7c41585e8d54d6772e08</td>\n",
       "      <td>5</td>\n",
       "      <td>115</td>\n",
       "    </tr>\n",
       "    <tr>\n",
       "      <th>2</th>\n",
       "      <td>422879e10f46682990de24d770e7f83d</td>\n",
       "      <td>11</td>\n",
       "      <td>97</td>\n",
       "    </tr>\n",
       "    <tr>\n",
       "      <th>3</th>\n",
       "      <td>99a4788cb24856965c36a24e339b6058</td>\n",
       "      <td>5</td>\n",
       "      <td>93</td>\n",
       "    </tr>\n",
       "    <tr>\n",
       "      <th>4</th>\n",
       "      <td>aca2eb7d00ea1a7b8ebd4e68314663af</td>\n",
       "      <td>5</td>\n",
       "      <td>92</td>\n",
       "    </tr>\n",
       "  </tbody>\n",
       "</table>\n",
       "</div>"
      ],
      "text/plain": [
       "                         product_id  month_order  order_item_id\n",
       "0  aca2eb7d00ea1a7b8ebd4e68314663af            1            124\n",
       "1  53b36df67ebb7c41585e8d54d6772e08            5            115\n",
       "2  422879e10f46682990de24d770e7f83d           11             97\n",
       "3  99a4788cb24856965c36a24e339b6058            5             93\n",
       "4  aca2eb7d00ea1a7b8ebd4e68314663af            5             92"
      ]
     },
     "execution_count": 118,
     "metadata": {},
     "output_type": "execute_result"
    }
   ],
   "source": [
    "final_data.groupby(['product_id','month_order'])['order_item_id'].count().nlargest(5).reset_index()"
   ]
  },
  {
   "cell_type": "code",
   "execution_count": 119,
   "id": "f9944e27",
   "metadata": {},
   "outputs": [],
   "source": [
    "sorted_items = final_data.groupby([ 'year_order','month_order', 'product_id'])['order_item_id'].count().reset_index().sort_values(by=['year_order', 'month_order', 'order_item_id'], ascending=[True, True, False])\n",
    "top1_popular_item = sorted_items.groupby(['year_order','month_order']).head(1)\n",
    "#top1_popular_item.head()"
   ]
  },
  {
   "cell_type": "code",
   "execution_count": 56,
   "id": "bfdbd376",
   "metadata": {},
   "outputs": [
    {
     "data": {
      "text/html": [
       "<div>\n",
       "<style scoped>\n",
       "    .dataframe tbody tr th:only-of-type {\n",
       "        vertical-align: middle;\n",
       "    }\n",
       "\n",
       "    .dataframe tbody tr th {\n",
       "        vertical-align: top;\n",
       "    }\n",
       "\n",
       "    .dataframe thead th {\n",
       "        text-align: right;\n",
       "    }\n",
       "</style>\n",
       "<table border=\"1\" class=\"dataframe\">\n",
       "  <thead>\n",
       "    <tr style=\"text-align: right;\">\n",
       "      <th></th>\n",
       "      <th>seller_id</th>\n",
       "      <th>product_id</th>\n",
       "      <th>order_item_id</th>\n",
       "    </tr>\n",
       "  </thead>\n",
       "  <tbody>\n",
       "    <tr>\n",
       "      <th>21025</th>\n",
       "      <td>955fee9216a65b617aa5c0531780ce60</td>\n",
       "      <td>aca2eb7d00ea1a7b8ebd4e68314663af</td>\n",
       "      <td>536</td>\n",
       "    </tr>\n",
       "    <tr>\n",
       "      <th>9881</th>\n",
       "      <td>4a3ca9315b744ce9f8e9374361493884</td>\n",
       "      <td>99a4788cb24856965c36a24e339b6058</td>\n",
       "      <td>522</td>\n",
       "    </tr>\n",
       "    <tr>\n",
       "      <th>4645</th>\n",
       "      <td>1f50f920176fa81dab994f9023523100</td>\n",
       "      <td>422879e10f46682990de24d770e7f83d</td>\n",
       "      <td>508</td>\n",
       "    </tr>\n",
       "    <tr>\n",
       "      <th>4643</th>\n",
       "      <td>1f50f920176fa81dab994f9023523100</td>\n",
       "      <td>389d119b48cf3043d311335e499d9c6b</td>\n",
       "      <td>406</td>\n",
       "    </tr>\n",
       "    <tr>\n",
       "      <th>4642</th>\n",
       "      <td>1f50f920176fa81dab994f9023523100</td>\n",
       "      <td>368c6c730842d78016ad823897a372db</td>\n",
       "      <td>398</td>\n",
       "    </tr>\n",
       "    <tr>\n",
       "      <th>...</th>\n",
       "      <td>...</td>\n",
       "      <td>...</td>\n",
       "      <td>...</td>\n",
       "    </tr>\n",
       "    <tr>\n",
       "      <th>15008</th>\n",
       "      <td>70126eecc6aa1274392a1743866e9678</td>\n",
       "      <td>3a96bcbf644a5d390107570628568026</td>\n",
       "      <td>1</td>\n",
       "    </tr>\n",
       "    <tr>\n",
       "      <th>15006</th>\n",
       "      <td>70125af26c2d6d4ef401a1d02ae7701f</td>\n",
       "      <td>4ce99ff9dcb7821acd8e599d5d4a6531</td>\n",
       "      <td>1</td>\n",
       "    </tr>\n",
       "    <tr>\n",
       "      <th>15002</th>\n",
       "      <td>700f03c207639c22d933381ff60b35c2</td>\n",
       "      <td>527921e5d38d82e839ef2195d6455fc6</td>\n",
       "      <td>1</td>\n",
       "    </tr>\n",
       "    <tr>\n",
       "      <th>14999</th>\n",
       "      <td>7008613ea464bad5cb9b83456e1e6a8f</td>\n",
       "      <td>e7f5908a3c9844728d24e3322254b109</td>\n",
       "      <td>1</td>\n",
       "    </tr>\n",
       "    <tr>\n",
       "      <th>34447</th>\n",
       "      <td>ffff564a4f9085cd26170f4732393726</td>\n",
       "      <td>fa2de9e6a52f697fbd74ddbc2c15b16c</td>\n",
       "      <td>1</td>\n",
       "    </tr>\n",
       "  </tbody>\n",
       "</table>\n",
       "<p>34448 rows × 3 columns</p>\n",
       "</div>"
      ],
      "text/plain": [
       "                              seller_id                        product_id  \\\n",
       "21025  955fee9216a65b617aa5c0531780ce60  aca2eb7d00ea1a7b8ebd4e68314663af   \n",
       "9881   4a3ca9315b744ce9f8e9374361493884  99a4788cb24856965c36a24e339b6058   \n",
       "4645   1f50f920176fa81dab994f9023523100  422879e10f46682990de24d770e7f83d   \n",
       "4643   1f50f920176fa81dab994f9023523100  389d119b48cf3043d311335e499d9c6b   \n",
       "4642   1f50f920176fa81dab994f9023523100  368c6c730842d78016ad823897a372db   \n",
       "...                                 ...                               ...   \n",
       "15008  70126eecc6aa1274392a1743866e9678  3a96bcbf644a5d390107570628568026   \n",
       "15006  70125af26c2d6d4ef401a1d02ae7701f  4ce99ff9dcb7821acd8e599d5d4a6531   \n",
       "15002  700f03c207639c22d933381ff60b35c2  527921e5d38d82e839ef2195d6455fc6   \n",
       "14999  7008613ea464bad5cb9b83456e1e6a8f  e7f5908a3c9844728d24e3322254b109   \n",
       "34447  ffff564a4f9085cd26170f4732393726  fa2de9e6a52f697fbd74ddbc2c15b16c   \n",
       "\n",
       "       order_item_id  \n",
       "21025            536  \n",
       "9881             522  \n",
       "4645             508  \n",
       "4643             406  \n",
       "4642             398  \n",
       "...              ...  \n",
       "15008              1  \n",
       "15006              1  \n",
       "15002              1  \n",
       "14999              1  \n",
       "34447              1  \n",
       "\n",
       "[34448 rows x 3 columns]"
      ]
     },
     "execution_count": 56,
     "metadata": {},
     "output_type": "execute_result"
    }
   ],
   "source": [
    "# seller wise popular products\n",
    "\n",
    "seller_wise = final_data.groupby(['seller_id','product_id'])['order_item_id'].count().reset_index().sort_values(by='order_item_id', ascending=False)\n",
    "seller_wise"
   ]
  },
  {
   "cell_type": "code",
   "execution_count": 57,
   "id": "adba5f23",
   "metadata": {},
   "outputs": [
    {
     "data": {
      "text/html": [
       "<div>\n",
       "<style scoped>\n",
       "    .dataframe tbody tr th:only-of-type {\n",
       "        vertical-align: middle;\n",
       "    }\n",
       "\n",
       "    .dataframe tbody tr th {\n",
       "        vertical-align: top;\n",
       "    }\n",
       "\n",
       "    .dataframe thead th {\n",
       "        text-align: right;\n",
       "    }\n",
       "</style>\n",
       "<table border=\"1\" class=\"dataframe\">\n",
       "  <thead>\n",
       "    <tr style=\"text-align: right;\">\n",
       "      <th></th>\n",
       "      <th>geolocation_state</th>\n",
       "      <th>product_id</th>\n",
       "      <th>order_item_id</th>\n",
       "    </tr>\n",
       "  </thead>\n",
       "  <tbody>\n",
       "    <tr>\n",
       "      <th>16682</th>\n",
       "      <td>Andhra Pradesh</td>\n",
       "      <td>aca2eb7d00ea1a7b8ebd4e68314663af</td>\n",
       "      <td>354</td>\n",
       "    </tr>\n",
       "    <tr>\n",
       "      <th>36044</th>\n",
       "      <td>Gujarat</td>\n",
       "      <td>aca2eb7d00ea1a7b8ebd4e68314663af</td>\n",
       "      <td>52</td>\n",
       "    </tr>\n",
       "    <tr>\n",
       "      <th>26854</th>\n",
       "      <td>Chhattisgarh</td>\n",
       "      <td>422879e10f46682990de24d770e7f83d</td>\n",
       "      <td>40</td>\n",
       "    </tr>\n",
       "    <tr>\n",
       "      <th>47406</th>\n",
       "      <td>Madhya Pradesh</td>\n",
       "      <td>d1c427060a0f73f6b889a5c7c61f2ac4</td>\n",
       "      <td>24</td>\n",
       "    </tr>\n",
       "    <tr>\n",
       "      <th>30977</th>\n",
       "      <td>Delhi</td>\n",
       "      <td>53759a2ecddad2bb87a079a1f1519f73</td>\n",
       "      <td>24</td>\n",
       "    </tr>\n",
       "    <tr>\n",
       "      <th>42171</th>\n",
       "      <td>Karnataka</td>\n",
       "      <td>422879e10f46682990de24d770e7f83d</td>\n",
       "      <td>23</td>\n",
       "    </tr>\n",
       "    <tr>\n",
       "      <th>38136</th>\n",
       "      <td>Haryana</td>\n",
       "      <td>35afc973633aaeb6b877ff57b2793310</td>\n",
       "      <td>17</td>\n",
       "    </tr>\n",
       "    <tr>\n",
       "      <th>52373</th>\n",
       "      <td>Tamil Nadu</td>\n",
       "      <td>a9516a079e37a9c9c36b9b78b10169e8</td>\n",
       "      <td>16</td>\n",
       "    </tr>\n",
       "    <tr>\n",
       "      <th>40852</th>\n",
       "      <td>Jammu &amp; Kashmir</td>\n",
       "      <td>89b190a046022486c635022524a974a8</td>\n",
       "      <td>15</td>\n",
       "    </tr>\n",
       "    <tr>\n",
       "      <th>48785</th>\n",
       "      <td>Maharashtra</td>\n",
       "      <td>99a4788cb24856965c36a24e339b6058</td>\n",
       "      <td>13</td>\n",
       "    </tr>\n",
       "    <tr>\n",
       "      <th>24814</th>\n",
       "      <td>Arunachal Pradesh</td>\n",
       "      <td>03e1c946c0ddfc58724ff262aef08dff</td>\n",
       "      <td>12</td>\n",
       "    </tr>\n",
       "    <tr>\n",
       "      <th>44663</th>\n",
       "      <td>Kerala</td>\n",
       "      <td>42a2c92a0979a949ca4ea89ec5c7b934</td>\n",
       "      <td>11</td>\n",
       "    </tr>\n",
       "    <tr>\n",
       "      <th>50208</th>\n",
       "      <td>Punjab</td>\n",
       "      <td>60ee9861f35c13d4a3a2bc10e86bb05b</td>\n",
       "      <td>10</td>\n",
       "    </tr>\n",
       "    <tr>\n",
       "      <th>53090</th>\n",
       "      <td>Uttar Pradesh</td>\n",
       "      <td>3dd2a17168ec895c781a9191c1e95ad7</td>\n",
       "      <td>8</td>\n",
       "    </tr>\n",
       "    <tr>\n",
       "      <th>49805</th>\n",
       "      <td>Orissa</td>\n",
       "      <td>aca2eb7d00ea1a7b8ebd4e68314663af</td>\n",
       "      <td>7</td>\n",
       "    </tr>\n",
       "    <tr>\n",
       "      <th>50735</th>\n",
       "      <td>Rajasthan</td>\n",
       "      <td>368c6c730842d78016ad823897a372db</td>\n",
       "      <td>7</td>\n",
       "    </tr>\n",
       "    <tr>\n",
       "      <th>53912</th>\n",
       "      <td>West Bengal</td>\n",
       "      <td>30ac6df06dc59ad72cf2f158fc2d904c</td>\n",
       "      <td>5</td>\n",
       "    </tr>\n",
       "    <tr>\n",
       "      <th>39690</th>\n",
       "      <td>Himachal Pradesh</td>\n",
       "      <td>422879e10f46682990de24d770e7f83d</td>\n",
       "      <td>5</td>\n",
       "    </tr>\n",
       "    <tr>\n",
       "      <th>53835</th>\n",
       "      <td>Uttaranchal</td>\n",
       "      <td>bd588795ddfe953f64d59d514ba0527a</td>\n",
       "      <td>3</td>\n",
       "    </tr>\n",
       "    <tr>\n",
       "      <th>32715</th>\n",
       "      <td>Goa</td>\n",
       "      <td>dd231637766e756fd1cf2fd80501fce1</td>\n",
       "      <td>1</td>\n",
       "    </tr>\n",
       "  </tbody>\n",
       "</table>\n",
       "</div>"
      ],
      "text/plain": [
       "       geolocation_state                        product_id  order_item_id\n",
       "16682     Andhra Pradesh  aca2eb7d00ea1a7b8ebd4e68314663af            354\n",
       "36044            Gujarat  aca2eb7d00ea1a7b8ebd4e68314663af             52\n",
       "26854       Chhattisgarh  422879e10f46682990de24d770e7f83d             40\n",
       "47406     Madhya Pradesh  d1c427060a0f73f6b889a5c7c61f2ac4             24\n",
       "30977              Delhi  53759a2ecddad2bb87a079a1f1519f73             24\n",
       "42171          Karnataka  422879e10f46682990de24d770e7f83d             23\n",
       "38136            Haryana  35afc973633aaeb6b877ff57b2793310             17\n",
       "52373         Tamil Nadu  a9516a079e37a9c9c36b9b78b10169e8             16\n",
       "40852    Jammu & Kashmir  89b190a046022486c635022524a974a8             15\n",
       "48785        Maharashtra  99a4788cb24856965c36a24e339b6058             13\n",
       "24814  Arunachal Pradesh  03e1c946c0ddfc58724ff262aef08dff             12\n",
       "44663             Kerala  42a2c92a0979a949ca4ea89ec5c7b934             11\n",
       "50208             Punjab  60ee9861f35c13d4a3a2bc10e86bb05b             10\n",
       "53090      Uttar Pradesh  3dd2a17168ec895c781a9191c1e95ad7              8\n",
       "49805             Orissa  aca2eb7d00ea1a7b8ebd4e68314663af              7\n",
       "50735          Rajasthan  368c6c730842d78016ad823897a372db              7\n",
       "53912        West Bengal  30ac6df06dc59ad72cf2f158fc2d904c              5\n",
       "39690   Himachal Pradesh  422879e10f46682990de24d770e7f83d              5\n",
       "53835        Uttaranchal  bd588795ddfe953f64d59d514ba0527a              3\n",
       "32715                Goa  dd231637766e756fd1cf2fd80501fce1              1"
      ]
     },
     "execution_count": 57,
     "metadata": {},
     "output_type": "execute_result"
    }
   ],
   "source": [
    "# location wise popular products\n",
    "\n",
    "\n",
    "location_wise = final_data.groupby(['geolocation_state','product_id'])['order_item_id'].count().reset_index().sort_values(by='order_item_id', ascending=False)\n",
    "location_wise.groupby('geolocation_state').head(1)"
   ]
  },
  {
   "cell_type": "code",
   "execution_count": 58,
   "id": "f720d3ad",
   "metadata": {},
   "outputs": [
    {
     "data": {
      "text/html": [
       "<div>\n",
       "<style scoped>\n",
       "    .dataframe tbody tr th:only-of-type {\n",
       "        vertical-align: middle;\n",
       "    }\n",
       "\n",
       "    .dataframe tbody tr th {\n",
       "        vertical-align: top;\n",
       "    }\n",
       "\n",
       "    .dataframe thead th {\n",
       "        text-align: right;\n",
       "    }\n",
       "</style>\n",
       "<table border=\"1\" class=\"dataframe\">\n",
       "  <thead>\n",
       "    <tr style=\"text-align: right;\">\n",
       "      <th></th>\n",
       "      <th>product_category_name</th>\n",
       "      <th>product_id</th>\n",
       "      <th>order_item_id</th>\n",
       "    </tr>\n",
       "  </thead>\n",
       "  <tbody>\n",
       "    <tr>\n",
       "      <th>14154</th>\n",
       "      <td>Furniture_Decor</td>\n",
       "      <td>aca2eb7d00ea1a7b8ebd4e68314663af</td>\n",
       "      <td>536</td>\n",
       "    </tr>\n",
       "    <tr>\n",
       "      <th>5002</th>\n",
       "      <td>Bed_Bath_Table</td>\n",
       "      <td>99a4788cb24856965c36a24e339b6058</td>\n",
       "      <td>528</td>\n",
       "    </tr>\n",
       "    <tr>\n",
       "      <th>15387</th>\n",
       "      <td>Garden_Tools</td>\n",
       "      <td>422879e10f46682990de24d770e7f83d</td>\n",
       "      <td>508</td>\n",
       "    </tr>\n",
       "    <tr>\n",
       "      <th>7999</th>\n",
       "      <td>Computers_Accessories</td>\n",
       "      <td>d1c427060a0f73f6b889a5c7c61f2ac4</td>\n",
       "      <td>357</td>\n",
       "    </tr>\n",
       "    <tr>\n",
       "      <th>31448</th>\n",
       "      <td>Watches_Gifts</td>\n",
       "      <td>53b36df67ebb7c41585e8d54d6772e08</td>\n",
       "      <td>327</td>\n",
       "    </tr>\n",
       "    <tr>\n",
       "      <th>...</th>\n",
       "      <td>...</td>\n",
       "      <td>...</td>\n",
       "      <td>...</td>\n",
       "    </tr>\n",
       "    <tr>\n",
       "      <th>11935</th>\n",
       "      <td>Fashion_Sport</td>\n",
       "      <td>e8f7d2639ff8caa8b86e5973295898b7</td>\n",
       "      <td>5</td>\n",
       "    </tr>\n",
       "    <tr>\n",
       "      <th>22142</th>\n",
       "      <td>Music</td>\n",
       "      <td>2848023ffcfb063bb7aa0d0c447bd116</td>\n",
       "      <td>4</td>\n",
       "    </tr>\n",
       "    <tr>\n",
       "      <th>11650</th>\n",
       "      <td>Fashion_Childrens_Clothes</td>\n",
       "      <td>57bdf3098169cccdb62221bd3e089cbd</td>\n",
       "      <td>3</td>\n",
       "    </tr>\n",
       "    <tr>\n",
       "      <th>21673</th>\n",
       "      <td>La_Cuisine</td>\n",
       "      <td>33900d427fa4bd3f509cdacda72e84a3</td>\n",
       "      <td>3</td>\n",
       "    </tr>\n",
       "    <tr>\n",
       "      <th>24372</th>\n",
       "      <td>Security_And_Services</td>\n",
       "      <td>6c7a0a349ad11817745e3ad58abd5c79</td>\n",
       "      <td>1</td>\n",
       "    </tr>\n",
       "  </tbody>\n",
       "</table>\n",
       "<p>71 rows × 3 columns</p>\n",
       "</div>"
      ],
      "text/plain": [
       "           product_category_name                        product_id  \\\n",
       "14154            Furniture_Decor  aca2eb7d00ea1a7b8ebd4e68314663af   \n",
       "5002              Bed_Bath_Table  99a4788cb24856965c36a24e339b6058   \n",
       "15387               Garden_Tools  422879e10f46682990de24d770e7f83d   \n",
       "7999       Computers_Accessories  d1c427060a0f73f6b889a5c7c61f2ac4   \n",
       "31448              Watches_Gifts  53b36df67ebb7c41585e8d54d6772e08   \n",
       "...                          ...                               ...   \n",
       "11935              Fashion_Sport  e8f7d2639ff8caa8b86e5973295898b7   \n",
       "22142                      Music  2848023ffcfb063bb7aa0d0c447bd116   \n",
       "11650  Fashion_Childrens_Clothes  57bdf3098169cccdb62221bd3e089cbd   \n",
       "21673                 La_Cuisine  33900d427fa4bd3f509cdacda72e84a3   \n",
       "24372      Security_And_Services  6c7a0a349ad11817745e3ad58abd5c79   \n",
       "\n",
       "       order_item_id  \n",
       "14154            536  \n",
       "5002             528  \n",
       "15387            508  \n",
       "7999             357  \n",
       "31448            327  \n",
       "...              ...  \n",
       "11935              5  \n",
       "22142              4  \n",
       "11650              3  \n",
       "21673              3  \n",
       "24372              1  \n",
       "\n",
       "[71 rows x 3 columns]"
      ]
     },
     "execution_count": 58,
     "metadata": {},
     "output_type": "execute_result"
    }
   ],
   "source": [
    "# category wise popular products\n",
    "\n",
    "\n",
    "category_wise = final_data.groupby(['product_category_name','product_id'])['order_item_id'].count().reset_index().sort_values(by='order_item_id', ascending=False)\n",
    "category_wise.groupby('product_category_name').head(1)"
   ]
  },
  {
   "cell_type": "markdown",
   "id": "5993ac29",
   "metadata": {},
   "source": [
    "# g. Popular categories by state, month\n"
   ]
  },
  {
   "cell_type": "code",
   "execution_count": 59,
   "id": "42308152",
   "metadata": {},
   "outputs": [
    {
     "data": {
      "text/plain": [
       "Index(['customer_id', 'customer_unique_id', 'customer_zip_code_prefix',\n",
       "       'customer_city', 'customer_state', 'geolocation_zip_code_prefix',\n",
       "       'geolocation_lat', 'geolocation_lng', 'geolocation_city',\n",
       "       'geolocation_state', 'order_id', 'order_status',\n",
       "       'order_purchase_timestamp', 'order_approved_at',\n",
       "       'order_delivered_carrier_date', 'order_delivered_customer_date',\n",
       "       'order_estimated_delivery_date', 'review_id', 'review_score',\n",
       "       'review_creation_date', 'review_answer_timestamp', 'payment_sequential',\n",
       "       'payment_type', 'payment_installments', 'payment_value',\n",
       "       'order_item_id', 'product_id', 'seller_id', 'shipping_limit_date',\n",
       "       'price', 'freight_value', 'seller_zip_code_prefix', 'seller_city',\n",
       "       'seller_state', 'product_category_name', 'product_name_lenght',\n",
       "       'product_description_lenght', 'product_photos_qty', 'product_weight_g',\n",
       "       'product_length_cm', 'product_height_cm', 'product_width_cm', 'revenue',\n",
       "       'year_order', 'month_order', 'week', 'weekday', 'hour'],\n",
       "      dtype='object')"
      ]
     },
     "execution_count": 59,
     "metadata": {},
     "output_type": "execute_result"
    }
   ],
   "source": [
    "final_data.columns"
   ]
  },
  {
   "cell_type": "code",
   "execution_count": 110,
   "id": "3ae80c8d",
   "metadata": {},
   "outputs": [
    {
     "data": {
      "text/html": [
       "<div>\n",
       "<style scoped>\n",
       "    .dataframe tbody tr th:only-of-type {\n",
       "        vertical-align: middle;\n",
       "    }\n",
       "\n",
       "    .dataframe tbody tr th {\n",
       "        vertical-align: top;\n",
       "    }\n",
       "\n",
       "    .dataframe thead th {\n",
       "        text-align: right;\n",
       "    }\n",
       "</style>\n",
       "<table border=\"1\" class=\"dataframe\">\n",
       "  <thead>\n",
       "    <tr style=\"text-align: right;\">\n",
       "      <th></th>\n",
       "      <th>month_order</th>\n",
       "      <th>product_category_name</th>\n",
       "      <th>customer_state</th>\n",
       "      <th>order_item_id</th>\n",
       "    </tr>\n",
       "  </thead>\n",
       "  <tbody>\n",
       "    <tr>\n",
       "      <th>4450</th>\n",
       "      <td>8</td>\n",
       "      <td>Bed_Bath_Table</td>\n",
       "      <td>Andhra Pradesh</td>\n",
       "      <td>857</td>\n",
       "    </tr>\n",
       "    <tr>\n",
       "      <th>3787</th>\n",
       "      <td>7</td>\n",
       "      <td>Bed_Bath_Table</td>\n",
       "      <td>Andhra Pradesh</td>\n",
       "      <td>815</td>\n",
       "    </tr>\n",
       "    <tr>\n",
       "      <th>4742</th>\n",
       "      <td>8</td>\n",
       "      <td>Health_Beauty</td>\n",
       "      <td>Andhra Pradesh</td>\n",
       "      <td>804</td>\n",
       "    </tr>\n",
       "    <tr>\n",
       "      <th>2523</th>\n",
       "      <td>5</td>\n",
       "      <td>Bed_Bath_Table</td>\n",
       "      <td>Andhra Pradesh</td>\n",
       "      <td>803</td>\n",
       "    </tr>\n",
       "    <tr>\n",
       "      <th>3160</th>\n",
       "      <td>6</td>\n",
       "      <td>Bed_Bath_Table</td>\n",
       "      <td>Andhra Pradesh</td>\n",
       "      <td>796</td>\n",
       "    </tr>\n",
       "    <tr>\n",
       "      <th>...</th>\n",
       "      <td>...</td>\n",
       "      <td>...</td>\n",
       "      <td>...</td>\n",
       "      <td>...</td>\n",
       "    </tr>\n",
       "    <tr>\n",
       "      <th>6270</th>\n",
       "      <td>11</td>\n",
       "      <td>Furniture_Decor</td>\n",
       "      <td>Uttaranchal</td>\n",
       "      <td>1</td>\n",
       "    </tr>\n",
       "    <tr>\n",
       "      <th>6606</th>\n",
       "      <td>12</td>\n",
       "      <td>Baby</td>\n",
       "      <td>Uttaranchal</td>\n",
       "      <td>1</td>\n",
       "    </tr>\n",
       "    <tr>\n",
       "      <th>6757</th>\n",
       "      <td>12</td>\n",
       "      <td>Fashion_Bags_Accessories</td>\n",
       "      <td>Uttaranchal</td>\n",
       "      <td>1</td>\n",
       "    </tr>\n",
       "    <tr>\n",
       "      <th>7042</th>\n",
       "      <td>12</td>\n",
       "      <td>Toys</td>\n",
       "      <td>Uttaranchal</td>\n",
       "      <td>1</td>\n",
       "    </tr>\n",
       "    <tr>\n",
       "      <th>7060</th>\n",
       "      <td>12</td>\n",
       "      <td>Watches_Gifts</td>\n",
       "      <td>Uttaranchal</td>\n",
       "      <td>1</td>\n",
       "    </tr>\n",
       "  </tbody>\n",
       "</table>\n",
       "<p>1148 rows × 4 columns</p>\n",
       "</div>"
      ],
      "text/plain": [
       "      month_order     product_category_name  customer_state  order_item_id\n",
       "4450            8            Bed_Bath_Table  Andhra Pradesh            857\n",
       "3787            7            Bed_Bath_Table  Andhra Pradesh            815\n",
       "4742            8             Health_Beauty  Andhra Pradesh            804\n",
       "2523            5            Bed_Bath_Table  Andhra Pradesh            803\n",
       "3160            6            Bed_Bath_Table  Andhra Pradesh            796\n",
       "...           ...                       ...             ...            ...\n",
       "6270           11           Furniture_Decor     Uttaranchal              1\n",
       "6606           12                      Baby     Uttaranchal              1\n",
       "6757           12  Fashion_Bags_Accessories     Uttaranchal              1\n",
       "7042           12                      Toys     Uttaranchal              1\n",
       "7060           12             Watches_Gifts     Uttaranchal              1\n",
       "\n",
       "[1148 rows x 4 columns]"
      ]
     },
     "execution_count": 110,
     "metadata": {},
     "output_type": "execute_result"
    }
   ],
   "source": [
    "popular_cat= final_data.groupby(['month_order','product_category_name','customer_state'])['order_item_id'].count().reset_index().sort_values(by= ['order_item_id','customer_state','month_order'], ascending=[False,True,True])\n",
    "\n",
    "popular_cat.groupby(['customer_state', 'month_order']).head()"
   ]
  },
  {
   "cell_type": "markdown",
   "id": "bfb61b7d",
   "metadata": {},
   "source": [
    "# h. List top 10 most expensive products sorted by price"
   ]
  },
  {
   "cell_type": "code",
   "execution_count": 61,
   "id": "b2b1ced9",
   "metadata": {},
   "outputs": [
    {
     "data": {
      "text/html": [
       "<div>\n",
       "<style scoped>\n",
       "    .dataframe tbody tr th:only-of-type {\n",
       "        vertical-align: middle;\n",
       "    }\n",
       "\n",
       "    .dataframe tbody tr th {\n",
       "        vertical-align: top;\n",
       "    }\n",
       "\n",
       "    .dataframe thead th {\n",
       "        text-align: right;\n",
       "    }\n",
       "</style>\n",
       "<table border=\"1\" class=\"dataframe\">\n",
       "  <thead>\n",
       "    <tr style=\"text-align: right;\">\n",
       "      <th></th>\n",
       "      <th>product_id</th>\n",
       "      <th>price</th>\n",
       "    </tr>\n",
       "  </thead>\n",
       "  <tbody>\n",
       "    <tr>\n",
       "      <th>16177</th>\n",
       "      <td>489ae2aa008f021502940f251d4cce7f</td>\n",
       "      <td>6735.00</td>\n",
       "    </tr>\n",
       "    <tr>\n",
       "      <th>25418</th>\n",
       "      <td>69c590f7ffc7bf8db97190b6cb6ed62e</td>\n",
       "      <td>6729.00</td>\n",
       "    </tr>\n",
       "    <tr>\n",
       "      <th>4700</th>\n",
       "      <td>1bdf5e6731585cf01aa8169c7028d6ad</td>\n",
       "      <td>6499.00</td>\n",
       "    </tr>\n",
       "    <tr>\n",
       "      <th>32766</th>\n",
       "      <td>a6492cc69376c469ab6f61d8f44de961</td>\n",
       "      <td>4799.00</td>\n",
       "    </tr>\n",
       "    <tr>\n",
       "      <th>14462</th>\n",
       "      <td>c3ed642d592594bb648ff4a04cee2747</td>\n",
       "      <td>4690.00</td>\n",
       "    </tr>\n",
       "    <tr>\n",
       "      <th>48803</th>\n",
       "      <td>259037a6a41845e455183f89c5035f18</td>\n",
       "      <td>4590.00</td>\n",
       "    </tr>\n",
       "    <tr>\n",
       "      <th>77294</th>\n",
       "      <td>a1beef8f3992dbd4cd8726796aa69c53</td>\n",
       "      <td>4399.87</td>\n",
       "    </tr>\n",
       "    <tr>\n",
       "      <th>7094</th>\n",
       "      <td>6cdf8fc1d741c76586d8b6b15e9eef30</td>\n",
       "      <td>4099.99</td>\n",
       "    </tr>\n",
       "    <tr>\n",
       "      <th>108144</th>\n",
       "      <td>dd113cb02b2af9c8e5787e8f1f0722f6</td>\n",
       "      <td>4059.00</td>\n",
       "    </tr>\n",
       "    <tr>\n",
       "      <th>100520</th>\n",
       "      <td>6902c1962dd19d540807d0ab8fade5c6</td>\n",
       "      <td>3999.90</td>\n",
       "    </tr>\n",
       "  </tbody>\n",
       "</table>\n",
       "</div>"
      ],
      "text/plain": [
       "                              product_id    price\n",
       "16177   489ae2aa008f021502940f251d4cce7f  6735.00\n",
       "25418   69c590f7ffc7bf8db97190b6cb6ed62e  6729.00\n",
       "4700    1bdf5e6731585cf01aa8169c7028d6ad  6499.00\n",
       "32766   a6492cc69376c469ab6f61d8f44de961  4799.00\n",
       "14462   c3ed642d592594bb648ff4a04cee2747  4690.00\n",
       "48803   259037a6a41845e455183f89c5035f18  4590.00\n",
       "77294   a1beef8f3992dbd4cd8726796aa69c53  4399.87\n",
       "7094    6cdf8fc1d741c76586d8b6b15e9eef30  4099.99\n",
       "108144  dd113cb02b2af9c8e5787e8f1f0722f6  4059.00\n",
       "100520  6902c1962dd19d540807d0ab8fade5c6  3999.90"
      ]
     },
     "execution_count": 61,
     "metadata": {},
     "output_type": "execute_result"
    }
   ],
   "source": [
    "final_data[['product_id','price']].sort_values(by= 'price', ascending=False).head(10)"
   ]
  },
  {
   "cell_type": "markdown",
   "id": "d3441fda",
   "metadata": {},
   "source": [
    "# 2. Performing Customers/sellers Segmentation"
   ]
  },
  {
   "cell_type": "markdown",
   "id": "6feae7b6",
   "metadata": {},
   "source": [
    "#    a. Divide the customers into groups based on the revenue generated "
   ]
  },
  {
   "cell_type": "code",
   "execution_count": 192,
   "id": "a023cdf4",
   "metadata": {},
   "outputs": [],
   "source": [
    "# On customer Behalf\n",
    "\n",
    "#divide_cust= pd.cut(x= final_data['customer_city'],bins=4,labels=['low','medium','high','top'])\n",
    "#divide_cust.value_counts()\n"
   ]
  },
  {
   "cell_type": "code",
   "execution_count": 113,
   "id": "5f4d368f",
   "metadata": {},
   "outputs": [
    {
     "data": {
      "text/html": [
       "<div>\n",
       "<style scoped>\n",
       "    .dataframe tbody tr th:only-of-type {\n",
       "        vertical-align: middle;\n",
       "    }\n",
       "\n",
       "    .dataframe tbody tr th {\n",
       "        vertical-align: top;\n",
       "    }\n",
       "\n",
       "    .dataframe thead th {\n",
       "        text-align: right;\n",
       "    }\n",
       "</style>\n",
       "<table border=\"1\" class=\"dataframe\">\n",
       "  <thead>\n",
       "    <tr style=\"text-align: right;\">\n",
       "      <th></th>\n",
       "      <th>customer_unique_id</th>\n",
       "      <th>Total_revenue</th>\n",
       "    </tr>\n",
       "  </thead>\n",
       "  <tbody>\n",
       "    <tr>\n",
       "      <th>0</th>\n",
       "      <td>0000366f3b9a7992bf8c76cfdf3221e2</td>\n",
       "      <td>141.90</td>\n",
       "    </tr>\n",
       "    <tr>\n",
       "      <th>1</th>\n",
       "      <td>0000b849f77a49e4a4ce2b2a4ca5be3f</td>\n",
       "      <td>27.19</td>\n",
       "    </tr>\n",
       "    <tr>\n",
       "      <th>2</th>\n",
       "      <td>0000f46a3911fa3c0805444483337064</td>\n",
       "      <td>86.22</td>\n",
       "    </tr>\n",
       "  </tbody>\n",
       "</table>\n",
       "</div>"
      ],
      "text/plain": [
       "                 customer_unique_id  Total_revenue\n",
       "0  0000366f3b9a7992bf8c76cfdf3221e2         141.90\n",
       "1  0000b849f77a49e4a4ce2b2a4ca5be3f          27.19\n",
       "2  0000f46a3911fa3c0805444483337064          86.22"
      ]
     },
     "execution_count": 113,
     "metadata": {},
     "output_type": "execute_result"
    }
   ],
   "source": [
    "cust_rev= final_data.groupby('customer_unique_id')['revenue'].sum().reset_index(name= 'Total_revenue')\n",
    "cust_rev.head(3)"
   ]
  },
  {
   "cell_type": "code",
   "execution_count": 122,
   "id": "0c235711",
   "metadata": {},
   "outputs": [
    {
     "data": {
      "text/html": [
       "<div>\n",
       "<style scoped>\n",
       "    .dataframe tbody tr th:only-of-type {\n",
       "        vertical-align: middle;\n",
       "    }\n",
       "\n",
       "    .dataframe tbody tr th {\n",
       "        vertical-align: top;\n",
       "    }\n",
       "\n",
       "    .dataframe thead th {\n",
       "        text-align: right;\n",
       "    }\n",
       "</style>\n",
       "<table border=\"1\" class=\"dataframe\">\n",
       "  <thead>\n",
       "    <tr style=\"text-align: right;\">\n",
       "      <th></th>\n",
       "      <th>customer_unique_id</th>\n",
       "      <th>Total_revenue</th>\n",
       "      <th>cus_segment</th>\n",
       "    </tr>\n",
       "  </thead>\n",
       "  <tbody>\n",
       "    <tr>\n",
       "      <th>0</th>\n",
       "      <td>0000366f3b9a7992bf8c76cfdf3221e2</td>\n",
       "      <td>141.90</td>\n",
       "      <td>platinum</td>\n",
       "    </tr>\n",
       "    <tr>\n",
       "      <th>1</th>\n",
       "      <td>0000b849f77a49e4a4ce2b2a4ca5be3f</td>\n",
       "      <td>27.19</td>\n",
       "      <td>silver</td>\n",
       "    </tr>\n",
       "    <tr>\n",
       "      <th>2</th>\n",
       "      <td>0000f46a3911fa3c0805444483337064</td>\n",
       "      <td>86.22</td>\n",
       "      <td>gold</td>\n",
       "    </tr>\n",
       "    <tr>\n",
       "      <th>3</th>\n",
       "      <td>0000f6ccb0745a6a4b88665a16c9f078</td>\n",
       "      <td>43.62</td>\n",
       "      <td>silver</td>\n",
       "    </tr>\n",
       "    <tr>\n",
       "      <th>4</th>\n",
       "      <td>0004aac84e0df4da2b147fca70cf8255</td>\n",
       "      <td>196.89</td>\n",
       "      <td>Diamond</td>\n",
       "    </tr>\n",
       "  </tbody>\n",
       "</table>\n",
       "</div>"
      ],
      "text/plain": [
       "                 customer_unique_id  Total_revenue cus_segment\n",
       "0  0000366f3b9a7992bf8c76cfdf3221e2         141.90    platinum\n",
       "1  0000b849f77a49e4a4ce2b2a4ca5be3f          27.19      silver\n",
       "2  0000f46a3911fa3c0805444483337064          86.22        gold\n",
       "3  0000f6ccb0745a6a4b88665a16c9f078          43.62      silver\n",
       "4  0004aac84e0df4da2b147fca70cf8255         196.89     Diamond"
      ]
     },
     "execution_count": 122,
     "metadata": {},
     "output_type": "execute_result"
    }
   ],
   "source": [
    "percentile = [0,0.2,0.5,0.75,1]\n",
    "labels = ['silver','gold','platinum','Diamond']\n",
    "\n",
    "cust_rev['cus_segment']= pd.qcut(x= cust_rev['Total_revenue'], q=percentile, labels= labels)\n",
    "cust_rev.head()"
   ]
  },
  {
   "cell_type": "markdown",
   "id": "e1d4062d",
   "metadata": {},
   "source": [
    "# b. Divide the sellers into groups based on the revenue generated "
   ]
  },
  {
   "cell_type": "code",
   "execution_count": 124,
   "id": "7ec1e510",
   "metadata": {},
   "outputs": [
    {
     "data": {
      "text/html": [
       "<div>\n",
       "<style scoped>\n",
       "    .dataframe tbody tr th:only-of-type {\n",
       "        vertical-align: middle;\n",
       "    }\n",
       "\n",
       "    .dataframe tbody tr th {\n",
       "        vertical-align: top;\n",
       "    }\n",
       "\n",
       "    .dataframe thead th {\n",
       "        text-align: right;\n",
       "    }\n",
       "</style>\n",
       "<table border=\"1\" class=\"dataframe\">\n",
       "  <thead>\n",
       "    <tr style=\"text-align: right;\">\n",
       "      <th></th>\n",
       "      <th>seller_id</th>\n",
       "      <th>total_rev</th>\n",
       "    </tr>\n",
       "  </thead>\n",
       "  <tbody>\n",
       "    <tr>\n",
       "      <th>0</th>\n",
       "      <td>0015a82c2db000af6aaaf3ae2ecb0532</td>\n",
       "      <td>2748.06</td>\n",
       "    </tr>\n",
       "    <tr>\n",
       "      <th>1</th>\n",
       "      <td>001cca7ae9ae17fb1caed9dfb1094831</td>\n",
       "      <td>34175.38</td>\n",
       "    </tr>\n",
       "    <tr>\n",
       "      <th>2</th>\n",
       "      <td>001e6ad469a905060d959994f1b41e4f</td>\n",
       "      <td>267.94</td>\n",
       "    </tr>\n",
       "  </tbody>\n",
       "</table>\n",
       "</div>"
      ],
      "text/plain": [
       "                          seller_id  total_rev\n",
       "0  0015a82c2db000af6aaaf3ae2ecb0532    2748.06\n",
       "1  001cca7ae9ae17fb1caed9dfb1094831   34175.38\n",
       "2  001e6ad469a905060d959994f1b41e4f     267.94"
      ]
     },
     "execution_count": 124,
     "metadata": {},
     "output_type": "execute_result"
    }
   ],
   "source": [
    "sell_rev= final_data.groupby('seller_id')['revenue'].sum().reset_index(name = 'total_rev')\n",
    "sell_rev.head(3)"
   ]
  },
  {
   "cell_type": "code",
   "execution_count": 128,
   "id": "332bf644",
   "metadata": {},
   "outputs": [
    {
     "data": {
      "text/html": [
       "<div>\n",
       "<style scoped>\n",
       "    .dataframe tbody tr th:only-of-type {\n",
       "        vertical-align: middle;\n",
       "    }\n",
       "\n",
       "    .dataframe tbody tr th {\n",
       "        vertical-align: top;\n",
       "    }\n",
       "\n",
       "    .dataframe thead th {\n",
       "        text-align: right;\n",
       "    }\n",
       "</style>\n",
       "<table border=\"1\" class=\"dataframe\">\n",
       "  <thead>\n",
       "    <tr style=\"text-align: right;\">\n",
       "      <th></th>\n",
       "      <th>seller_id</th>\n",
       "      <th>total_rev</th>\n",
       "      <th>seller_segment</th>\n",
       "    </tr>\n",
       "  </thead>\n",
       "  <tbody>\n",
       "    <tr>\n",
       "      <th>0</th>\n",
       "      <td>0015a82c2db000af6aaaf3ae2ecb0532</td>\n",
       "      <td>2748.06</td>\n",
       "      <td>better</td>\n",
       "    </tr>\n",
       "    <tr>\n",
       "      <th>1</th>\n",
       "      <td>001cca7ae9ae17fb1caed9dfb1094831</td>\n",
       "      <td>34175.38</td>\n",
       "      <td>top</td>\n",
       "    </tr>\n",
       "    <tr>\n",
       "      <th>2</th>\n",
       "      <td>001e6ad469a905060d959994f1b41e4f</td>\n",
       "      <td>267.94</td>\n",
       "      <td>low_sell</td>\n",
       "    </tr>\n",
       "    <tr>\n",
       "      <th>3</th>\n",
       "      <td>002100f778ceb8431b7a1020ff7ab48f</td>\n",
       "      <td>2141.41</td>\n",
       "      <td>better</td>\n",
       "    </tr>\n",
       "    <tr>\n",
       "      <th>4</th>\n",
       "      <td>003554e2dce176b5555353e4f3555ac8</td>\n",
       "      <td>139.38</td>\n",
       "      <td>low_sell</td>\n",
       "    </tr>\n",
       "  </tbody>\n",
       "</table>\n",
       "</div>"
      ],
      "text/plain": [
       "                          seller_id  total_rev seller_segment\n",
       "0  0015a82c2db000af6aaaf3ae2ecb0532    2748.06         better\n",
       "1  001cca7ae9ae17fb1caed9dfb1094831   34175.38            top\n",
       "2  001e6ad469a905060d959994f1b41e4f     267.94       low_sell\n",
       "3  002100f778ceb8431b7a1020ff7ab48f    2141.41         better\n",
       "4  003554e2dce176b5555353e4f3555ac8     139.38       low_sell"
      ]
     },
     "execution_count": 128,
     "metadata": {},
     "output_type": "execute_result"
    }
   ],
   "source": [
    "percentile= [0, 0.25, 0.5,0.75,1]\n",
    "labels = ['low_sell','avg_sell', 'better','top']\n",
    "sell_rev['seller_segment']= pd.qcut(x= sell_rev['total_rev'],q= percentile, labels=labels)\n",
    "\n",
    "sell_rev.head()"
   ]
  },
  {
   "cell_type": "markdown",
   "id": "838592cd",
   "metadata": {},
   "source": [
    "# 3. Cross-Selling (Which products are selling together)    Hint: We need to find which of the top 10 combinations of products are selling together in each transaction. (combination of 2 or 3 buying together)\n"
   ]
  },
  {
   "cell_type": "code",
   "execution_count": 64,
   "id": "2aa76a0f",
   "metadata": {},
   "outputs": [
    {
     "data": {
      "text/plain": [
       "Index(['customer_id', 'customer_unique_id', 'customer_zip_code_prefix',\n",
       "       'customer_city', 'customer_state', 'geolocation_zip_code_prefix',\n",
       "       'geolocation_lat', 'geolocation_lng', 'geolocation_city',\n",
       "       'geolocation_state', 'order_id', 'order_status',\n",
       "       'order_purchase_timestamp', 'order_approved_at',\n",
       "       'order_delivered_carrier_date', 'order_delivered_customer_date',\n",
       "       'order_estimated_delivery_date', 'review_id', 'review_score',\n",
       "       'review_creation_date', 'review_answer_timestamp', 'payment_sequential',\n",
       "       'payment_type', 'payment_installments', 'payment_value',\n",
       "       'order_item_id', 'product_id', 'seller_id', 'shipping_limit_date',\n",
       "       'price', 'freight_value', 'seller_zip_code_prefix', 'seller_city',\n",
       "       'seller_state', 'product_category_name', 'product_name_lenght',\n",
       "       'product_description_lenght', 'product_photos_qty', 'product_weight_g',\n",
       "       'product_length_cm', 'product_height_cm', 'product_width_cm', 'revenue',\n",
       "       'year_order', 'month_order', 'week', 'weekday', 'hour'],\n",
       "      dtype='object')"
      ]
     },
     "execution_count": 64,
     "metadata": {},
     "output_type": "execute_result"
    }
   ],
   "source": [
    "final_data.columns"
   ]
  },
  {
   "cell_type": "code",
   "execution_count": 209,
   "id": "cc1a4f6e",
   "metadata": {},
   "outputs": [
    {
     "data": {
      "text/html": [
       "<div>\n",
       "<style scoped>\n",
       "    .dataframe tbody tr th:only-of-type {\n",
       "        vertical-align: middle;\n",
       "    }\n",
       "\n",
       "    .dataframe tbody tr th {\n",
       "        vertical-align: top;\n",
       "    }\n",
       "\n",
       "    .dataframe thead th {\n",
       "        text-align: right;\n",
       "    }\n",
       "</style>\n",
       "<table border=\"1\" class=\"dataframe\">\n",
       "  <thead>\n",
       "    <tr style=\"text-align: right;\">\n",
       "      <th></th>\n",
       "      <th>order_id</th>\n",
       "      <th>product_id</th>\n",
       "    </tr>\n",
       "  </thead>\n",
       "  <tbody>\n",
       "    <tr>\n",
       "      <th>53168</th>\n",
       "      <td>895ab968e7bb0d5659d16cd74cd1650c</td>\n",
       "      <td>63</td>\n",
       "    </tr>\n",
       "    <tr>\n",
       "      <th>99021</th>\n",
       "      <td>fedcd9f7ccdc8cba3a18defedd1a5547</td>\n",
       "      <td>38</td>\n",
       "    </tr>\n",
       "    <tr>\n",
       "      <th>97262</th>\n",
       "      <td>fa65dad1b0e818e3ccc5cb0e39231352</td>\n",
       "      <td>29</td>\n",
       "    </tr>\n",
       "    <tr>\n",
       "      <th>79612</th>\n",
       "      <td>ccf804e764ed5650cd8759557269dc13</td>\n",
       "      <td>26</td>\n",
       "    </tr>\n",
       "    <tr>\n",
       "      <th>77043</th>\n",
       "      <td>c6492b842ac190db807c15aff21a7dd6</td>\n",
       "      <td>24</td>\n",
       "    </tr>\n",
       "    <tr>\n",
       "      <th>...</th>\n",
       "      <td>...</td>\n",
       "      <td>...</td>\n",
       "    </tr>\n",
       "    <tr>\n",
       "      <th>84144</th>\n",
       "      <td>d859b40b1d9bb3cdd347358688bc3272</td>\n",
       "      <td>0</td>\n",
       "    </tr>\n",
       "    <tr>\n",
       "      <th>25185</th>\n",
       "      <td>40fd591202d04d78c987cfc6990ad237</td>\n",
       "      <td>0</td>\n",
       "    </tr>\n",
       "    <tr>\n",
       "      <th>14320</th>\n",
       "      <td>24f686e03e134195c83dc3e2b6bf4cd0</td>\n",
       "      <td>0</td>\n",
       "    </tr>\n",
       "    <tr>\n",
       "      <th>38251</th>\n",
       "      <td>629a524cbbd0a42a04f87ad39648d4ca</td>\n",
       "      <td>0</td>\n",
       "    </tr>\n",
       "    <tr>\n",
       "      <th>28814</th>\n",
       "      <td>4a0d049ee6c82b3348a21bb211c0a44d</td>\n",
       "      <td>0</td>\n",
       "    </tr>\n",
       "  </tbody>\n",
       "</table>\n",
       "<p>99441 rows × 2 columns</p>\n",
       "</div>"
      ],
      "text/plain": [
       "                               order_id  product_id\n",
       "53168  895ab968e7bb0d5659d16cd74cd1650c          63\n",
       "99021  fedcd9f7ccdc8cba3a18defedd1a5547          38\n",
       "97262  fa65dad1b0e818e3ccc5cb0e39231352          29\n",
       "79612  ccf804e764ed5650cd8759557269dc13          26\n",
       "77043  c6492b842ac190db807c15aff21a7dd6          24\n",
       "...                                 ...         ...\n",
       "84144  d859b40b1d9bb3cdd347358688bc3272           0\n",
       "25185  40fd591202d04d78c987cfc6990ad237           0\n",
       "14320  24f686e03e134195c83dc3e2b6bf4cd0           0\n",
       "38251  629a524cbbd0a42a04f87ad39648d4ca           0\n",
       "28814  4a0d049ee6c82b3348a21bb211c0a44d           0\n",
       "\n",
       "[99441 rows x 2 columns]"
      ]
     },
     "execution_count": 209,
     "metadata": {},
     "output_type": "execute_result"
    }
   ],
   "source": [
    "pr=final_data.groupby(['order_id'])['product_id'].count().reset_index()\n",
    "\n",
    "pr.sort_values(by= 'product_id', ascending= False)"
   ]
  },
  {
   "cell_type": "code",
   "execution_count": null,
   "id": "07a193e4",
   "metadata": {},
   "outputs": [],
   "source": []
  },
  {
   "cell_type": "markdown",
   "id": "0e323b7d",
   "metadata": {},
   "source": [
    "# 4. Payment Behaviour\n"
   ]
  },
  {
   "cell_type": "markdown",
   "id": "73276437",
   "metadata": {},
   "source": [
    "# a. How customers are paying?"
   ]
  },
  {
   "cell_type": "code",
   "execution_count": 66,
   "id": "fe402acc",
   "metadata": {},
   "outputs": [
    {
     "data": {
      "text/plain": [
       "credit_card    87784\n",
       "UPI            23190\n",
       "voucher         6465\n",
       "debit_card      1706\n",
       "not_defined        3\n",
       "Name: payment_type, dtype: int64"
      ]
     },
     "execution_count": 66,
     "metadata": {},
     "output_type": "execute_result"
    }
   ],
   "source": [
    "final_data['payment_type'].value_counts()"
   ]
  },
  {
   "cell_type": "markdown",
   "id": "d95e516d",
   "metadata": {},
   "source": [
    "# b. Which payment channels are used by most customers?"
   ]
  },
  {
   "cell_type": "code",
   "execution_count": 67,
   "id": "b91b3c37",
   "metadata": {},
   "outputs": [],
   "source": [
    "#  credit_card    87784"
   ]
  },
  {
   "cell_type": "markdown",
   "id": "da1f81dd",
   "metadata": {},
   "source": [
    "# 5. Customer satisfaction towards category & product"
   ]
  },
  {
   "cell_type": "markdown",
   "id": "abda3fa9",
   "metadata": {},
   "source": [
    "# a. Which categories (top 10) are maximum rated & minimum rated?\n"
   ]
  },
  {
   "cell_type": "code",
   "execution_count": 122,
   "id": "9efd386a",
   "metadata": {},
   "outputs": [],
   "source": [
    "cat_rating= final_data.groupby(['product_category_name'])['review_score'].mean().reset_index()"
   ]
  },
  {
   "cell_type": "code",
   "execution_count": 124,
   "id": "6e6a31b9",
   "metadata": {},
   "outputs": [
    {
     "data": {
      "text/html": [
       "<div>\n",
       "<style scoped>\n",
       "    .dataframe tbody tr th:only-of-type {\n",
       "        vertical-align: middle;\n",
       "    }\n",
       "\n",
       "    .dataframe tbody tr th {\n",
       "        vertical-align: top;\n",
       "    }\n",
       "\n",
       "    .dataframe thead th {\n",
       "        text-align: right;\n",
       "    }\n",
       "</style>\n",
       "<table border=\"1\" class=\"dataframe\">\n",
       "  <thead>\n",
       "    <tr style=\"text-align: right;\">\n",
       "      <th></th>\n",
       "      <th>product_category_name</th>\n",
       "      <th>review_score</th>\n",
       "    </tr>\n",
       "  </thead>\n",
       "  <tbody>\n",
       "    <tr>\n",
       "      <th>11</th>\n",
       "      <td>Cds_Dvds_Musicals</td>\n",
       "      <td>4.642857</td>\n",
       "    </tr>\n",
       "    <tr>\n",
       "      <th>29</th>\n",
       "      <td>Fashion_Childrens_Clothes</td>\n",
       "      <td>4.500000</td>\n",
       "    </tr>\n",
       "    <tr>\n",
       "      <th>8</th>\n",
       "      <td>Books_General_Interest</td>\n",
       "      <td>4.431858</td>\n",
       "    </tr>\n",
       "    <tr>\n",
       "      <th>9</th>\n",
       "      <td>Books_Imported</td>\n",
       "      <td>4.419355</td>\n",
       "    </tr>\n",
       "    <tr>\n",
       "      <th>10</th>\n",
       "      <td>Books_Technical</td>\n",
       "      <td>4.345588</td>\n",
       "    </tr>\n",
       "    <tr>\n",
       "      <th>22</th>\n",
       "      <td>Costruction_Tools_Tools</td>\n",
       "      <td>4.333333</td>\n",
       "    </tr>\n",
       "    <tr>\n",
       "      <th>64</th>\n",
       "      <td>Small_Appliances_Home_Oven_And_Coffee</td>\n",
       "      <td>4.320513</td>\n",
       "    </tr>\n",
       "    <tr>\n",
       "      <th>37</th>\n",
       "      <td>Food_Drink</td>\n",
       "      <td>4.312715</td>\n",
       "    </tr>\n",
       "    <tr>\n",
       "      <th>53</th>\n",
       "      <td>Luggage_Accessories</td>\n",
       "      <td>4.290628</td>\n",
       "    </tr>\n",
       "    <tr>\n",
       "      <th>32</th>\n",
       "      <td>Fashion_Sport</td>\n",
       "      <td>4.258065</td>\n",
       "    </tr>\n",
       "  </tbody>\n",
       "</table>\n",
       "</div>"
      ],
      "text/plain": [
       "                    product_category_name  review_score\n",
       "11                      Cds_Dvds_Musicals      4.642857\n",
       "29              Fashion_Childrens_Clothes      4.500000\n",
       "8                  Books_General_Interest      4.431858\n",
       "9                          Books_Imported      4.419355\n",
       "10                        Books_Technical      4.345588\n",
       "22                Costruction_Tools_Tools      4.333333\n",
       "64  Small_Appliances_Home_Oven_And_Coffee      4.320513\n",
       "37                             Food_Drink      4.312715\n",
       "53                    Luggage_Accessories      4.290628\n",
       "32                          Fashion_Sport      4.258065"
      ]
     },
     "execution_count": 124,
     "metadata": {},
     "output_type": "execute_result"
    }
   ],
   "source": [
    "cat_rating.sort_values(by= 'review_score',ascending= False).head(10)"
   ]
  },
  {
   "cell_type": "code",
   "execution_count": 70,
   "id": "a3f9bb6e",
   "metadata": {},
   "outputs": [
    {
     "data": {
      "text/html": [
       "<div>\n",
       "<style scoped>\n",
       "    .dataframe tbody tr th:only-of-type {\n",
       "        vertical-align: middle;\n",
       "    }\n",
       "\n",
       "    .dataframe tbody tr th {\n",
       "        vertical-align: top;\n",
       "    }\n",
       "\n",
       "    .dataframe thead th {\n",
       "        text-align: right;\n",
       "    }\n",
       "</style>\n",
       "<table border=\"1\" class=\"dataframe\">\n",
       "  <thead>\n",
       "    <tr style=\"text-align: right;\">\n",
       "      <th></th>\n",
       "      <th>product_category_name</th>\n",
       "      <th>review_score</th>\n",
       "    </tr>\n",
       "  </thead>\n",
       "  <tbody>\n",
       "    <tr>\n",
       "      <th>61</th>\n",
       "      <td>Security_And_Services</td>\n",
       "      <td>2.500000</td>\n",
       "    </tr>\n",
       "    <tr>\n",
       "      <th>23</th>\n",
       "      <td>Diapers_And_Hygiene</td>\n",
       "      <td>3.256410</td>\n",
       "    </tr>\n",
       "    <tr>\n",
       "      <th>46</th>\n",
       "      <td>Home_Comfort_2</td>\n",
       "      <td>3.387097</td>\n",
       "    </tr>\n",
       "    <tr>\n",
       "      <th>57</th>\n",
       "      <td>Office_Furniture</td>\n",
       "      <td>3.516779</td>\n",
       "    </tr>\n",
       "    <tr>\n",
       "      <th>30</th>\n",
       "      <td>Fashion_Male_Clothing</td>\n",
       "      <td>3.531034</td>\n",
       "    </tr>\n",
       "    <tr>\n",
       "      <th>34</th>\n",
       "      <td>Fixed_Telephony</td>\n",
       "      <td>3.661765</td>\n",
       "    </tr>\n",
       "    <tr>\n",
       "      <th>27</th>\n",
       "      <td>Fashio_Female_Clothing</td>\n",
       "      <td>3.780000</td>\n",
       "    </tr>\n",
       "    <tr>\n",
       "      <th>41</th>\n",
       "      <td>Furniture_Mattress_And_Upholstery</td>\n",
       "      <td>3.804878</td>\n",
       "    </tr>\n",
       "    <tr>\n",
       "      <th>4</th>\n",
       "      <td>Audio</td>\n",
       "      <td>3.824147</td>\n",
       "    </tr>\n",
       "    <tr>\n",
       "      <th>19</th>\n",
       "      <td>Construction_Tools_Safety</td>\n",
       "      <td>3.834171</td>\n",
       "    </tr>\n",
       "  </tbody>\n",
       "</table>\n",
       "</div>"
      ],
      "text/plain": [
       "                product_category_name  review_score\n",
       "61              Security_And_Services      2.500000\n",
       "23                Diapers_And_Hygiene      3.256410\n",
       "46                     Home_Comfort_2      3.387097\n",
       "57                   Office_Furniture      3.516779\n",
       "30              Fashion_Male_Clothing      3.531034\n",
       "34                    Fixed_Telephony      3.661765\n",
       "27             Fashio_Female_Clothing      3.780000\n",
       "41  Furniture_Mattress_And_Upholstery      3.804878\n",
       "4                               Audio      3.824147\n",
       "19          Construction_Tools_Safety      3.834171"
      ]
     },
     "execution_count": 70,
     "metadata": {},
     "output_type": "execute_result"
    }
   ],
   "source": [
    "cat_rating.sort_values(by= 'review_score',ascending= True).head(10)"
   ]
  },
  {
   "cell_type": "markdown",
   "id": "756ba3d4",
   "metadata": {},
   "source": [
    "# b. Which products (top10) are maximum rated & minimum rated?"
   ]
  },
  {
   "cell_type": "code",
   "execution_count": 71,
   "id": "b3519245",
   "metadata": {},
   "outputs": [],
   "source": [
    "prod_rating= final_data.groupby(['product_id'])['review_score'].mean().reset_index()"
   ]
  },
  {
   "cell_type": "code",
   "execution_count": 72,
   "id": "02189659",
   "metadata": {},
   "outputs": [
    {
     "data": {
      "text/html": [
       "<div>\n",
       "<style scoped>\n",
       "    .dataframe tbody tr th:only-of-type {\n",
       "        vertical-align: middle;\n",
       "    }\n",
       "\n",
       "    .dataframe tbody tr th {\n",
       "        vertical-align: top;\n",
       "    }\n",
       "\n",
       "    .dataframe thead th {\n",
       "        text-align: right;\n",
       "    }\n",
       "</style>\n",
       "<table border=\"1\" class=\"dataframe\">\n",
       "  <thead>\n",
       "    <tr style=\"text-align: right;\">\n",
       "      <th></th>\n",
       "      <th>product_id</th>\n",
       "      <th>review_score</th>\n",
       "    </tr>\n",
       "  </thead>\n",
       "  <tbody>\n",
       "    <tr>\n",
       "      <th>0</th>\n",
       "      <td>00066f42aeeb9f3007548bb9d3f33c38</td>\n",
       "      <td>5.0</td>\n",
       "    </tr>\n",
       "    <tr>\n",
       "      <th>17330</th>\n",
       "      <td>86743ff92eee3d16b7df59cddd583b8c</td>\n",
       "      <td>5.0</td>\n",
       "    </tr>\n",
       "    <tr>\n",
       "      <th>17345</th>\n",
       "      <td>868ceb027ab706a4dee42e2220006b85</td>\n",
       "      <td>5.0</td>\n",
       "    </tr>\n",
       "    <tr>\n",
       "      <th>17343</th>\n",
       "      <td>868969d3a93aeeab7bfcd4fc3d3d65de</td>\n",
       "      <td>5.0</td>\n",
       "    </tr>\n",
       "    <tr>\n",
       "      <th>17342</th>\n",
       "      <td>868766ed2172644fdd977d6bd395a107</td>\n",
       "      <td>5.0</td>\n",
       "    </tr>\n",
       "    <tr>\n",
       "      <th>17340</th>\n",
       "      <td>8684bd8f93b4f4038d07188a23811e93</td>\n",
       "      <td>5.0</td>\n",
       "    </tr>\n",
       "    <tr>\n",
       "      <th>17335</th>\n",
       "      <td>867c96d2bb67aba6500a4c509cf76072</td>\n",
       "      <td>5.0</td>\n",
       "    </tr>\n",
       "    <tr>\n",
       "      <th>17334</th>\n",
       "      <td>867b820367ec206b38a357f2c12454b7</td>\n",
       "      <td>5.0</td>\n",
       "    </tr>\n",
       "    <tr>\n",
       "      <th>17333</th>\n",
       "      <td>867901d7e8488fb97f1fb538c09d476e</td>\n",
       "      <td>5.0</td>\n",
       "    </tr>\n",
       "    <tr>\n",
       "      <th>17325</th>\n",
       "      <td>865bfa00c1dad8f4146d3c2765f051ca</td>\n",
       "      <td>5.0</td>\n",
       "    </tr>\n",
       "  </tbody>\n",
       "</table>\n",
       "</div>"
      ],
      "text/plain": [
       "                             product_id  review_score\n",
       "0      00066f42aeeb9f3007548bb9d3f33c38           5.0\n",
       "17330  86743ff92eee3d16b7df59cddd583b8c           5.0\n",
       "17345  868ceb027ab706a4dee42e2220006b85           5.0\n",
       "17343  868969d3a93aeeab7bfcd4fc3d3d65de           5.0\n",
       "17342  868766ed2172644fdd977d6bd395a107           5.0\n",
       "17340  8684bd8f93b4f4038d07188a23811e93           5.0\n",
       "17335  867c96d2bb67aba6500a4c509cf76072           5.0\n",
       "17334  867b820367ec206b38a357f2c12454b7           5.0\n",
       "17333  867901d7e8488fb97f1fb538c09d476e           5.0\n",
       "17325  865bfa00c1dad8f4146d3c2765f051ca           5.0"
      ]
     },
     "execution_count": 72,
     "metadata": {},
     "output_type": "execute_result"
    }
   ],
   "source": [
    "prod_rating.sort_values(by= 'review_score', ascending= False).head(10)"
   ]
  },
  {
   "cell_type": "code",
   "execution_count": 73,
   "id": "09e07139",
   "metadata": {},
   "outputs": [
    {
     "data": {
      "text/html": [
       "<div>\n",
       "<style scoped>\n",
       "    .dataframe tbody tr th:only-of-type {\n",
       "        vertical-align: middle;\n",
       "    }\n",
       "\n",
       "    .dataframe tbody tr th {\n",
       "        vertical-align: top;\n",
       "    }\n",
       "\n",
       "    .dataframe thead th {\n",
       "        text-align: right;\n",
       "    }\n",
       "</style>\n",
       "<table border=\"1\" class=\"dataframe\">\n",
       "  <thead>\n",
       "    <tr style=\"text-align: right;\">\n",
       "      <th></th>\n",
       "      <th>product_id</th>\n",
       "      <th>review_score</th>\n",
       "    </tr>\n",
       "  </thead>\n",
       "  <tbody>\n",
       "    <tr>\n",
       "      <th>11572</th>\n",
       "      <td>592cc6634d2c783d297effc0b828bc37</td>\n",
       "      <td>1.0</td>\n",
       "    </tr>\n",
       "    <tr>\n",
       "      <th>18034</th>\n",
       "      <td>8c4456c061013adccb1ba4cbce2d0365</td>\n",
       "      <td>1.0</td>\n",
       "    </tr>\n",
       "    <tr>\n",
       "      <th>5375</th>\n",
       "      <td>28c8150eb44ec8106c8f061afd9c3e9f</td>\n",
       "      <td>1.0</td>\n",
       "    </tr>\n",
       "    <tr>\n",
       "      <th>5376</th>\n",
       "      <td>28c95d7653177449fd4b6fc7adb63ce9</td>\n",
       "      <td>1.0</td>\n",
       "    </tr>\n",
       "    <tr>\n",
       "      <th>5378</th>\n",
       "      <td>28d6d6a10ceb0636ae572e7efafef612</td>\n",
       "      <td>1.0</td>\n",
       "    </tr>\n",
       "    <tr>\n",
       "      <th>5379</th>\n",
       "      <td>28d7da9ebe96bfda54aed060b68b23a1</td>\n",
       "      <td>1.0</td>\n",
       "    </tr>\n",
       "    <tr>\n",
       "      <th>18030</th>\n",
       "      <td>8c35dc99b37ba51780800ba049ed3616</td>\n",
       "      <td>1.0</td>\n",
       "    </tr>\n",
       "    <tr>\n",
       "      <th>25240</th>\n",
       "      <td>c43704bc45a1f1a58de5d2b5ba0b0d12</td>\n",
       "      <td>1.0</td>\n",
       "    </tr>\n",
       "    <tr>\n",
       "      <th>18009</th>\n",
       "      <td>8c0c5d88d9ec2bc8e02395bda8ea52f2</td>\n",
       "      <td>1.0</td>\n",
       "    </tr>\n",
       "    <tr>\n",
       "      <th>5409</th>\n",
       "      <td>28fe66c8a81afe9be7829f40a5fae9ee</td>\n",
       "      <td>1.0</td>\n",
       "    </tr>\n",
       "  </tbody>\n",
       "</table>\n",
       "</div>"
      ],
      "text/plain": [
       "                             product_id  review_score\n",
       "11572  592cc6634d2c783d297effc0b828bc37           1.0\n",
       "18034  8c4456c061013adccb1ba4cbce2d0365           1.0\n",
       "5375   28c8150eb44ec8106c8f061afd9c3e9f           1.0\n",
       "5376   28c95d7653177449fd4b6fc7adb63ce9           1.0\n",
       "5378   28d6d6a10ceb0636ae572e7efafef612           1.0\n",
       "5379   28d7da9ebe96bfda54aed060b68b23a1           1.0\n",
       "18030  8c35dc99b37ba51780800ba049ed3616           1.0\n",
       "25240  c43704bc45a1f1a58de5d2b5ba0b0d12           1.0\n",
       "18009  8c0c5d88d9ec2bc8e02395bda8ea52f2           1.0\n",
       "5409   28fe66c8a81afe9be7829f40a5fae9ee           1.0"
      ]
     },
     "execution_count": 73,
     "metadata": {},
     "output_type": "execute_result"
    }
   ],
   "source": [
    "prod_rating.sort_values(by= 'review_score',ascending= True).head(10)"
   ]
  },
  {
   "cell_type": "markdown",
   "id": "194f199b",
   "metadata": {},
   "source": [
    "# c. Average rating by location, seller, product, category, month etc."
   ]
  },
  {
   "cell_type": "code",
   "execution_count": 74,
   "id": "7fd795b5",
   "metadata": {},
   "outputs": [],
   "source": [
    "def avg_rat_by(var):\n",
    "    x= final_data.groupby(var)['review_score'].mean().reset_index()\n",
    "    return (x)"
   ]
  },
  {
   "cell_type": "code",
   "execution_count": 75,
   "id": "27325e9b",
   "metadata": {},
   "outputs": [
    {
     "data": {
      "text/html": [
       "<div>\n",
       "<style scoped>\n",
       "    .dataframe tbody tr th:only-of-type {\n",
       "        vertical-align: middle;\n",
       "    }\n",
       "\n",
       "    .dataframe tbody tr th {\n",
       "        vertical-align: top;\n",
       "    }\n",
       "\n",
       "    .dataframe thead th {\n",
       "        text-align: right;\n",
       "    }\n",
       "</style>\n",
       "<table border=\"1\" class=\"dataframe\">\n",
       "  <thead>\n",
       "    <tr style=\"text-align: right;\">\n",
       "      <th></th>\n",
       "      <th>geolocation_state</th>\n",
       "      <th>review_score</th>\n",
       "    </tr>\n",
       "  </thead>\n",
       "  <tbody>\n",
       "    <tr>\n",
       "      <th>0</th>\n",
       "      <td>Andhra Pradesh</td>\n",
       "      <td>3.979987</td>\n",
       "    </tr>\n",
       "    <tr>\n",
       "      <th>1</th>\n",
       "      <td>Arunachal Pradesh</td>\n",
       "      <td>3.992399</td>\n",
       "    </tr>\n",
       "    <tr>\n",
       "      <th>2</th>\n",
       "      <td>Chhattisgarh</td>\n",
       "      <td>4.015365</td>\n",
       "    </tr>\n",
       "    <tr>\n",
       "      <th>3</th>\n",
       "      <td>Delhi</td>\n",
       "      <td>4.009671</td>\n",
       "    </tr>\n",
       "    <tr>\n",
       "      <th>4</th>\n",
       "      <td>Goa</td>\n",
       "      <td>4.777778</td>\n",
       "    </tr>\n",
       "  </tbody>\n",
       "</table>\n",
       "</div>"
      ],
      "text/plain": [
       "   geolocation_state  review_score\n",
       "0     Andhra Pradesh      3.979987\n",
       "1  Arunachal Pradesh      3.992399\n",
       "2       Chhattisgarh      4.015365\n",
       "3              Delhi      4.009671\n",
       "4                Goa      4.777778"
      ]
     },
     "execution_count": 75,
     "metadata": {},
     "output_type": "execute_result"
    }
   ],
   "source": [
    "avg_rat_by('geolocation_state').head(5)"
   ]
  },
  {
   "cell_type": "code",
   "execution_count": 76,
   "id": "e0281197",
   "metadata": {},
   "outputs": [
    {
     "data": {
      "text/html": [
       "<div>\n",
       "<style scoped>\n",
       "    .dataframe tbody tr th:only-of-type {\n",
       "        vertical-align: middle;\n",
       "    }\n",
       "\n",
       "    .dataframe tbody tr th {\n",
       "        vertical-align: top;\n",
       "    }\n",
       "\n",
       "    .dataframe thead th {\n",
       "        text-align: right;\n",
       "    }\n",
       "</style>\n",
       "<table border=\"1\" class=\"dataframe\">\n",
       "  <thead>\n",
       "    <tr style=\"text-align: right;\">\n",
       "      <th></th>\n",
       "      <th>seller_id</th>\n",
       "      <th>review_score</th>\n",
       "    </tr>\n",
       "  </thead>\n",
       "  <tbody>\n",
       "    <tr>\n",
       "      <th>0</th>\n",
       "      <td>0015a82c2db000af6aaaf3ae2ecb0532</td>\n",
       "      <td>3.666667</td>\n",
       "    </tr>\n",
       "    <tr>\n",
       "      <th>1</th>\n",
       "      <td>001cca7ae9ae17fb1caed9dfb1094831</td>\n",
       "      <td>3.883817</td>\n",
       "    </tr>\n",
       "    <tr>\n",
       "      <th>2</th>\n",
       "      <td>001e6ad469a905060d959994f1b41e4f</td>\n",
       "      <td>1.000000</td>\n",
       "    </tr>\n",
       "    <tr>\n",
       "      <th>3</th>\n",
       "      <td>002100f778ceb8431b7a1020ff7ab48f</td>\n",
       "      <td>4.033898</td>\n",
       "    </tr>\n",
       "    <tr>\n",
       "      <th>4</th>\n",
       "      <td>003554e2dce176b5555353e4f3555ac8</td>\n",
       "      <td>5.000000</td>\n",
       "    </tr>\n",
       "  </tbody>\n",
       "</table>\n",
       "</div>"
      ],
      "text/plain": [
       "                          seller_id  review_score\n",
       "0  0015a82c2db000af6aaaf3ae2ecb0532      3.666667\n",
       "1  001cca7ae9ae17fb1caed9dfb1094831      3.883817\n",
       "2  001e6ad469a905060d959994f1b41e4f      1.000000\n",
       "3  002100f778ceb8431b7a1020ff7ab48f      4.033898\n",
       "4  003554e2dce176b5555353e4f3555ac8      5.000000"
      ]
     },
     "execution_count": 76,
     "metadata": {},
     "output_type": "execute_result"
    }
   ],
   "source": [
    "avg_rat_by('seller_id').head(5)"
   ]
  },
  {
   "cell_type": "code",
   "execution_count": 125,
   "id": "89f8b68e",
   "metadata": {},
   "outputs": [],
   "source": [
    "# As per above onbservation we have calculated measures like total revenue, total category, Quantity,product, Locations, \n",
    "#    payment channel etc.\n",
    "# Found new customers and old customers.\n",
    "# month basis cutomer retention.\n",
    "# Popular products.\n",
    "# Expensive Products\n",
    "# Product Rating"
   ]
  },
  {
   "cell_type": "code",
   "execution_count": null,
   "id": "81040313",
   "metadata": {},
   "outputs": [],
   "source": []
  }
 ],
 "metadata": {
  "kernelspec": {
   "display_name": "Python 3 (ipykernel)",
   "language": "python",
   "name": "python3"
  },
  "language_info": {
   "codemirror_mode": {
    "name": "ipython",
    "version": 3
   },
   "file_extension": ".py",
   "mimetype": "text/x-python",
   "name": "python",
   "nbconvert_exporter": "python",
   "pygments_lexer": "ipython3",
   "version": "3.11.4"
  }
 },
 "nbformat": 4,
 "nbformat_minor": 5
}
