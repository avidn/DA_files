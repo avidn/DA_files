{
 "cells": [
  {
   "cell_type": "code",
   "execution_count": 1,
   "id": "1331c9a1",
   "metadata": {},
   "outputs": [],
   "source": [
    "import numpy as np\n",
    "import pandas as pd\n",
    "import datetime as dt\n",
    "import matplotlib.pyplot as plt\n",
    "import seaborn as sns"
   ]
  },
  {
   "cell_type": "code",
   "execution_count": 4,
   "id": "acf867c8",
   "metadata": {},
   "outputs": [],
   "source": [
    "customer= pd.read_csv('D:\\AnalytixLab Study_Content\\Python_classe_files\\Case Studies\\Python Foundation Case Study 1 - Retail Case Study (1)\\Case Study 1 - Retail Case Study\\Customer.csv')"
   ]
  },
  {
   "cell_type": "code",
   "execution_count": 5,
   "id": "0b378cd3",
   "metadata": {},
   "outputs": [],
   "source": [
    "prod_cat_info = pd.read_csv('D:\\AnalytixLab Study_Content\\Python_classe_files\\Case Studies\\Python Foundation Case Study 1 - Retail Case Study (1)\\Case Study 1 - Retail Case Study\\prod_cat_info.csv')"
   ]
  },
  {
   "cell_type": "code",
   "execution_count": 6,
   "id": "cd4e91c9",
   "metadata": {},
   "outputs": [],
   "source": [
    "Transaction = pd.read_csv('D:\\AnalytixLab Study_Content\\Python_classe_files\\Case Studies\\Python Foundation Case Study 1 - Retail Case Study (1)\\Case Study 1 - Retail Case Study\\Transactions.csv')"
   ]
  },
  {
   "cell_type": "code",
   "execution_count": 26,
   "id": "5366ee0a",
   "metadata": {},
   "outputs": [
    {
     "data": {
      "text/html": [
       "<div>\n",
       "<style scoped>\n",
       "    .dataframe tbody tr th:only-of-type {\n",
       "        vertical-align: middle;\n",
       "    }\n",
       "\n",
       "    .dataframe tbody tr th {\n",
       "        vertical-align: top;\n",
       "    }\n",
       "\n",
       "    .dataframe thead th {\n",
       "        text-align: right;\n",
       "    }\n",
       "</style>\n",
       "<table border=\"1\" class=\"dataframe\">\n",
       "  <thead>\n",
       "    <tr style=\"text-align: right;\">\n",
       "      <th></th>\n",
       "      <th>customer_Id</th>\n",
       "      <th>DOB</th>\n",
       "      <th>Gender</th>\n",
       "      <th>city_code</th>\n",
       "    </tr>\n",
       "  </thead>\n",
       "  <tbody>\n",
       "    <tr>\n",
       "      <th>0</th>\n",
       "      <td>268408</td>\n",
       "      <td>02-01-1970</td>\n",
       "      <td>M</td>\n",
       "      <td>4.0</td>\n",
       "    </tr>\n",
       "    <tr>\n",
       "      <th>1</th>\n",
       "      <td>269696</td>\n",
       "      <td>07-01-1970</td>\n",
       "      <td>F</td>\n",
       "      <td>8.0</td>\n",
       "    </tr>\n",
       "  </tbody>\n",
       "</table>\n",
       "</div>"
      ],
      "text/plain": [
       "   customer_Id         DOB Gender  city_code\n",
       "0       268408  02-01-1970      M        4.0\n",
       "1       269696  07-01-1970      F        8.0"
      ]
     },
     "execution_count": 26,
     "metadata": {},
     "output_type": "execute_result"
    }
   ],
   "source": [
    "customer.head(2)"
   ]
  },
  {
   "cell_type": "code",
   "execution_count": 27,
   "id": "e9f553ce",
   "metadata": {},
   "outputs": [
    {
     "data": {
      "text/html": [
       "<div>\n",
       "<style scoped>\n",
       "    .dataframe tbody tr th:only-of-type {\n",
       "        vertical-align: middle;\n",
       "    }\n",
       "\n",
       "    .dataframe tbody tr th {\n",
       "        vertical-align: top;\n",
       "    }\n",
       "\n",
       "    .dataframe thead th {\n",
       "        text-align: right;\n",
       "    }\n",
       "</style>\n",
       "<table border=\"1\" class=\"dataframe\">\n",
       "  <thead>\n",
       "    <tr style=\"text-align: right;\">\n",
       "      <th></th>\n",
       "      <th>prod_cat_code</th>\n",
       "      <th>prod_cat</th>\n",
       "      <th>prod_sub_cat_code</th>\n",
       "      <th>prod_subcat</th>\n",
       "    </tr>\n",
       "  </thead>\n",
       "  <tbody>\n",
       "    <tr>\n",
       "      <th>0</th>\n",
       "      <td>1</td>\n",
       "      <td>Clothing</td>\n",
       "      <td>4</td>\n",
       "      <td>Mens</td>\n",
       "    </tr>\n",
       "    <tr>\n",
       "      <th>1</th>\n",
       "      <td>1</td>\n",
       "      <td>Clothing</td>\n",
       "      <td>1</td>\n",
       "      <td>Women</td>\n",
       "    </tr>\n",
       "  </tbody>\n",
       "</table>\n",
       "</div>"
      ],
      "text/plain": [
       "   prod_cat_code  prod_cat  prod_sub_cat_code prod_subcat\n",
       "0              1  Clothing                  4        Mens\n",
       "1              1  Clothing                  1       Women"
      ]
     },
     "execution_count": 27,
     "metadata": {},
     "output_type": "execute_result"
    }
   ],
   "source": [
    "prod_cat_info.head(2)"
   ]
  },
  {
   "cell_type": "code",
   "execution_count": 28,
   "id": "e64e2162",
   "metadata": {},
   "outputs": [
    {
     "data": {
      "text/html": [
       "<div>\n",
       "<style scoped>\n",
       "    .dataframe tbody tr th:only-of-type {\n",
       "        vertical-align: middle;\n",
       "    }\n",
       "\n",
       "    .dataframe tbody tr th {\n",
       "        vertical-align: top;\n",
       "    }\n",
       "\n",
       "    .dataframe thead th {\n",
       "        text-align: right;\n",
       "    }\n",
       "</style>\n",
       "<table border=\"1\" class=\"dataframe\">\n",
       "  <thead>\n",
       "    <tr style=\"text-align: right;\">\n",
       "      <th></th>\n",
       "      <th>transaction_id</th>\n",
       "      <th>customer_Id</th>\n",
       "      <th>tran_date</th>\n",
       "      <th>prod_subcat_code</th>\n",
       "      <th>prod_cat_code</th>\n",
       "      <th>Qty</th>\n",
       "      <th>Rate</th>\n",
       "      <th>Tax</th>\n",
       "      <th>total_amt</th>\n",
       "      <th>Store_type</th>\n",
       "    </tr>\n",
       "  </thead>\n",
       "  <tbody>\n",
       "    <tr>\n",
       "      <th>0</th>\n",
       "      <td>80712190438</td>\n",
       "      <td>270351</td>\n",
       "      <td>28-02-2014</td>\n",
       "      <td>1</td>\n",
       "      <td>1</td>\n",
       "      <td>-5</td>\n",
       "      <td>-772</td>\n",
       "      <td>405.300</td>\n",
       "      <td>-4265.300</td>\n",
       "      <td>e-Shop</td>\n",
       "    </tr>\n",
       "    <tr>\n",
       "      <th>1</th>\n",
       "      <td>29258453508</td>\n",
       "      <td>270384</td>\n",
       "      <td>27-02-2014</td>\n",
       "      <td>5</td>\n",
       "      <td>3</td>\n",
       "      <td>-5</td>\n",
       "      <td>-1497</td>\n",
       "      <td>785.925</td>\n",
       "      <td>-8270.925</td>\n",
       "      <td>e-Shop</td>\n",
       "    </tr>\n",
       "  </tbody>\n",
       "</table>\n",
       "</div>"
      ],
      "text/plain": [
       "   transaction_id  customer_Id   tran_date  prod_subcat_code  prod_cat_code  \\\n",
       "0     80712190438       270351  28-02-2014                 1              1   \n",
       "1     29258453508       270384  27-02-2014                 5              3   \n",
       "\n",
       "   Qty  Rate      Tax  total_amt Store_type  \n",
       "0   -5  -772  405.300  -4265.300     e-Shop  \n",
       "1   -5 -1497  785.925  -8270.925     e-Shop  "
      ]
     },
     "execution_count": 28,
     "metadata": {},
     "output_type": "execute_result"
    }
   ],
   "source": [
    "Transaction.head(2)"
   ]
  },
  {
   "cell_type": "code",
   "execution_count": 15,
   "id": "7a711dc9",
   "metadata": {},
   "outputs": [
    {
     "name": "stdout",
     "output_type": "stream",
     "text": [
      "<class 'pandas.core.frame.DataFrame'>\n",
      "RangeIndex: 5647 entries, 0 to 5646\n",
      "Data columns (total 4 columns):\n",
      " #   Column       Non-Null Count  Dtype  \n",
      "---  ------       --------------  -----  \n",
      " 0   customer_Id  5647 non-null   int64  \n",
      " 1   DOB          5647 non-null   object \n",
      " 2   Gender       5645 non-null   object \n",
      " 3   city_code    5645 non-null   float64\n",
      "dtypes: float64(1), int64(1), object(2)\n",
      "memory usage: 176.6+ KB\n"
     ]
    }
   ],
   "source": [
    "customer.info()"
   ]
  },
  {
   "cell_type": "code",
   "execution_count": 16,
   "id": "f5245a17",
   "metadata": {},
   "outputs": [
    {
     "name": "stdout",
     "output_type": "stream",
     "text": [
      "<class 'pandas.core.frame.DataFrame'>\n",
      "RangeIndex: 23 entries, 0 to 22\n",
      "Data columns (total 4 columns):\n",
      " #   Column             Non-Null Count  Dtype \n",
      "---  ------             --------------  ----- \n",
      " 0   prod_cat_code      23 non-null     int64 \n",
      " 1   prod_cat           23 non-null     object\n",
      " 2   prod_sub_cat_code  23 non-null     int64 \n",
      " 3   prod_subcat        23 non-null     object\n",
      "dtypes: int64(2), object(2)\n",
      "memory usage: 868.0+ bytes\n"
     ]
    }
   ],
   "source": [
    "prod_cat_info.info()"
   ]
  },
  {
   "cell_type": "code",
   "execution_count": 17,
   "id": "787dcae3",
   "metadata": {},
   "outputs": [
    {
     "name": "stdout",
     "output_type": "stream",
     "text": [
      "<class 'pandas.core.frame.DataFrame'>\n",
      "RangeIndex: 23053 entries, 0 to 23052\n",
      "Data columns (total 10 columns):\n",
      " #   Column            Non-Null Count  Dtype  \n",
      "---  ------            --------------  -----  \n",
      " 0   transaction_id    23053 non-null  int64  \n",
      " 1   customer_Id       23053 non-null  int64  \n",
      " 2   tran_date         23053 non-null  object \n",
      " 3   prod_subcat_code  23053 non-null  int64  \n",
      " 4   prod_cat_code     23053 non-null  int64  \n",
      " 5   Qty               23053 non-null  int64  \n",
      " 6   Rate              23053 non-null  int64  \n",
      " 7   Tax               23053 non-null  float64\n",
      " 8   total_amt         23053 non-null  float64\n",
      " 9   Store_type        23053 non-null  object \n",
      "dtypes: float64(2), int64(6), object(2)\n",
      "memory usage: 1.8+ MB\n"
     ]
    }
   ],
   "source": [
    "Transaction.info()"
   ]
  },
  {
   "cell_type": "markdown",
   "id": "4d9cf50f",
   "metadata": {},
   "source": [
    "# 1. Merge the datasets Customers, Product Hierarchy and Transactions as Customer_Final. Ensure to  keep all customers who have done transactions with us and select the join type accordingly."
   ]
  },
  {
   "cell_type": "code",
   "execution_count": 18,
   "id": "561af9b7",
   "metadata": {},
   "outputs": [],
   "source": [
    "Transaction.rename(columns={'cust_id':'customer_Id'}, inplace= True)"
   ]
  },
  {
   "cell_type": "code",
   "execution_count": 25,
   "id": "6fccc2a3",
   "metadata": {},
   "outputs": [
    {
     "name": "stdout",
     "output_type": "stream",
     "text": [
      "<class 'pandas.core.frame.DataFrame'>\n",
      "Int64Index: 23053 entries, 0 to 23052\n",
      "Data columns (total 13 columns):\n",
      " #   Column            Non-Null Count  Dtype  \n",
      "---  ------            --------------  -----  \n",
      " 0   transaction_id    23053 non-null  int64  \n",
      " 1   customer_Id       23053 non-null  int64  \n",
      " 2   tran_date         23053 non-null  object \n",
      " 3   prod_subcat_code  23053 non-null  int64  \n",
      " 4   prod_cat_code     23053 non-null  int64  \n",
      " 5   Qty               23053 non-null  int64  \n",
      " 6   Rate              23053 non-null  int64  \n",
      " 7   Tax               23053 non-null  float64\n",
      " 8   total_amt         23053 non-null  float64\n",
      " 9   Store_type        23053 non-null  object \n",
      " 10  DOB               23053 non-null  object \n",
      " 11  Gender            23044 non-null  object \n",
      " 12  city_code         23045 non-null  float64\n",
      "dtypes: float64(3), int64(6), object(4)\n",
      "memory usage: 2.5+ MB\n"
     ]
    }
   ],
   "source": [
    "data_1.info()"
   ]
  },
  {
   "cell_type": "code",
   "execution_count": 22,
   "id": "f12257e1",
   "metadata": {},
   "outputs": [],
   "source": [
    "data_1= pd.merge(left= Transaction, right= customer , left_on=['customer_Id'], right_on=['customer_Id'], how= 'left')"
   ]
  },
  {
   "cell_type": "code",
   "execution_count": 19,
   "id": "20bf3744",
   "metadata": {},
   "outputs": [
    {
     "data": {
      "text/html": [
       "<div>\n",
       "<style scoped>\n",
       "    .dataframe tbody tr th:only-of-type {\n",
       "        vertical-align: middle;\n",
       "    }\n",
       "\n",
       "    .dataframe tbody tr th {\n",
       "        vertical-align: top;\n",
       "    }\n",
       "\n",
       "    .dataframe thead th {\n",
       "        text-align: right;\n",
       "    }\n",
       "</style>\n",
       "<table border=\"1\" class=\"dataframe\">\n",
       "  <thead>\n",
       "    <tr style=\"text-align: right;\">\n",
       "      <th></th>\n",
       "      <th>customer_Id</th>\n",
       "      <th>tran_date</th>\n",
       "    </tr>\n",
       "  </thead>\n",
       "  <tbody>\n",
       "    <tr>\n",
       "      <th>0</th>\n",
       "      <td>270351</td>\n",
       "      <td>28-02-2014</td>\n",
       "    </tr>\n",
       "    <tr>\n",
       "      <th>1</th>\n",
       "      <td>270351</td>\n",
       "      <td>28-02-2014</td>\n",
       "    </tr>\n",
       "    <tr>\n",
       "      <th>2</th>\n",
       "      <td>270351</td>\n",
       "      <td>28-02-2014</td>\n",
       "    </tr>\n",
       "    <tr>\n",
       "      <th>3</th>\n",
       "      <td>270384</td>\n",
       "      <td>27-02-2014</td>\n",
       "    </tr>\n",
       "    <tr>\n",
       "      <th>4</th>\n",
       "      <td>270384</td>\n",
       "      <td>27-02-2014</td>\n",
       "    </tr>\n",
       "    <tr>\n",
       "      <th>5</th>\n",
       "      <td>270384</td>\n",
       "      <td>27-02-2014</td>\n",
       "    </tr>\n",
       "    <tr>\n",
       "      <th>6</th>\n",
       "      <td>270384</td>\n",
       "      <td>27-02-2014</td>\n",
       "    </tr>\n",
       "    <tr>\n",
       "      <th>7</th>\n",
       "      <td>270384</td>\n",
       "      <td>27-02-2014</td>\n",
       "    </tr>\n",
       "    <tr>\n",
       "      <th>8</th>\n",
       "      <td>273420</td>\n",
       "      <td>24-02-2014</td>\n",
       "    </tr>\n",
       "    <tr>\n",
       "      <th>9</th>\n",
       "      <td>273420</td>\n",
       "      <td>24-02-2014</td>\n",
       "    </tr>\n",
       "    <tr>\n",
       "      <th>10</th>\n",
       "      <td>273420</td>\n",
       "      <td>24-02-2014</td>\n",
       "    </tr>\n",
       "    <tr>\n",
       "      <th>11</th>\n",
       "      <td>273420</td>\n",
       "      <td>24-02-2014</td>\n",
       "    </tr>\n",
       "    <tr>\n",
       "      <th>12</th>\n",
       "      <td>273420</td>\n",
       "      <td>24-02-2014</td>\n",
       "    </tr>\n",
       "    <tr>\n",
       "      <th>13</th>\n",
       "      <td>273420</td>\n",
       "      <td>24-02-2014</td>\n",
       "    </tr>\n",
       "    <tr>\n",
       "      <th>14</th>\n",
       "      <td>271509</td>\n",
       "      <td>24-02-2014</td>\n",
       "    </tr>\n",
       "    <tr>\n",
       "      <th>15</th>\n",
       "      <td>271509</td>\n",
       "      <td>24-02-2014</td>\n",
       "    </tr>\n",
       "    <tr>\n",
       "      <th>16</th>\n",
       "      <td>271509</td>\n",
       "      <td>24-02-2014</td>\n",
       "    </tr>\n",
       "    <tr>\n",
       "      <th>17</th>\n",
       "      <td>271509</td>\n",
       "      <td>24-02-2014</td>\n",
       "    </tr>\n",
       "    <tr>\n",
       "      <th>18</th>\n",
       "      <td>273420</td>\n",
       "      <td>23-02-2014</td>\n",
       "    </tr>\n",
       "    <tr>\n",
       "      <th>19</th>\n",
       "      <td>273420</td>\n",
       "      <td>23-02-2014</td>\n",
       "    </tr>\n",
       "    <tr>\n",
       "      <th>20</th>\n",
       "      <td>273420</td>\n",
       "      <td>23-02-2014</td>\n",
       "    </tr>\n",
       "    <tr>\n",
       "      <th>21</th>\n",
       "      <td>273420</td>\n",
       "      <td>23-02-2014</td>\n",
       "    </tr>\n",
       "    <tr>\n",
       "      <th>22</th>\n",
       "      <td>273420</td>\n",
       "      <td>23-02-2014</td>\n",
       "    </tr>\n",
       "    <tr>\n",
       "      <th>23</th>\n",
       "      <td>273420</td>\n",
       "      <td>23-02-2014</td>\n",
       "    </tr>\n",
       "    <tr>\n",
       "      <th>24</th>\n",
       "      <td>272357</td>\n",
       "      <td>23-02-2014</td>\n",
       "    </tr>\n",
       "    <tr>\n",
       "      <th>25</th>\n",
       "      <td>272357</td>\n",
       "      <td>23-02-2014</td>\n",
       "    </tr>\n",
       "    <tr>\n",
       "      <th>26</th>\n",
       "      <td>272357</td>\n",
       "      <td>23-02-2014</td>\n",
       "    </tr>\n",
       "    <tr>\n",
       "      <th>27</th>\n",
       "      <td>272357</td>\n",
       "      <td>23-02-2014</td>\n",
       "    </tr>\n",
       "    <tr>\n",
       "      <th>28</th>\n",
       "      <td>272357</td>\n",
       "      <td>23-02-2014</td>\n",
       "    </tr>\n",
       "    <tr>\n",
       "      <th>29</th>\n",
       "      <td>273667</td>\n",
       "      <td>22-02-2014</td>\n",
       "    </tr>\n",
       "  </tbody>\n",
       "</table>\n",
       "</div>"
      ],
      "text/plain": [
       "    customer_Id   tran_date\n",
       "0        270351  28-02-2014\n",
       "1        270351  28-02-2014\n",
       "2        270351  28-02-2014\n",
       "3        270384  27-02-2014\n",
       "4        270384  27-02-2014\n",
       "5        270384  27-02-2014\n",
       "6        270384  27-02-2014\n",
       "7        270384  27-02-2014\n",
       "8        273420  24-02-2014\n",
       "9        273420  24-02-2014\n",
       "10       273420  24-02-2014\n",
       "11       273420  24-02-2014\n",
       "12       273420  24-02-2014\n",
       "13       273420  24-02-2014\n",
       "14       271509  24-02-2014\n",
       "15       271509  24-02-2014\n",
       "16       271509  24-02-2014\n",
       "17       271509  24-02-2014\n",
       "18       273420  23-02-2014\n",
       "19       273420  23-02-2014\n",
       "20       273420  23-02-2014\n",
       "21       273420  23-02-2014\n",
       "22       273420  23-02-2014\n",
       "23       273420  23-02-2014\n",
       "24       272357  23-02-2014\n",
       "25       272357  23-02-2014\n",
       "26       272357  23-02-2014\n",
       "27       272357  23-02-2014\n",
       "28       272357  23-02-2014\n",
       "29       273667  22-02-2014"
      ]
     },
     "execution_count": 19,
     "metadata": {},
     "output_type": "execute_result"
    }
   ],
   "source": [
    "customer_final[['customer_Id', 'tran_date']].head(30)"
   ]
  },
  {
   "cell_type": "code",
   "execution_count": 23,
   "id": "0aff1827",
   "metadata": {},
   "outputs": [],
   "source": [
    "customer_final= pd.merge(left= data_1, right=prod_cat_info, left_on=['prod_cat_code'], right_on=['prod_cat_code'], how= 'inner')"
   ]
  },
  {
   "cell_type": "code",
   "execution_count": 24,
   "id": "89887504",
   "metadata": {},
   "outputs": [
    {
     "name": "stdout",
     "output_type": "stream",
     "text": [
      "<class 'pandas.core.frame.DataFrame'>\n",
      "Int64Index: 99293 entries, 0 to 99292\n",
      "Data columns (total 16 columns):\n",
      " #   Column             Non-Null Count  Dtype  \n",
      "---  ------             --------------  -----  \n",
      " 0   transaction_id     99293 non-null  int64  \n",
      " 1   customer_Id        99293 non-null  int64  \n",
      " 2   tran_date          99293 non-null  object \n",
      " 3   prod_subcat_code   99293 non-null  int64  \n",
      " 4   prod_cat_code      99293 non-null  int64  \n",
      " 5   Qty                99293 non-null  int64  \n",
      " 6   Rate               99293 non-null  int64  \n",
      " 7   Tax                99293 non-null  float64\n",
      " 8   total_amt          99293 non-null  float64\n",
      " 9   Store_type         99293 non-null  object \n",
      " 10  DOB                99293 non-null  object \n",
      " 11  Gender             99253 non-null  object \n",
      " 12  city_code          99257 non-null  float64\n",
      " 13  prod_cat           99293 non-null  object \n",
      " 14  prod_sub_cat_code  99293 non-null  int64  \n",
      " 15  prod_subcat        99293 non-null  object \n",
      "dtypes: float64(3), int64(7), object(6)\n",
      "memory usage: 12.9+ MB\n"
     ]
    }
   ],
   "source": [
    "customer_final['tran_date']=customer_final.tran_date.apply(lambda x: str(x).replace('/','-'))\n",
    "customer_final.info()"
   ]
  },
  {
   "cell_type": "markdown",
   "id": "7c243552",
   "metadata": {},
   "source": [
    "# 2. Prepare a summary report for the merged data set."
   ]
  },
  {
   "cell_type": "markdown",
   "id": "2b34df7b",
   "metadata": {},
   "source": [
    "# a. Get the column names and their corresponding data types"
   ]
  },
  {
   "cell_type": "code",
   "execution_count": 21,
   "id": "9f976064",
   "metadata": {},
   "outputs": [
    {
     "name": "stdout",
     "output_type": "stream",
     "text": [
      "<class 'pandas.core.frame.DataFrame'>\n",
      "Int64Index: 99293 entries, 0 to 99292\n",
      "Data columns (total 16 columns):\n",
      " #   Column             Non-Null Count  Dtype  \n",
      "---  ------             --------------  -----  \n",
      " 0   transaction_id     99293 non-null  int64  \n",
      " 1   customer_Id        99293 non-null  int64  \n",
      " 2   tran_date          99293 non-null  object \n",
      " 3   prod_subcat_code   99293 non-null  int64  \n",
      " 4   prod_cat_code      99293 non-null  int64  \n",
      " 5   Qty                99293 non-null  int64  \n",
      " 6   Rate               99293 non-null  int64  \n",
      " 7   Tax                99293 non-null  float64\n",
      " 8   total_amt          99293 non-null  float64\n",
      " 9   Store_type         99293 non-null  object \n",
      " 10  DOB                99293 non-null  object \n",
      " 11  Gender             99253 non-null  object \n",
      " 12  city_code          99257 non-null  float64\n",
      " 13  prod_cat           99293 non-null  object \n",
      " 14  prod_sub_cat_code  99293 non-null  int64  \n",
      " 15  prod_subcat        99293 non-null  object \n",
      "dtypes: float64(3), int64(7), object(6)\n",
      "memory usage: 12.9+ MB\n"
     ]
    }
   ],
   "source": [
    "customer_final.info()"
   ]
  },
  {
   "cell_type": "markdown",
   "id": "27a1f638",
   "metadata": {},
   "source": [
    "# b. Top/Bottom 10 observations"
   ]
  },
  {
   "cell_type": "code",
   "execution_count": 22,
   "id": "a6ab1f51",
   "metadata": {},
   "outputs": [
    {
     "data": {
      "text/html": [
       "<div>\n",
       "<style scoped>\n",
       "    .dataframe tbody tr th:only-of-type {\n",
       "        vertical-align: middle;\n",
       "    }\n",
       "\n",
       "    .dataframe tbody tr th {\n",
       "        vertical-align: top;\n",
       "    }\n",
       "\n",
       "    .dataframe thead th {\n",
       "        text-align: right;\n",
       "    }\n",
       "</style>\n",
       "<table border=\"1\" class=\"dataframe\">\n",
       "  <thead>\n",
       "    <tr style=\"text-align: right;\">\n",
       "      <th></th>\n",
       "      <th>transaction_id</th>\n",
       "      <th>customer_Id</th>\n",
       "      <th>tran_date</th>\n",
       "      <th>prod_subcat_code</th>\n",
       "      <th>prod_cat_code</th>\n",
       "      <th>Qty</th>\n",
       "      <th>Rate</th>\n",
       "      <th>Tax</th>\n",
       "      <th>total_amt</th>\n",
       "      <th>Store_type</th>\n",
       "      <th>DOB</th>\n",
       "      <th>Gender</th>\n",
       "      <th>city_code</th>\n",
       "      <th>prod_cat</th>\n",
       "      <th>prod_sub_cat_code</th>\n",
       "      <th>prod_subcat</th>\n",
       "    </tr>\n",
       "  </thead>\n",
       "  <tbody>\n",
       "    <tr>\n",
       "      <th>0</th>\n",
       "      <td>80712190438</td>\n",
       "      <td>270351</td>\n",
       "      <td>28-02-2014</td>\n",
       "      <td>1</td>\n",
       "      <td>1</td>\n",
       "      <td>-5</td>\n",
       "      <td>-772</td>\n",
       "      <td>405.300</td>\n",
       "      <td>-4265.300</td>\n",
       "      <td>e-Shop</td>\n",
       "      <td>26-09-1981</td>\n",
       "      <td>M</td>\n",
       "      <td>5.0</td>\n",
       "      <td>Clothing</td>\n",
       "      <td>4</td>\n",
       "      <td>Mens</td>\n",
       "    </tr>\n",
       "    <tr>\n",
       "      <th>1</th>\n",
       "      <td>80712190438</td>\n",
       "      <td>270351</td>\n",
       "      <td>28-02-2014</td>\n",
       "      <td>1</td>\n",
       "      <td>1</td>\n",
       "      <td>-5</td>\n",
       "      <td>-772</td>\n",
       "      <td>405.300</td>\n",
       "      <td>-4265.300</td>\n",
       "      <td>e-Shop</td>\n",
       "      <td>26-09-1981</td>\n",
       "      <td>M</td>\n",
       "      <td>5.0</td>\n",
       "      <td>Clothing</td>\n",
       "      <td>1</td>\n",
       "      <td>Women</td>\n",
       "    </tr>\n",
       "    <tr>\n",
       "      <th>2</th>\n",
       "      <td>80712190438</td>\n",
       "      <td>270351</td>\n",
       "      <td>28-02-2014</td>\n",
       "      <td>1</td>\n",
       "      <td>1</td>\n",
       "      <td>-5</td>\n",
       "      <td>-772</td>\n",
       "      <td>405.300</td>\n",
       "      <td>-4265.300</td>\n",
       "      <td>e-Shop</td>\n",
       "      <td>26-09-1981</td>\n",
       "      <td>M</td>\n",
       "      <td>5.0</td>\n",
       "      <td>Clothing</td>\n",
       "      <td>3</td>\n",
       "      <td>Kids</td>\n",
       "    </tr>\n",
       "    <tr>\n",
       "      <th>3</th>\n",
       "      <td>29258453508</td>\n",
       "      <td>270384</td>\n",
       "      <td>27-02-2014</td>\n",
       "      <td>5</td>\n",
       "      <td>3</td>\n",
       "      <td>-5</td>\n",
       "      <td>-1497</td>\n",
       "      <td>785.925</td>\n",
       "      <td>-8270.925</td>\n",
       "      <td>e-Shop</td>\n",
       "      <td>11-05-1973</td>\n",
       "      <td>F</td>\n",
       "      <td>8.0</td>\n",
       "      <td>Electronics</td>\n",
       "      <td>4</td>\n",
       "      <td>Mobiles</td>\n",
       "    </tr>\n",
       "    <tr>\n",
       "      <th>4</th>\n",
       "      <td>29258453508</td>\n",
       "      <td>270384</td>\n",
       "      <td>27-02-2014</td>\n",
       "      <td>5</td>\n",
       "      <td>3</td>\n",
       "      <td>-5</td>\n",
       "      <td>-1497</td>\n",
       "      <td>785.925</td>\n",
       "      <td>-8270.925</td>\n",
       "      <td>e-Shop</td>\n",
       "      <td>11-05-1973</td>\n",
       "      <td>F</td>\n",
       "      <td>8.0</td>\n",
       "      <td>Electronics</td>\n",
       "      <td>5</td>\n",
       "      <td>Computers</td>\n",
       "    </tr>\n",
       "    <tr>\n",
       "      <th>5</th>\n",
       "      <td>29258453508</td>\n",
       "      <td>270384</td>\n",
       "      <td>27-02-2014</td>\n",
       "      <td>5</td>\n",
       "      <td>3</td>\n",
       "      <td>-5</td>\n",
       "      <td>-1497</td>\n",
       "      <td>785.925</td>\n",
       "      <td>-8270.925</td>\n",
       "      <td>e-Shop</td>\n",
       "      <td>11-05-1973</td>\n",
       "      <td>F</td>\n",
       "      <td>8.0</td>\n",
       "      <td>Electronics</td>\n",
       "      <td>8</td>\n",
       "      <td>Personal Appliances</td>\n",
       "    </tr>\n",
       "    <tr>\n",
       "      <th>6</th>\n",
       "      <td>29258453508</td>\n",
       "      <td>270384</td>\n",
       "      <td>27-02-2014</td>\n",
       "      <td>5</td>\n",
       "      <td>3</td>\n",
       "      <td>-5</td>\n",
       "      <td>-1497</td>\n",
       "      <td>785.925</td>\n",
       "      <td>-8270.925</td>\n",
       "      <td>e-Shop</td>\n",
       "      <td>11-05-1973</td>\n",
       "      <td>F</td>\n",
       "      <td>8.0</td>\n",
       "      <td>Electronics</td>\n",
       "      <td>9</td>\n",
       "      <td>Cameras</td>\n",
       "    </tr>\n",
       "    <tr>\n",
       "      <th>7</th>\n",
       "      <td>29258453508</td>\n",
       "      <td>270384</td>\n",
       "      <td>27-02-2014</td>\n",
       "      <td>5</td>\n",
       "      <td>3</td>\n",
       "      <td>-5</td>\n",
       "      <td>-1497</td>\n",
       "      <td>785.925</td>\n",
       "      <td>-8270.925</td>\n",
       "      <td>e-Shop</td>\n",
       "      <td>11-05-1973</td>\n",
       "      <td>F</td>\n",
       "      <td>8.0</td>\n",
       "      <td>Electronics</td>\n",
       "      <td>10</td>\n",
       "      <td>Audio and video</td>\n",
       "    </tr>\n",
       "    <tr>\n",
       "      <th>8</th>\n",
       "      <td>51750724947</td>\n",
       "      <td>273420</td>\n",
       "      <td>24-02-2014</td>\n",
       "      <td>6</td>\n",
       "      <td>5</td>\n",
       "      <td>-2</td>\n",
       "      <td>-791</td>\n",
       "      <td>166.110</td>\n",
       "      <td>-1748.110</td>\n",
       "      <td>TeleShop</td>\n",
       "      <td>27-07-1992</td>\n",
       "      <td>M</td>\n",
       "      <td>8.0</td>\n",
       "      <td>Books</td>\n",
       "      <td>7</td>\n",
       "      <td>Fiction</td>\n",
       "    </tr>\n",
       "    <tr>\n",
       "      <th>9</th>\n",
       "      <td>51750724947</td>\n",
       "      <td>273420</td>\n",
       "      <td>24-02-2014</td>\n",
       "      <td>6</td>\n",
       "      <td>5</td>\n",
       "      <td>-2</td>\n",
       "      <td>-791</td>\n",
       "      <td>166.110</td>\n",
       "      <td>-1748.110</td>\n",
       "      <td>TeleShop</td>\n",
       "      <td>27-07-1992</td>\n",
       "      <td>M</td>\n",
       "      <td>8.0</td>\n",
       "      <td>Books</td>\n",
       "      <td>12</td>\n",
       "      <td>Academic</td>\n",
       "    </tr>\n",
       "  </tbody>\n",
       "</table>\n",
       "</div>"
      ],
      "text/plain": [
       "   transaction_id  customer_Id   tran_date  prod_subcat_code  prod_cat_code  \\\n",
       "0     80712190438       270351  28-02-2014                 1              1   \n",
       "1     80712190438       270351  28-02-2014                 1              1   \n",
       "2     80712190438       270351  28-02-2014                 1              1   \n",
       "3     29258453508       270384  27-02-2014                 5              3   \n",
       "4     29258453508       270384  27-02-2014                 5              3   \n",
       "5     29258453508       270384  27-02-2014                 5              3   \n",
       "6     29258453508       270384  27-02-2014                 5              3   \n",
       "7     29258453508       270384  27-02-2014                 5              3   \n",
       "8     51750724947       273420  24-02-2014                 6              5   \n",
       "9     51750724947       273420  24-02-2014                 6              5   \n",
       "\n",
       "   Qty  Rate      Tax  total_amt Store_type         DOB Gender  city_code  \\\n",
       "0   -5  -772  405.300  -4265.300     e-Shop  26-09-1981      M        5.0   \n",
       "1   -5  -772  405.300  -4265.300     e-Shop  26-09-1981      M        5.0   \n",
       "2   -5  -772  405.300  -4265.300     e-Shop  26-09-1981      M        5.0   \n",
       "3   -5 -1497  785.925  -8270.925     e-Shop  11-05-1973      F        8.0   \n",
       "4   -5 -1497  785.925  -8270.925     e-Shop  11-05-1973      F        8.0   \n",
       "5   -5 -1497  785.925  -8270.925     e-Shop  11-05-1973      F        8.0   \n",
       "6   -5 -1497  785.925  -8270.925     e-Shop  11-05-1973      F        8.0   \n",
       "7   -5 -1497  785.925  -8270.925     e-Shop  11-05-1973      F        8.0   \n",
       "8   -2  -791  166.110  -1748.110   TeleShop  27-07-1992      M        8.0   \n",
       "9   -2  -791  166.110  -1748.110   TeleShop  27-07-1992      M        8.0   \n",
       "\n",
       "      prod_cat  prod_sub_cat_code          prod_subcat  \n",
       "0     Clothing                  4                 Mens  \n",
       "1     Clothing                  1                Women  \n",
       "2     Clothing                  3                 Kids  \n",
       "3  Electronics                  4              Mobiles  \n",
       "4  Electronics                  5            Computers  \n",
       "5  Electronics                  8  Personal Appliances  \n",
       "6  Electronics                  9              Cameras  \n",
       "7  Electronics                 10      Audio and video  \n",
       "8        Books                  7              Fiction  \n",
       "9        Books                 12             Academic  "
      ]
     },
     "execution_count": 22,
     "metadata": {},
     "output_type": "execute_result"
    }
   ],
   "source": [
    "customer_final.head(10)"
   ]
  },
  {
   "cell_type": "code",
   "execution_count": 23,
   "id": "e409afaf",
   "metadata": {},
   "outputs": [
    {
     "data": {
      "text/html": [
       "<div>\n",
       "<style scoped>\n",
       "    .dataframe tbody tr th:only-of-type {\n",
       "        vertical-align: middle;\n",
       "    }\n",
       "\n",
       "    .dataframe tbody tr th {\n",
       "        vertical-align: top;\n",
       "    }\n",
       "\n",
       "    .dataframe thead th {\n",
       "        text-align: right;\n",
       "    }\n",
       "</style>\n",
       "<table border=\"1\" class=\"dataframe\">\n",
       "  <thead>\n",
       "    <tr style=\"text-align: right;\">\n",
       "      <th></th>\n",
       "      <th>transaction_id</th>\n",
       "      <th>customer_Id</th>\n",
       "      <th>tran_date</th>\n",
       "      <th>prod_subcat_code</th>\n",
       "      <th>prod_cat_code</th>\n",
       "      <th>Qty</th>\n",
       "      <th>Rate</th>\n",
       "      <th>Tax</th>\n",
       "      <th>total_amt</th>\n",
       "      <th>Store_type</th>\n",
       "      <th>DOB</th>\n",
       "      <th>Gender</th>\n",
       "      <th>city_code</th>\n",
       "      <th>prod_cat</th>\n",
       "      <th>prod_sub_cat_code</th>\n",
       "      <th>prod_subcat</th>\n",
       "    </tr>\n",
       "  </thead>\n",
       "  <tbody>\n",
       "    <tr>\n",
       "      <th>99283</th>\n",
       "      <td>72870271171</td>\n",
       "      <td>270911</td>\n",
       "      <td>25-01-2011</td>\n",
       "      <td>11</td>\n",
       "      <td>5</td>\n",
       "      <td>3</td>\n",
       "      <td>1142</td>\n",
       "      <td>359.730</td>\n",
       "      <td>3785.730</td>\n",
       "      <td>TeleShop</td>\n",
       "      <td>22-05-1970</td>\n",
       "      <td>M</td>\n",
       "      <td>2.0</td>\n",
       "      <td>Books</td>\n",
       "      <td>10</td>\n",
       "      <td>Non-Fiction</td>\n",
       "    </tr>\n",
       "    <tr>\n",
       "      <th>99284</th>\n",
       "      <td>72870271171</td>\n",
       "      <td>270911</td>\n",
       "      <td>25-01-2011</td>\n",
       "      <td>11</td>\n",
       "      <td>5</td>\n",
       "      <td>3</td>\n",
       "      <td>1142</td>\n",
       "      <td>359.730</td>\n",
       "      <td>3785.730</td>\n",
       "      <td>TeleShop</td>\n",
       "      <td>22-05-1970</td>\n",
       "      <td>M</td>\n",
       "      <td>2.0</td>\n",
       "      <td>Books</td>\n",
       "      <td>11</td>\n",
       "      <td>Children</td>\n",
       "    </tr>\n",
       "    <tr>\n",
       "      <th>99285</th>\n",
       "      <td>72870271171</td>\n",
       "      <td>270911</td>\n",
       "      <td>25-01-2011</td>\n",
       "      <td>11</td>\n",
       "      <td>5</td>\n",
       "      <td>3</td>\n",
       "      <td>1142</td>\n",
       "      <td>359.730</td>\n",
       "      <td>3785.730</td>\n",
       "      <td>TeleShop</td>\n",
       "      <td>22-05-1970</td>\n",
       "      <td>M</td>\n",
       "      <td>2.0</td>\n",
       "      <td>Books</td>\n",
       "      <td>3</td>\n",
       "      <td>Comics</td>\n",
       "    </tr>\n",
       "    <tr>\n",
       "      <th>99286</th>\n",
       "      <td>72870271171</td>\n",
       "      <td>270911</td>\n",
       "      <td>25-01-2011</td>\n",
       "      <td>11</td>\n",
       "      <td>5</td>\n",
       "      <td>3</td>\n",
       "      <td>1142</td>\n",
       "      <td>359.730</td>\n",
       "      <td>3785.730</td>\n",
       "      <td>TeleShop</td>\n",
       "      <td>22-05-1970</td>\n",
       "      <td>M</td>\n",
       "      <td>2.0</td>\n",
       "      <td>Books</td>\n",
       "      <td>6</td>\n",
       "      <td>DIY</td>\n",
       "    </tr>\n",
       "    <tr>\n",
       "      <th>99287</th>\n",
       "      <td>77960931771</td>\n",
       "      <td>271961</td>\n",
       "      <td>25-01-2011</td>\n",
       "      <td>11</td>\n",
       "      <td>5</td>\n",
       "      <td>1</td>\n",
       "      <td>447</td>\n",
       "      <td>46.935</td>\n",
       "      <td>493.935</td>\n",
       "      <td>TeleShop</td>\n",
       "      <td>15-01-1982</td>\n",
       "      <td>M</td>\n",
       "      <td>1.0</td>\n",
       "      <td>Books</td>\n",
       "      <td>7</td>\n",
       "      <td>Fiction</td>\n",
       "    </tr>\n",
       "    <tr>\n",
       "      <th>99288</th>\n",
       "      <td>77960931771</td>\n",
       "      <td>271961</td>\n",
       "      <td>25-01-2011</td>\n",
       "      <td>11</td>\n",
       "      <td>5</td>\n",
       "      <td>1</td>\n",
       "      <td>447</td>\n",
       "      <td>46.935</td>\n",
       "      <td>493.935</td>\n",
       "      <td>TeleShop</td>\n",
       "      <td>15-01-1982</td>\n",
       "      <td>M</td>\n",
       "      <td>1.0</td>\n",
       "      <td>Books</td>\n",
       "      <td>12</td>\n",
       "      <td>Academic</td>\n",
       "    </tr>\n",
       "    <tr>\n",
       "      <th>99289</th>\n",
       "      <td>77960931771</td>\n",
       "      <td>271961</td>\n",
       "      <td>25-01-2011</td>\n",
       "      <td>11</td>\n",
       "      <td>5</td>\n",
       "      <td>1</td>\n",
       "      <td>447</td>\n",
       "      <td>46.935</td>\n",
       "      <td>493.935</td>\n",
       "      <td>TeleShop</td>\n",
       "      <td>15-01-1982</td>\n",
       "      <td>M</td>\n",
       "      <td>1.0</td>\n",
       "      <td>Books</td>\n",
       "      <td>10</td>\n",
       "      <td>Non-Fiction</td>\n",
       "    </tr>\n",
       "    <tr>\n",
       "      <th>99290</th>\n",
       "      <td>77960931771</td>\n",
       "      <td>271961</td>\n",
       "      <td>25-01-2011</td>\n",
       "      <td>11</td>\n",
       "      <td>5</td>\n",
       "      <td>1</td>\n",
       "      <td>447</td>\n",
       "      <td>46.935</td>\n",
       "      <td>493.935</td>\n",
       "      <td>TeleShop</td>\n",
       "      <td>15-01-1982</td>\n",
       "      <td>M</td>\n",
       "      <td>1.0</td>\n",
       "      <td>Books</td>\n",
       "      <td>11</td>\n",
       "      <td>Children</td>\n",
       "    </tr>\n",
       "    <tr>\n",
       "      <th>99291</th>\n",
       "      <td>77960931771</td>\n",
       "      <td>271961</td>\n",
       "      <td>25-01-2011</td>\n",
       "      <td>11</td>\n",
       "      <td>5</td>\n",
       "      <td>1</td>\n",
       "      <td>447</td>\n",
       "      <td>46.935</td>\n",
       "      <td>493.935</td>\n",
       "      <td>TeleShop</td>\n",
       "      <td>15-01-1982</td>\n",
       "      <td>M</td>\n",
       "      <td>1.0</td>\n",
       "      <td>Books</td>\n",
       "      <td>3</td>\n",
       "      <td>Comics</td>\n",
       "    </tr>\n",
       "    <tr>\n",
       "      <th>99292</th>\n",
       "      <td>77960931771</td>\n",
       "      <td>271961</td>\n",
       "      <td>25-01-2011</td>\n",
       "      <td>11</td>\n",
       "      <td>5</td>\n",
       "      <td>1</td>\n",
       "      <td>447</td>\n",
       "      <td>46.935</td>\n",
       "      <td>493.935</td>\n",
       "      <td>TeleShop</td>\n",
       "      <td>15-01-1982</td>\n",
       "      <td>M</td>\n",
       "      <td>1.0</td>\n",
       "      <td>Books</td>\n",
       "      <td>6</td>\n",
       "      <td>DIY</td>\n",
       "    </tr>\n",
       "  </tbody>\n",
       "</table>\n",
       "</div>"
      ],
      "text/plain": [
       "       transaction_id  customer_Id   tran_date  prod_subcat_code  \\\n",
       "99283     72870271171       270911  25-01-2011                11   \n",
       "99284     72870271171       270911  25-01-2011                11   \n",
       "99285     72870271171       270911  25-01-2011                11   \n",
       "99286     72870271171       270911  25-01-2011                11   \n",
       "99287     77960931771       271961  25-01-2011                11   \n",
       "99288     77960931771       271961  25-01-2011                11   \n",
       "99289     77960931771       271961  25-01-2011                11   \n",
       "99290     77960931771       271961  25-01-2011                11   \n",
       "99291     77960931771       271961  25-01-2011                11   \n",
       "99292     77960931771       271961  25-01-2011                11   \n",
       "\n",
       "       prod_cat_code  Qty  Rate      Tax  total_amt Store_type         DOB  \\\n",
       "99283              5    3  1142  359.730   3785.730   TeleShop  22-05-1970   \n",
       "99284              5    3  1142  359.730   3785.730   TeleShop  22-05-1970   \n",
       "99285              5    3  1142  359.730   3785.730   TeleShop  22-05-1970   \n",
       "99286              5    3  1142  359.730   3785.730   TeleShop  22-05-1970   \n",
       "99287              5    1   447   46.935    493.935   TeleShop  15-01-1982   \n",
       "99288              5    1   447   46.935    493.935   TeleShop  15-01-1982   \n",
       "99289              5    1   447   46.935    493.935   TeleShop  15-01-1982   \n",
       "99290              5    1   447   46.935    493.935   TeleShop  15-01-1982   \n",
       "99291              5    1   447   46.935    493.935   TeleShop  15-01-1982   \n",
       "99292              5    1   447   46.935    493.935   TeleShop  15-01-1982   \n",
       "\n",
       "      Gender  city_code prod_cat  prod_sub_cat_code  prod_subcat  \n",
       "99283      M        2.0    Books                 10  Non-Fiction  \n",
       "99284      M        2.0    Books                 11     Children  \n",
       "99285      M        2.0    Books                  3       Comics  \n",
       "99286      M        2.0    Books                  6          DIY  \n",
       "99287      M        1.0    Books                  7      Fiction  \n",
       "99288      M        1.0    Books                 12     Academic  \n",
       "99289      M        1.0    Books                 10  Non-Fiction  \n",
       "99290      M        1.0    Books                 11     Children  \n",
       "99291      M        1.0    Books                  3       Comics  \n",
       "99292      M        1.0    Books                  6          DIY  "
      ]
     },
     "execution_count": 23,
     "metadata": {},
     "output_type": "execute_result"
    }
   ],
   "source": [
    "customer_final.tail(10)"
   ]
  },
  {
   "cell_type": "markdown",
   "id": "62645964",
   "metadata": {},
   "source": [
    "# c. “Five-number summary” for continuous variables (min, Q1, median, Q3 and max)"
   ]
  },
  {
   "cell_type": "code",
   "execution_count": 24,
   "id": "12e9e305",
   "metadata": {},
   "outputs": [
    {
     "data": {
      "text/html": [
       "<div>\n",
       "<style scoped>\n",
       "    .dataframe tbody tr th:only-of-type {\n",
       "        vertical-align: middle;\n",
       "    }\n",
       "\n",
       "    .dataframe tbody tr th {\n",
       "        vertical-align: top;\n",
       "    }\n",
       "\n",
       "    .dataframe thead th {\n",
       "        text-align: right;\n",
       "    }\n",
       "</style>\n",
       "<table border=\"1\" class=\"dataframe\">\n",
       "  <thead>\n",
       "    <tr style=\"text-align: right;\">\n",
       "      <th></th>\n",
       "      <th>transaction_id</th>\n",
       "      <th>customer_Id</th>\n",
       "      <th>prod_subcat_code</th>\n",
       "      <th>prod_cat_code</th>\n",
       "      <th>Qty</th>\n",
       "      <th>Rate</th>\n",
       "      <th>Tax</th>\n",
       "      <th>total_amt</th>\n",
       "      <th>city_code</th>\n",
       "      <th>prod_sub_cat_code</th>\n",
       "    </tr>\n",
       "  </thead>\n",
       "  <tbody>\n",
       "    <tr>\n",
       "      <th>count</th>\n",
       "      <td>9.929300e+04</td>\n",
       "      <td>99293.000000</td>\n",
       "      <td>99293.000000</td>\n",
       "      <td>99293.000000</td>\n",
       "      <td>99293.000000</td>\n",
       "      <td>99293.000000</td>\n",
       "      <td>99293.000000</td>\n",
       "      <td>99293.000000</td>\n",
       "      <td>99257.000000</td>\n",
       "      <td>99293.000000</td>\n",
       "    </tr>\n",
       "    <tr>\n",
       "      <th>mean</th>\n",
       "      <td>5.007320e+10</td>\n",
       "      <td>271030.010635</td>\n",
       "      <td>6.796894</td>\n",
       "      <td>4.003243</td>\n",
       "      <td>2.438017</td>\n",
       "      <td>637.919884</td>\n",
       "      <td>248.873736</td>\n",
       "      <td>2114.616420</td>\n",
       "      <td>5.467221</td>\n",
       "      <td>6.806985</td>\n",
       "    </tr>\n",
       "    <tr>\n",
       "      <th>std</th>\n",
       "      <td>2.899361e+10</td>\n",
       "      <td>2429.333624</td>\n",
       "      <td>3.609439</td>\n",
       "      <td>1.563991</td>\n",
       "      <td>2.260726</td>\n",
       "      <td>621.576326</td>\n",
       "      <td>187.014422</td>\n",
       "      <td>2502.306768</td>\n",
       "      <td>2.859343</td>\n",
       "      <td>3.615952</td>\n",
       "    </tr>\n",
       "    <tr>\n",
       "      <th>min</th>\n",
       "      <td>3.268991e+06</td>\n",
       "      <td>266783.000000</td>\n",
       "      <td>1.000000</td>\n",
       "      <td>1.000000</td>\n",
       "      <td>-5.000000</td>\n",
       "      <td>-1499.000000</td>\n",
       "      <td>7.350000</td>\n",
       "      <td>-8270.925000</td>\n",
       "      <td>1.000000</td>\n",
       "      <td>1.000000</td>\n",
       "    </tr>\n",
       "    <tr>\n",
       "      <th>25%</th>\n",
       "      <td>2.492150e+10</td>\n",
       "      <td>268956.000000</td>\n",
       "      <td>4.000000</td>\n",
       "      <td>3.000000</td>\n",
       "      <td>1.000000</td>\n",
       "      <td>313.000000</td>\n",
       "      <td>98.280000</td>\n",
       "      <td>762.450000</td>\n",
       "      <td>3.000000</td>\n",
       "      <td>4.000000</td>\n",
       "    </tr>\n",
       "    <tr>\n",
       "      <th>50%</th>\n",
       "      <td>5.011083e+10</td>\n",
       "      <td>270982.000000</td>\n",
       "      <td>7.000000</td>\n",
       "      <td>5.000000</td>\n",
       "      <td>3.000000</td>\n",
       "      <td>713.000000</td>\n",
       "      <td>199.920000</td>\n",
       "      <td>1761.370000</td>\n",
       "      <td>5.000000</td>\n",
       "      <td>7.000000</td>\n",
       "    </tr>\n",
       "    <tr>\n",
       "      <th>75%</th>\n",
       "      <td>7.528121e+10</td>\n",
       "      <td>273120.000000</td>\n",
       "      <td>10.000000</td>\n",
       "      <td>5.000000</td>\n",
       "      <td>4.000000</td>\n",
       "      <td>1109.000000</td>\n",
       "      <td>366.975000</td>\n",
       "      <td>3585.725000</td>\n",
       "      <td>8.000000</td>\n",
       "      <td>10.000000</td>\n",
       "    </tr>\n",
       "    <tr>\n",
       "      <th>max</th>\n",
       "      <td>9.998755e+10</td>\n",
       "      <td>275265.000000</td>\n",
       "      <td>12.000000</td>\n",
       "      <td>6.000000</td>\n",
       "      <td>5.000000</td>\n",
       "      <td>1500.000000</td>\n",
       "      <td>787.500000</td>\n",
       "      <td>8287.500000</td>\n",
       "      <td>10.000000</td>\n",
       "      <td>12.000000</td>\n",
       "    </tr>\n",
       "  </tbody>\n",
       "</table>\n",
       "</div>"
      ],
      "text/plain": [
       "       transaction_id    customer_Id  prod_subcat_code  prod_cat_code  \\\n",
       "count    9.929300e+04   99293.000000      99293.000000   99293.000000   \n",
       "mean     5.007320e+10  271030.010635          6.796894       4.003243   \n",
       "std      2.899361e+10    2429.333624          3.609439       1.563991   \n",
       "min      3.268991e+06  266783.000000          1.000000       1.000000   \n",
       "25%      2.492150e+10  268956.000000          4.000000       3.000000   \n",
       "50%      5.011083e+10  270982.000000          7.000000       5.000000   \n",
       "75%      7.528121e+10  273120.000000         10.000000       5.000000   \n",
       "max      9.998755e+10  275265.000000         12.000000       6.000000   \n",
       "\n",
       "                Qty          Rate           Tax     total_amt     city_code  \\\n",
       "count  99293.000000  99293.000000  99293.000000  99293.000000  99257.000000   \n",
       "mean       2.438017    637.919884    248.873736   2114.616420      5.467221   \n",
       "std        2.260726    621.576326    187.014422   2502.306768      2.859343   \n",
       "min       -5.000000  -1499.000000      7.350000  -8270.925000      1.000000   \n",
       "25%        1.000000    313.000000     98.280000    762.450000      3.000000   \n",
       "50%        3.000000    713.000000    199.920000   1761.370000      5.000000   \n",
       "75%        4.000000   1109.000000    366.975000   3585.725000      8.000000   \n",
       "max        5.000000   1500.000000    787.500000   8287.500000     10.000000   \n",
       "\n",
       "       prod_sub_cat_code  \n",
       "count       99293.000000  \n",
       "mean            6.806985  \n",
       "std             3.615952  \n",
       "min             1.000000  \n",
       "25%             4.000000  \n",
       "50%             7.000000  \n",
       "75%            10.000000  \n",
       "max            12.000000  "
      ]
     },
     "execution_count": 24,
     "metadata": {},
     "output_type": "execute_result"
    }
   ],
   "source": [
    "customer_final.describe()"
   ]
  },
  {
   "cell_type": "markdown",
   "id": "fd2b7204",
   "metadata": {},
   "source": [
    "# d. Frequency tables for all the categorical variables"
   ]
  },
  {
   "cell_type": "code",
   "execution_count": 25,
   "id": "d28a8b40",
   "metadata": {},
   "outputs": [],
   "source": [
    "category = customer_final.select_dtypes(include= 'object')"
   ]
  },
  {
   "cell_type": "markdown",
   "id": "6ce5acdf",
   "metadata": {},
   "source": [
    "# 3. Generate histograms for all continuous variables and frequency bars for categorical variables."
   ]
  },
  {
   "cell_type": "code",
   "execution_count": 26,
   "id": "8e341f81",
   "metadata": {},
   "outputs": [],
   "source": [
    "continous = customer_final.select_dtypes(include= ['int64', 'float'])"
   ]
  },
  {
   "cell_type": "code",
   "execution_count": 27,
   "id": "c0922fd4",
   "metadata": {},
   "outputs": [
    {
     "data": {
      "text/plain": [
       "<Figure size 1000x1400 with 0 Axes>"
      ]
     },
     "execution_count": 27,
     "metadata": {},
     "output_type": "execute_result"
    },
    {
     "data": {
      "image/png": "[encoded data removed]",
      "text/plain": [
       "<Figure size 640x480 with 1 Axes>"
      ]
     },
     "metadata": {},
     "output_type": "display_data"
    },
    {
     "data": {
      "text/plain": [
       "<Figure size 1000x1400 with 0 Axes>"
      ]
     },
     "metadata": {},
     "output_type": "display_data"
    }
   ],
   "source": [
    "continous['transaction_id'].plot(kind = 'hist', bins = 8)\n",
    "plt.title('Transaction_Id graph')\n",
    "plt.xlabel('X-axis')\n",
    "plt.figure(figsize= (10,14))"
   ]
  },
  {
   "cell_type": "code",
   "execution_count": 28,
   "id": "1cf49e43",
   "metadata": {},
   "outputs": [
    {
     "data": {
      "text/plain": [
       "Text(0.5, 1.0, 'Customer _ids')"
      ]
     },
     "execution_count": 28,
     "metadata": {},
     "output_type": "execute_result"
    },
    {
     "data": {
      "image/png": "[encoded data removed]",
      "text/plain": [
       "<Figure size 640x480 with 1 Axes>"
      ]
     },
     "metadata": {},
     "output_type": "display_data"
    }
   ],
   "source": [
    "continous['customer_Id'].plot(kind='hist', bins = 6)\n",
    "plt.title('Customer _ids')"
   ]
  },
  {
   "cell_type": "code",
   "execution_count": 29,
   "id": "2bb6bff2",
   "metadata": {},
   "outputs": [
    {
     "data": {
      "text/plain": [
       "<Axes: ylabel='Frequency'>"
      ]
     },
     "execution_count": 29,
     "metadata": {},
     "output_type": "execute_result"
    },
    {
     "data": {
      "image/png": "[encoded data removed]",
      "text/plain": [
       "<Figure size 640x480 with 1 Axes>"
      ]
     },
     "metadata": {},
     "output_type": "display_data"
    }
   ],
   "source": [
    "continous['prod_subcat_code'].plot(kind='hist', bins = 4)"
   ]
  },
  {
   "cell_type": "code",
   "execution_count": 30,
   "id": "b4c0dc52",
   "metadata": {},
   "outputs": [
    {
     "data": {
      "text/plain": [
       "<Axes: ylabel='Frequency'>"
      ]
     },
     "execution_count": 30,
     "metadata": {},
     "output_type": "execute_result"
    },
    {
     "data": {
      "image/png": "[encoded data removed]",
      "text/plain": [
       "<Figure size 640x480 with 1 Axes>"
      ]
     },
     "metadata": {},
     "output_type": "display_data"
    }
   ],
   "source": [
    "continous['Qty'].plot(kind='hist', bins = 4)"
   ]
  },
  {
   "cell_type": "code",
   "execution_count": 35,
   "id": "54b48e14",
   "metadata": {},
   "outputs": [
    {
     "data": {
      "text/plain": [
       "<Axes: ylabel='Frequency'>"
      ]
     },
     "execution_count": 35,
     "metadata": {},
     "output_type": "execute_result"
    },
    {
     "data": {
      "image/png": "[encoded data removed]",
      "text/plain": [
       "<Figure size 500x200 with 1 Axes>"
      ]
     },
     "metadata": {},
     "output_type": "display_data"
    }
   ],
   "source": [
    "plt.figure(figsize= (5,2))\n",
    "continous['Rate'].plot(kind='hist', bins = 4)"
   ]
  },
  {
   "cell_type": "code",
   "execution_count": 36,
   "id": "d3bf8ac1",
   "metadata": {},
   "outputs": [
    {
     "data": {
      "text/plain": [
       "<Axes: ylabel='Frequency'>"
      ]
     },
     "execution_count": 36,
     "metadata": {},
     "output_type": "execute_result"
    },
    {
     "data": {
      "image/png": "[encoded data removed]",
      "text/plain": [
       "<Figure size 500x200 with 1 Axes>"
      ]
     },
     "metadata": {},
     "output_type": "display_data"
    }
   ],
   "source": [
    "plt.figure(figsize= (5,2))\n",
    "continous['Tax'].plot(kind='hist', bins = 4)"
   ]
  },
  {
   "cell_type": "code",
   "execution_count": 37,
   "id": "89d621f8",
   "metadata": {},
   "outputs": [
    {
     "data": {
      "text/plain": [
       "<Axes: ylabel='Frequency'>"
      ]
     },
     "execution_count": 37,
     "metadata": {},
     "output_type": "execute_result"
    },
    {
     "data": {
      "image/png": "[encoded data removed]",
      "text/plain": [
       "<Figure size 500x200 with 1 Axes>"
      ]
     },
     "metadata": {},
     "output_type": "display_data"
    }
   ],
   "source": [
    "plt.figure(figsize= (5,2))\n",
    "continous['total_amt'].plot(kind='hist', bins = 4)"
   ]
  },
  {
   "cell_type": "code",
   "execution_count": 38,
   "id": "66eeb5db",
   "metadata": {},
   "outputs": [
    {
     "data": {
      "text/plain": [
       "<Axes: ylabel='Frequency'>"
      ]
     },
     "execution_count": 38,
     "metadata": {},
     "output_type": "execute_result"
    },
    {
     "data": {
      "image/png": "[encoded data removed]",
      "text/plain": [
       "<Figure size 500x200 with 1 Axes>"
      ]
     },
     "metadata": {},
     "output_type": "display_data"
    }
   ],
   "source": [
    "plt.figure(figsize= (5,2))\n",
    "continous['city_code'].plot(kind='hist', bins = 4)"
   ]
  },
  {
   "cell_type": "code",
   "execution_count": 39,
   "id": "14b628ce",
   "metadata": {},
   "outputs": [
    {
     "data": {
      "text/plain": [
       "<Axes: ylabel='Frequency'>"
      ]
     },
     "execution_count": 39,
     "metadata": {},
     "output_type": "execute_result"
    },
    {
     "data": {
      "image/png": "[encoded data removed]",
      "text/plain": [
       "<Figure size 500x200 with 1 Axes>"
      ]
     },
     "metadata": {},
     "output_type": "display_data"
    }
   ],
   "source": [
    "plt.figure(figsize= (5,2))\n",
    "continous['prod_sub_cat_code'].plot(kind='hist', bins = 4)"
   ]
  },
  {
   "cell_type": "code",
   "execution_count": 41,
   "id": "b8c2808d",
   "metadata": {},
   "outputs": [
    {
     "data": {
      "text/plain": [
       "<BarContainer object of 99293 artists>"
      ]
     },
     "execution_count": 41,
     "metadata": {},
     "output_type": "execute_result"
    },
    {
     "data": {
      "image/png": "[encoded data removed]",
      "text/plain": [
       "<Figure size 500x500 with 1 Axes>"
      ]
     },
     "metadata": {},
     "output_type": "display_data"
    }
   ],
   "source": [
    "plt.figure(figsize= (5,5))\n",
    "plt.bar(x= category.prod_cat,height= category.prod_subcat)"
   ]
  },
  {
   "cell_type": "markdown",
   "id": "dac5a69d",
   "metadata": {},
   "source": [
    "# 4. Calculate the following information using the merged dataset :"
   ]
  },
  {
   "cell_type": "markdown",
   "id": "fa562edd",
   "metadata": {},
   "source": [
    "# a. Time period of the available transaction data"
   ]
  },
  {
   "cell_type": "code",
   "execution_count": 42,
   "id": "dbb00ece",
   "metadata": {},
   "outputs": [
    {
     "name": "stderr",
     "output_type": "stream",
     "text": [
      "C:\\Users\\Avinash Dubey\\AppData\\Local\\Temp\\ipykernel_3520\\2830464305.py:1: UserWarning: Parsing dates in DD/MM/YYYY format when dayfirst=False (the default) was specified. This may lead to inconsistently parsed dates! Specify a format to ensure consistent parsing.\n",
      "  customer_final['tran_date'] = pd.to_datetime(customer_final['tran_date'])\n"
     ]
    }
   ],
   "source": [
    "customer_final['tran_date'] = pd.to_datetime(customer_final['tran_date'])"
   ]
  },
  {
   "cell_type": "code",
   "execution_count": 43,
   "id": "4494e862",
   "metadata": {},
   "outputs": [],
   "source": [
    "start_date = customer_final['tran_date'].min()"
   ]
  },
  {
   "cell_type": "code",
   "execution_count": 44,
   "id": "fc68d727",
   "metadata": {},
   "outputs": [],
   "source": [
    "end_date = customer_final['tran_date'].max()"
   ]
  },
  {
   "cell_type": "code",
   "execution_count": 45,
   "id": "919c1775",
   "metadata": {},
   "outputs": [],
   "source": [
    "time_period = end_date-start_date"
   ]
  },
  {
   "cell_type": "code",
   "execution_count": 46,
   "id": "af39277d",
   "metadata": {},
   "outputs": [
    {
     "name": "stdout",
     "output_type": "stream",
     "text": [
      "time_period 1430 days 00:00:00\n"
     ]
    }
   ],
   "source": [
    "print('time_period', time_period)"
   ]
  },
  {
   "cell_type": "markdown",
   "id": "6959d4e0",
   "metadata": {},
   "source": [
    "# b. Count of transactions where the total amount of transaction was negative"
   ]
  },
  {
   "cell_type": "code",
   "execution_count": 47,
   "id": "081a43ec",
   "metadata": {},
   "outputs": [],
   "source": [
    "negative_tran = customer_final[customer_final['total_amt']<0]"
   ]
  },
  {
   "cell_type": "code",
   "execution_count": 48,
   "id": "20bc0e81",
   "metadata": {},
   "outputs": [],
   "source": [
    "count_of_negative_tran = len(negative_tran)"
   ]
  },
  {
   "cell_type": "code",
   "execution_count": 49,
   "id": "3f4ae09e",
   "metadata": {},
   "outputs": [
    {
     "data": {
      "text/plain": [
       "9294"
      ]
     },
     "execution_count": 49,
     "metadata": {},
     "output_type": "execute_result"
    }
   ],
   "source": [
    "count_of_negative_tran"
   ]
  },
  {
   "cell_type": "markdown",
   "id": "22a0d84f",
   "metadata": {},
   "source": [
    "# 5. Analyze which product categories are more popular among females vs male customers."
   ]
  },
  {
   "cell_type": "code",
   "execution_count": 166,
   "id": "441d404e",
   "metadata": {},
   "outputs": [],
   "source": [
    "#customer_final['Gender'].replace({'M'==0, 'F'==1})\n",
    "\n",
    "customer_final['Gender']= np.where(customer_final.Gender== 'M',1,0)"
   ]
  },
  {
   "cell_type": "code",
   "execution_count": 167,
   "id": "919ad118",
   "metadata": {},
   "outputs": [
    {
     "name": "stdout",
     "output_type": "stream",
     "text": [
      "<class 'pandas.core.frame.DataFrame'>\n",
      "Int64Index: 99293 entries, 0 to 99292\n",
      "Data columns (total 16 columns):\n",
      " #   Column             Non-Null Count  Dtype  \n",
      "---  ------             --------------  -----  \n",
      " 0   transaction_id     99293 non-null  int64  \n",
      " 1   customer_Id        99293 non-null  int64  \n",
      " 2   tran_date          99293 non-null  object \n",
      " 3   prod_subcat_code   99293 non-null  int64  \n",
      " 4   prod_cat_code      99293 non-null  int64  \n",
      " 5   Qty                99293 non-null  int64  \n",
      " 6   Rate               99293 non-null  int64  \n",
      " 7   Tax                99293 non-null  float64\n",
      " 8   total_amt          99293 non-null  float64\n",
      " 9   Store_type         99293 non-null  object \n",
      " 10  DOB                99293 non-null  object \n",
      " 11  Gender             99293 non-null  int32  \n",
      " 12  city_code          99257 non-null  float64\n",
      " 13  prod_cat           99293 non-null  object \n",
      " 14  prod_sub_cat_code  99293 non-null  int64  \n",
      " 15  prod_subcat        99293 non-null  object \n",
      "dtypes: float64(3), int32(1), int64(7), object(5)\n",
      "memory usage: 12.5+ MB\n"
     ]
    }
   ],
   "source": [
    "customer_final.info()"
   ]
  },
  {
   "cell_type": "markdown",
   "id": "44619f4d",
   "metadata": {},
   "source": [
    "# 6. Which City code has the maximum customers and what was the percentage of customers from that city?"
   ]
  },
  {
   "cell_type": "code",
   "execution_count": 86,
   "id": "7d006bdd",
   "metadata": {},
   "outputs": [
    {
     "data": {
      "text/plain": [
       "4.0"
      ]
     },
     "execution_count": 86,
     "metadata": {},
     "output_type": "execute_result"
    }
   ],
   "source": [
    "customer_final['city_code'].value_counts().idxmax()"
   ]
  },
  {
   "cell_type": "code",
   "execution_count": 81,
   "id": "aaa12b41",
   "metadata": {},
   "outputs": [
    {
     "data": {
      "text/plain": [
       "99293"
      ]
     },
     "execution_count": 81,
     "metadata": {},
     "output_type": "execute_result"
    }
   ],
   "source": [
    "total_cus= len(customer_final)\n",
    "total_cus"
   ]
  },
  {
   "cell_type": "code",
   "execution_count": 88,
   "id": "628a39f0",
   "metadata": {},
   "outputs": [
    {
     "data": {
      "text/plain": [
       "0.10646269122697471"
      ]
     },
     "execution_count": 88,
     "metadata": {},
     "output_type": "execute_result"
    }
   ],
   "source": [
    "percent_of_cust = customer_final['city_code'].value_counts().max()/total_cus\n",
    "\n",
    "percent_of_cust"
   ]
  },
  {
   "cell_type": "markdown",
   "id": "f0a7d1d5",
   "metadata": {},
   "source": [
    "# 7. Which store type sells the maximum products by value and by quantity?"
   ]
  },
  {
   "cell_type": "code",
   "execution_count": 136,
   "id": "39b6df34",
   "metadata": {},
   "outputs": [
    {
     "data": {
      "text/plain": [
       "e-Shop            40185\n",
       "MBR               19974\n",
       "Flagship store    19814\n",
       "TeleShop          19320\n",
       "Name: Store_type, dtype: int64"
      ]
     },
     "execution_count": 136,
     "metadata": {},
     "output_type": "execute_result"
    }
   ],
   "source": [
    "#customer_final.groupby('Store_type').agg({'prod_cat':'sum', 'Qty':'sum'})\n",
    "\n",
    "customer_final['Store_type'].value_counts()"
   ]
  },
  {
   "cell_type": "markdown",
   "id": "408937e9",
   "metadata": {},
   "source": [
    "# 8. What was the total amount earned from the \"Electronics\" and \"Clothing\" categories from Flagship Stores?"
   ]
  },
  {
   "cell_type": "code",
   "execution_count": 148,
   "id": "e640d051",
   "metadata": {},
   "outputs": [
    {
     "data": {
      "text/plain": [
       "99290    e-Shop\n",
       "99291    e-Shop\n",
       "99292    e-Shop\n",
       "Name: Store_type, dtype: object"
      ]
     },
     "execution_count": 148,
     "metadata": {},
     "output_type": "execute_result"
    }
   ],
   "source": [
    "customer_final.Store_type.tail(3)"
   ]
  },
  {
   "cell_type": "code",
   "execution_count": 155,
   "id": "39863784",
   "metadata": {},
   "outputs": [],
   "source": [
    "cust_filtered= customer_final[(customer_final['Store_type']=='Flagship store') & (customer_final['prod_cat'].isin(['Electronics','Clothing']))]"
   ]
  },
  {
   "cell_type": "code",
   "execution_count": 159,
   "id": "af691505",
   "metadata": {},
   "outputs": [
    {
     "data": {
      "text/plain": [
       "14658949.89"
      ]
     },
     "execution_count": 159,
     "metadata": {},
     "output_type": "execute_result"
    }
   ],
   "source": [
    "total_amt_earned = cust_filtered['total_amt'].sum()\n",
    "\n",
    "total_amt_earned"
   ]
  },
  {
   "cell_type": "markdown",
   "id": "4db646b3",
   "metadata": {},
   "source": [
    "# 9. What was the total amount earned from \"Male\" customers under the \"Electronics\" category?"
   ]
  },
  {
   "cell_type": "code",
   "execution_count": 177,
   "id": "f3a1c7ad",
   "metadata": {},
   "outputs": [],
   "source": [
    "male_cust= customer_final[(customer_final['prod_cat']== 'Electronics') & (customer_final['Gender']== 1)]"
   ]
  },
  {
   "cell_type": "code",
   "execution_count": 180,
   "id": "db16b564",
   "metadata": {},
   "outputs": [],
   "source": [
    "male_total_amt = male_cust['total_amt'].sum()"
   ]
  },
  {
   "cell_type": "markdown",
   "id": "6748046c",
   "metadata": {},
   "source": [
    "# 10. How many customers have more than 10 unique transactions, after removing all transactions which have any negative amounts?"
   ]
  },
  {
   "cell_type": "code",
   "execution_count": 188,
   "id": "f3249a6b",
   "metadata": {},
   "outputs": [
    {
     "data": {
      "text/plain": [
       "customer_Id\n",
       "266783     4\n",
       "266784     3\n",
       "266785     7\n",
       "266788     4\n",
       "266794    11\n",
       "          ..\n",
       "275257     4\n",
       "275261     3\n",
       "275262     2\n",
       "275264     2\n",
       "275265     3\n",
       "Name: transaction_id, Length: 5506, dtype: int64"
      ]
     },
     "execution_count": 188,
     "metadata": {},
     "output_type": "execute_result"
    }
   ],
   "source": [
    "unique_trans = customer_final.groupby('customer_Id')['transaction_id'].nunique()\n",
    "unique_trans"
   ]
  },
  {
   "cell_type": "code",
   "execution_count": 190,
   "id": "9bf01088",
   "metadata": {},
   "outputs": [
    {
     "data": {
      "text/plain": [
       "6"
      ]
     },
     "execution_count": 190,
     "metadata": {},
     "output_type": "execute_result"
    }
   ],
   "source": [
    "(unique_trans>10).sum()"
   ]
  },
  {
   "cell_type": "code",
   "execution_count": null,
   "id": "96d6e8b6",
   "metadata": {},
   "outputs": [],
   "source": []
  }
 ],
 "metadata": {
  "kernelspec": {
   "display_name": "Python 3 (ipykernel)",
   "language": "python",
   "name": "python3"
  },
  "language_info": {
   "codemirror_mode": {
    "name": "ipython",
    "version": 3
   },
   "file_extension": ".py",
   "mimetype": "text/x-python",
   "name": "python",
   "nbconvert_exporter": "python",
   "pygments_lexer": "ipython3",
   "version": "3.11.4"
  }
 },
 "nbformat": 4,
 "nbformat_minor": 5
}
